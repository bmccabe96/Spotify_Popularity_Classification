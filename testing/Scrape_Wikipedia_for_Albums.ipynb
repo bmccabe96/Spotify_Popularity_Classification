{
 "cells": [
  {
   "cell_type": "code",
   "execution_count": 1,
   "metadata": {},
   "outputs": [],
   "source": [
    "import requests\n",
    "from bs4 import BeautifulSoup "
   ]
  },
  {
   "cell_type": "code",
   "execution_count": 71,
   "metadata": {},
   "outputs": [
    {
     "name": "stdout",
     "output_type": "stream",
     "text": [
      "does not exist\n",
      "does not exist\n",
      "exists - \"i\" tag in the html is only assigned to the row containing album name :)\n",
      "does not exist\n",
      "does not exist\n",
      "does not exist\n"
     ]
    }
   ],
   "source": [
    "url = \"https://en.wikipedia.org/wiki/List_of_2018_albums\"\n",
    "page = requests.get(url)\n",
    "soup = BeautifulSoup(page.content, 'html.parser')\n",
    "\n",
    "for i in range(0,6):\n",
    "    if soup.find_all('table', class_ = 'wikitable')[0].find('tbody').find_all('tr')[1:][0].find_all('td')[i].find('i'):\n",
    "        print('exists - \"i\" tag in the html is only assigned to the row containing album name :)')\n",
    "    else:\n",
    "        print('does not exist')\n"
   ]
  },
  {
   "cell_type": "code",
   "execution_count": 64,
   "metadata": {},
   "outputs": [],
   "source": [
    "albums = []\n",
    "\n",
    "\n",
    "for year in range(2015, 2021):\n",
    "    url = \"https://en.wikipedia.org/wiki/List_of_\" + str(year) + \"_albums\"\n",
    "    page = requests.get(url)\n",
    "    soup = BeautifulSoup(page.content, 'html.parser')\n",
    "    \n",
    "    for table in soup.find_all('table', class_ = 'wikitable'):\n",
    "        body = table.find('tbody')\n",
    "        for tr in body.find_all('tr')[1:]:\n",
    "            for td in tr.find_all('td'):\n",
    "                if td.find('i'):\n",
    "                    album = td.text.strip('\\n')\n",
    "                    albums.append((album, year))\n",
    "                    \n"
   ]
  },
  {
   "cell_type": "code",
   "execution_count": 66,
   "metadata": {},
   "outputs": [],
   "source": [
    "import pickle\n",
    "pickle_out = open(\"albums_2015_to_2020.pickle\",\"wb\")\n",
    "pickle.dump(albums, pickle_out)\n",
    "pickle_out.close()"
   ]
  },
  {
   "cell_type": "code",
   "execution_count": 65,
   "metadata": {},
   "outputs": [
    {
     "data": {
      "text/plain": [
       "('Understudy', 2015)"
      ]
     },
     "execution_count": 65,
     "metadata": {},
     "output_type": "execute_result"
    }
   ],
   "source": [
    "albums[0]"
   ]
  },
  {
   "cell_type": "code",
   "execution_count": null,
   "metadata": {},
   "outputs": [],
   "source": []
  }
 ],
 "metadata": {
  "kernelspec": {
   "display_name": "Python 3",
   "language": "python",
   "name": "python3"
  },
  "language_info": {
   "codemirror_mode": {
    "name": "ipython",
    "version": 3
   },
   "file_extension": ".py",
   "mimetype": "text/x-python",
   "name": "python",
   "nbconvert_exporter": "python",
   "pygments_lexer": "ipython3",
   "version": "3.8.3"
  }
 },
 "nbformat": 4,
 "nbformat_minor": 4
}

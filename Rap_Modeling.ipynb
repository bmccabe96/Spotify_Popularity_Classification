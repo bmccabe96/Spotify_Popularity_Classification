{
 "cells": [
  {
   "cell_type": "code",
   "execution_count": 452,
   "metadata": {},
   "outputs": [],
   "source": [
    "# Import some libraries that will be used\n",
    "import pandas as pd\n",
    "import numpy as np\n",
    "import matplotlib.pyplot as plt\n",
    "import seaborn as sns\n",
    "\n",
    "pd.set_option('display.max_columns', 300)\n",
    "\n",
    "%matplotlib inline"
   ]
  },
  {
   "cell_type": "code",
   "execution_count": 453,
   "metadata": {},
   "outputs": [
    {
     "data": {
      "text/html": [
       "<div>\n",
       "<style scoped>\n",
       "    .dataframe tbody tr th:only-of-type {\n",
       "        vertical-align: middle;\n",
       "    }\n",
       "\n",
       "    .dataframe tbody tr th {\n",
       "        vertical-align: top;\n",
       "    }\n",
       "\n",
       "    .dataframe thead th {\n",
       "        text-align: right;\n",
       "    }\n",
       "</style>\n",
       "<table border=\"1\" class=\"dataframe\">\n",
       "  <thead>\n",
       "    <tr style=\"text-align: right;\">\n",
       "      <th></th>\n",
       "      <th>danceability</th>\n",
       "      <th>energy</th>\n",
       "      <th>loudness</th>\n",
       "      <th>musical_mode</th>\n",
       "      <th>speechiness</th>\n",
       "      <th>acousticness</th>\n",
       "      <th>instrumentalness</th>\n",
       "      <th>liveness</th>\n",
       "      <th>valence</th>\n",
       "      <th>tempo</th>\n",
       "      <th>duration_ms</th>\n",
       "      <th>explicit</th>\n",
       "      <th>popular</th>\n",
       "      <th>duration_per_num_sections</th>\n",
       "      <th>key__1</th>\n",
       "      <th>key__2</th>\n",
       "      <th>key__3</th>\n",
       "      <th>key__4</th>\n",
       "      <th>key__5</th>\n",
       "      <th>key__6</th>\n",
       "      <th>key__7</th>\n",
       "      <th>key__8</th>\n",
       "      <th>key__9</th>\n",
       "      <th>key__10</th>\n",
       "      <th>key__11</th>\n",
       "      <th>time_sig__1</th>\n",
       "      <th>time_sig__3</th>\n",
       "      <th>time_sig__4</th>\n",
       "      <th>time_sig__5</th>\n",
       "      <th>no_instruments</th>\n",
       "    </tr>\n",
       "  </thead>\n",
       "  <tbody>\n",
       "    <tr>\n",
       "      <th>0</th>\n",
       "      <td>0.320</td>\n",
       "      <td>0.934</td>\n",
       "      <td>-4.363</td>\n",
       "      <td>0</td>\n",
       "      <td>0.246</td>\n",
       "      <td>0.13400</td>\n",
       "      <td>0.000000</td>\n",
       "      <td>0.0925</td>\n",
       "      <td>0.495</td>\n",
       "      <td>138.982</td>\n",
       "      <td>196476</td>\n",
       "      <td>0</td>\n",
       "      <td>0</td>\n",
       "      <td>21830.666667</td>\n",
       "      <td>0</td>\n",
       "      <td>0</td>\n",
       "      <td>0</td>\n",
       "      <td>1</td>\n",
       "      <td>0</td>\n",
       "      <td>0</td>\n",
       "      <td>0</td>\n",
       "      <td>0</td>\n",
       "      <td>0</td>\n",
       "      <td>0</td>\n",
       "      <td>0</td>\n",
       "      <td>0</td>\n",
       "      <td>0</td>\n",
       "      <td>1</td>\n",
       "      <td>0</td>\n",
       "      <td>1</td>\n",
       "    </tr>\n",
       "    <tr>\n",
       "      <th>1</th>\n",
       "      <td>0.282</td>\n",
       "      <td>0.579</td>\n",
       "      <td>-12.653</td>\n",
       "      <td>0</td>\n",
       "      <td>0.380</td>\n",
       "      <td>0.05240</td>\n",
       "      <td>0.000812</td>\n",
       "      <td>0.0977</td>\n",
       "      <td>0.205</td>\n",
       "      <td>178.866</td>\n",
       "      <td>386556</td>\n",
       "      <td>0</td>\n",
       "      <td>0</td>\n",
       "      <td>20345.052632</td>\n",
       "      <td>0</td>\n",
       "      <td>0</td>\n",
       "      <td>0</td>\n",
       "      <td>0</td>\n",
       "      <td>0</td>\n",
       "      <td>0</td>\n",
       "      <td>0</td>\n",
       "      <td>0</td>\n",
       "      <td>1</td>\n",
       "      <td>0</td>\n",
       "      <td>0</td>\n",
       "      <td>0</td>\n",
       "      <td>0</td>\n",
       "      <td>1</td>\n",
       "      <td>0</td>\n",
       "      <td>0</td>\n",
       "    </tr>\n",
       "    <tr>\n",
       "      <th>2</th>\n",
       "      <td>0.548</td>\n",
       "      <td>0.724</td>\n",
       "      <td>-6.681</td>\n",
       "      <td>0</td>\n",
       "      <td>0.275</td>\n",
       "      <td>0.39000</td>\n",
       "      <td>0.000000</td>\n",
       "      <td>0.4690</td>\n",
       "      <td>0.481</td>\n",
       "      <td>110.066</td>\n",
       "      <td>516000</td>\n",
       "      <td>1</td>\n",
       "      <td>0</td>\n",
       "      <td>25800.000000</td>\n",
       "      <td>0</td>\n",
       "      <td>0</td>\n",
       "      <td>0</td>\n",
       "      <td>0</td>\n",
       "      <td>0</td>\n",
       "      <td>0</td>\n",
       "      <td>1</td>\n",
       "      <td>0</td>\n",
       "      <td>0</td>\n",
       "      <td>0</td>\n",
       "      <td>0</td>\n",
       "      <td>0</td>\n",
       "      <td>0</td>\n",
       "      <td>1</td>\n",
       "      <td>0</td>\n",
       "      <td>1</td>\n",
       "    </tr>\n",
       "    <tr>\n",
       "      <th>3</th>\n",
       "      <td>0.735</td>\n",
       "      <td>0.890</td>\n",
       "      <td>-4.886</td>\n",
       "      <td>0</td>\n",
       "      <td>0.252</td>\n",
       "      <td>0.14800</td>\n",
       "      <td>0.000000</td>\n",
       "      <td>0.3140</td>\n",
       "      <td>0.565</td>\n",
       "      <td>122.014</td>\n",
       "      <td>572547</td>\n",
       "      <td>1</td>\n",
       "      <td>0</td>\n",
       "      <td>28627.350000</td>\n",
       "      <td>0</td>\n",
       "      <td>0</td>\n",
       "      <td>0</td>\n",
       "      <td>0</td>\n",
       "      <td>0</td>\n",
       "      <td>0</td>\n",
       "      <td>0</td>\n",
       "      <td>0</td>\n",
       "      <td>0</td>\n",
       "      <td>1</td>\n",
       "      <td>0</td>\n",
       "      <td>0</td>\n",
       "      <td>0</td>\n",
       "      <td>1</td>\n",
       "      <td>0</td>\n",
       "      <td>1</td>\n",
       "    </tr>\n",
       "    <tr>\n",
       "      <th>4</th>\n",
       "      <td>0.713</td>\n",
       "      <td>0.883</td>\n",
       "      <td>-5.407</td>\n",
       "      <td>0</td>\n",
       "      <td>0.265</td>\n",
       "      <td>0.00588</td>\n",
       "      <td>0.000020</td>\n",
       "      <td>0.7240</td>\n",
       "      <td>0.452</td>\n",
       "      <td>124.967</td>\n",
       "      <td>338627</td>\n",
       "      <td>1</td>\n",
       "      <td>0</td>\n",
       "      <td>19919.235294</td>\n",
       "      <td>0</td>\n",
       "      <td>0</td>\n",
       "      <td>0</td>\n",
       "      <td>0</td>\n",
       "      <td>0</td>\n",
       "      <td>0</td>\n",
       "      <td>1</td>\n",
       "      <td>0</td>\n",
       "      <td>0</td>\n",
       "      <td>0</td>\n",
       "      <td>0</td>\n",
       "      <td>0</td>\n",
       "      <td>0</td>\n",
       "      <td>1</td>\n",
       "      <td>0</td>\n",
       "      <td>0</td>\n",
       "    </tr>\n",
       "  </tbody>\n",
       "</table>\n",
       "</div>"
      ],
      "text/plain": [
       "   danceability  energy  loudness  musical_mode  speechiness  acousticness  \\\n",
       "0         0.320   0.934    -4.363             0        0.246       0.13400   \n",
       "1         0.282   0.579   -12.653             0        0.380       0.05240   \n",
       "2         0.548   0.724    -6.681             0        0.275       0.39000   \n",
       "3         0.735   0.890    -4.886             0        0.252       0.14800   \n",
       "4         0.713   0.883    -5.407             0        0.265       0.00588   \n",
       "\n",
       "   instrumentalness  liveness  valence    tempo  duration_ms  explicit  \\\n",
       "0          0.000000    0.0925    0.495  138.982       196476         0   \n",
       "1          0.000812    0.0977    0.205  178.866       386556         0   \n",
       "2          0.000000    0.4690    0.481  110.066       516000         1   \n",
       "3          0.000000    0.3140    0.565  122.014       572547         1   \n",
       "4          0.000020    0.7240    0.452  124.967       338627         1   \n",
       "\n",
       "   popular  duration_per_num_sections  key__1  key__2  key__3  key__4  key__5  \\\n",
       "0        0               21830.666667       0       0       0       1       0   \n",
       "1        0               20345.052632       0       0       0       0       0   \n",
       "2        0               25800.000000       0       0       0       0       0   \n",
       "3        0               28627.350000       0       0       0       0       0   \n",
       "4        0               19919.235294       0       0       0       0       0   \n",
       "\n",
       "   key__6  key__7  key__8  key__9  key__10  key__11  time_sig__1  time_sig__3  \\\n",
       "0       0       0       0       0        0        0            0            0   \n",
       "1       0       0       0       1        0        0            0            0   \n",
       "2       0       1       0       0        0        0            0            0   \n",
       "3       0       0       0       0        1        0            0            0   \n",
       "4       0       1       0       0        0        0            0            0   \n",
       "\n",
       "   time_sig__4  time_sig__5  no_instruments  \n",
       "0            1            0               1  \n",
       "1            1            0               0  \n",
       "2            1            0               1  \n",
       "3            1            0               1  \n",
       "4            1            0               0  "
      ]
     },
     "execution_count": 453,
     "metadata": {},
     "output_type": "execute_result"
    }
   ],
   "source": [
    "df = pd.read_csv(\"rap_df.csv\").drop('Unnamed: 0', axis=1)\n",
    "df.head()"
   ]
  },
  {
   "cell_type": "markdown",
   "metadata": {},
   "source": [
    "#### Recal the class imbalance and decide how to address\n",
    "- I do not intend to use SMOTE. This artificially creates songs, and I don't want to artificially create songs that are considered popular. I do not believe a machine can accurately replicate a good song by simply using KNN to create new observations.\n",
    "- I will likely use both upsampling and class weight = balanced as means to address class imbalance"
   ]
  },
  {
   "cell_type": "markdown",
   "metadata": {},
   "source": [
    "### Create feature and target data, scaled and unscaled"
   ]
  },
  {
   "cell_type": "code",
   "execution_count": 454,
   "metadata": {},
   "outputs": [],
   "source": [
    "from sklearn.model_selection import train_test_split\n",
    "from sklearn.metrics import accuracy_score, f1_score, confusion_matrix, classification_report\n",
    "from sklearn.metrics import recall_score, precision_score\n",
    "from sklearn.preprocessing import StandardScaler"
   ]
  },
  {
   "cell_type": "code",
   "execution_count": 455,
   "metadata": {},
   "outputs": [],
   "source": [
    "X = df.drop('popular', axis=1)\n",
    "y = df.popular"
   ]
  },
  {
   "cell_type": "code",
   "execution_count": 456,
   "metadata": {},
   "outputs": [],
   "source": [
    "X_train, X_test, y_train, y_test = train_test_split(X, y, test_size=0.20, random_state=42)"
   ]
  },
  {
   "cell_type": "code",
   "execution_count": 457,
   "metadata": {},
   "outputs": [],
   "source": [
    "scaler = StandardScaler()\n",
    "X_train_scaled = scaler.fit_transform(X_train)\n",
    "X_test_scaled = scaler.transform(X_test)"
   ]
  },
  {
   "cell_type": "markdown",
   "metadata": {},
   "source": [
    "### Create upsampled feature and target data, scaled and unscaled"
   ]
  },
  {
   "cell_type": "code",
   "execution_count": 458,
   "metadata": {},
   "outputs": [],
   "source": [
    "from sklearn.utils import resample"
   ]
  },
  {
   "cell_type": "code",
   "execution_count": 459,
   "metadata": {},
   "outputs": [],
   "source": [
    "popular = df[df.popular == 1]\n",
    "not_popular = df[df.popular == 0]"
   ]
  },
  {
   "cell_type": "code",
   "execution_count": 460,
   "metadata": {},
   "outputs": [],
   "source": [
    "popular_upsampled = resample(popular,\n",
    "                          replace=True, # sample with replacement\n",
    "                          n_samples=len(not_popular), # match number in majority class\n",
    "                          random_state=42) "
   ]
  },
  {
   "cell_type": "code",
   "execution_count": 461,
   "metadata": {},
   "outputs": [
    {
     "data": {
      "text/plain": [
       "1    771\n",
       "0    771\n",
       "Name: popular, dtype: int64"
      ]
     },
     "execution_count": 461,
     "metadata": {},
     "output_type": "execute_result"
    }
   ],
   "source": [
    "upsampled = pd.concat([not_popular, popular_upsampled])\n",
    "upsampled.popular.value_counts()"
   ]
  },
  {
   "cell_type": "code",
   "execution_count": 462,
   "metadata": {},
   "outputs": [],
   "source": [
    "X_upsampled = upsampled.drop('popular', axis=1)\n",
    "y_upsampled = upsampled.popular"
   ]
  },
  {
   "cell_type": "code",
   "execution_count": 463,
   "metadata": {},
   "outputs": [],
   "source": [
    "X_train_up, X_test_up, y_train_up, y_test_up = train_test_split(X_upsampled, \n",
    "                                                                y_upsampled, test_size=0.20, random_state=42)"
   ]
  },
  {
   "cell_type": "code",
   "execution_count": 464,
   "metadata": {},
   "outputs": [],
   "source": [
    "scaler = StandardScaler()\n",
    "X_train_up_scaled = scaler.fit_transform(X_train_up)\n",
    "X_test_up_scaled = scaler.transform(X_test_up)"
   ]
  },
  {
   "cell_type": "markdown",
   "metadata": {},
   "source": [
    "### Make a quick function to print accuracy, f1, recall, precision"
   ]
  },
  {
   "cell_type": "code",
   "execution_count": 465,
   "metadata": {},
   "outputs": [],
   "source": [
    "def print_score(y_test, y_pred):\n",
    "    \n",
    "    a = accuracy_score(y_test, y_pred)\n",
    "    f = f1_score(y_test, y_pred)\n",
    "    r = recall_score(y_test, y_pred)\n",
    "    p = precision_score(y_test, y_pred)\n",
    "    return {'accuracy': a, \"f1\": f, 'recall': r, 'precision': p}\n"
   ]
  },
  {
   "cell_type": "markdown",
   "metadata": {},
   "source": [
    "### Try a LogReg Gridsearch"
   ]
  },
  {
   "cell_type": "code",
   "execution_count": 466,
   "metadata": {},
   "outputs": [],
   "source": [
    "from sklearn.linear_model import LogisticRegressionCV, LogisticRegression"
   ]
  },
  {
   "cell_type": "markdown",
   "metadata": {},
   "source": [
    "#### Upsampled"
   ]
  },
  {
   "cell_type": "code",
   "execution_count": 467,
   "metadata": {},
   "outputs": [],
   "source": [
    "upsampled_lr = LogisticRegressionCV(solver='liblinear', cv=10, penalty='l1', Cs = [.001,.01,.1,1,10,100], \n",
    "                                    max_iter=10000, verbose=True, n_jobs=-1, scoring='f1')"
   ]
  },
  {
   "cell_type": "code",
   "execution_count": 468,
   "metadata": {},
   "outputs": [
    {
     "name": "stderr",
     "output_type": "stream",
     "text": [
      "[Parallel(n_jobs=-1)]: Using backend LokyBackend with 8 concurrent workers.\n",
      "[Parallel(n_jobs=-1)]: Done   6 out of  10 | elapsed:    0.1s remaining:    0.1s\n",
      "[Parallel(n_jobs=-1)]: Done  10 out of  10 | elapsed:    0.1s finished\n"
     ]
    },
    {
     "data": {
      "text/plain": [
       "LogisticRegressionCV(Cs=[0.001, 0.01, 0.1, 1, 10, 100], cv=10, max_iter=10000,\n",
       "                     n_jobs=-1, penalty='l1', scoring='f1', solver='liblinear',\n",
       "                     verbose=True)"
      ]
     },
     "execution_count": 468,
     "metadata": {},
     "output_type": "execute_result"
    }
   ],
   "source": [
    "upsampled_lr.fit(X_train_up_scaled, y_train_up)"
   ]
  },
  {
   "cell_type": "code",
   "execution_count": 469,
   "metadata": {},
   "outputs": [
    {
     "data": {
      "text/plain": [
       "array([1.])"
      ]
     },
     "execution_count": 469,
     "metadata": {},
     "output_type": "execute_result"
    }
   ],
   "source": [
    "upsampled_lr.C_"
   ]
  },
  {
   "cell_type": "code",
   "execution_count": 470,
   "metadata": {},
   "outputs": [
    {
     "data": {
      "text/plain": [
       "{'upsampled_lr': {'accuracy': 0.6634304207119741,\n",
       "  'f1': 0.6904761904761905,\n",
       "  'recall': 0.7631578947368421,\n",
       "  'precision': 0.6304347826086957}}"
      ]
     },
     "execution_count": 470,
     "metadata": {},
     "output_type": "execute_result"
    }
   ],
   "source": [
    "pred = upsampled_lr.predict(X_test_up_scaled)\n",
    "result = print_score(y_test_up, pred)\n",
    "results = {'upsampled_lr': result}\n",
    "results"
   ]
  },
  {
   "cell_type": "code",
   "execution_count": 471,
   "metadata": {
    "scrolled": true
   },
   "outputs": [
    {
     "name": "stdout",
     "output_type": "stream",
     "text": [
      "[[ 89  68]\n",
      " [ 36 116]]\n",
      "---------------------------\n",
      "              precision    recall  f1-score   support\n",
      "\n",
      "           0       0.71      0.57      0.63       157\n",
      "           1       0.63      0.76      0.69       152\n",
      "\n",
      "    accuracy                           0.66       309\n",
      "   macro avg       0.67      0.67      0.66       309\n",
      "weighted avg       0.67      0.66      0.66       309\n",
      "\n"
     ]
    }
   ],
   "source": [
    "print(confusion_matrix(y_test_up, pred))\n",
    "print('---------------------------')\n",
    "print(classification_report(y_test_up, pred))\n"
   ]
  },
  {
   "cell_type": "code",
   "execution_count": 472,
   "metadata": {},
   "outputs": [],
   "source": [
    "#print(lr_clf_weighted.coef_.reshape(29))\n",
    "#print(X.columns)\n",
    "features_coefs = zip(X.columns, upsampled_lr.coef_.reshape(29))\n",
    "coefs_df = pd.DataFrame(features_coefs, columns = ['feature', 'coef'])\n",
    "coefs_df = coefs_df.sort_values(by = 'coef')"
   ]
  },
  {
   "cell_type": "code",
   "execution_count": 473,
   "metadata": {},
   "outputs": [],
   "source": [
    "for_bar = pd.concat([coefs_df.head(20), coefs_df.tail(5)]) #Non-zero coefficients"
   ]
  },
  {
   "cell_type": "code",
   "execution_count": 474,
   "metadata": {},
   "outputs": [
    {
     "data": {
      "text/plain": [
       "Text(0, 0.5, '')"
      ]
     },
     "execution_count": 474,
     "metadata": {},
     "output_type": "execute_result"
    },
    {
     "data": {
      "image/png": "[encoded data removed]",
      "text/plain": [
       "<Figure size 720x432 with 1 Axes>"
      ]
     },
     "metadata": {
      "needs_background": "light"
     },
     "output_type": "display_data"
    }
   ],
   "source": [
    "plt.figure(figsize=(10,6))\n",
    "sns.barplot(x='coef', y='feature', data=for_bar)\n",
    "plt.title('LogReg Coefficients Impact (Upscaled)')\n",
    "plt.xlabel('Coefficient (Standard Scaled)')\n",
    "plt.ylabel('')"
   ]
  },
  {
   "cell_type": "markdown",
   "metadata": {},
   "source": [
    "I am optimizing for f1 score. Unlike industries such as healthcare or predicting credit card fraud, I do not believe that recall / precision importance far outweighs the other. If we have a high recall, then we did well in the sense that our model predicts popular songs well out of all songs that should be popular. This is important -- we do not want to miss label songs that truly are popular. If we have high precision, than of all the songs we predicted to be true, X% turned out to actually be true. While in my opinion less important than recall, I think this is not something to be pushed aside. Hence, I will optimize for f1.\n",
    "\n",
    "From the above model, the best result from logistic upscaled regression utilized unscaled (scaled resulted in roughly the same but slightly worse -- 89 in the true negative instead of 90). However, for the sake of a chart to show coefficients, I will use the scaled data.\n",
    "\n",
    "76% recall is not bad, but I will continue trying other models as the notebook progresses."
   ]
  },
  {
   "cell_type": "markdown",
   "metadata": {},
   "source": [
    "#### Weighted"
   ]
  },
  {
   "cell_type": "code",
   "execution_count": 475,
   "metadata": {},
   "outputs": [],
   "source": [
    "lr_clf_weighted = LogisticRegressionCV(solver='liblinear', class_weight='balanced', Cs = [.001,.01,.1,1,10,100],\n",
    "                                      cv=10, penalty='l1', scoring = 'f1', max_iter=10000,\n",
    "                                       verbose=True, n_jobs=-1)"
   ]
  },
  {
   "cell_type": "code",
   "execution_count": 476,
   "metadata": {},
   "outputs": [
    {
     "name": "stderr",
     "output_type": "stream",
     "text": [
      "[Parallel(n_jobs=-1)]: Using backend LokyBackend with 8 concurrent workers.\n",
      "[Parallel(n_jobs=-1)]: Done   6 out of  10 | elapsed:    0.1s remaining:    0.1s\n",
      "[Parallel(n_jobs=-1)]: Done  10 out of  10 | elapsed:    0.1s finished\n"
     ]
    },
    {
     "data": {
      "text/plain": [
       "LogisticRegressionCV(Cs=[0.001, 0.01, 0.1, 1, 10, 100], class_weight='balanced',\n",
       "                     cv=10, max_iter=10000, n_jobs=-1, penalty='l1',\n",
       "                     scoring='f1', solver='liblinear', verbose=True)"
      ]
     },
     "execution_count": 476,
     "metadata": {},
     "output_type": "execute_result"
    }
   ],
   "source": [
    "lr_clf_weighted.fit(X_train_scaled, y_train)"
   ]
  },
  {
   "cell_type": "code",
   "execution_count": 477,
   "metadata": {},
   "outputs": [
    {
     "data": {
      "text/plain": [
       "array([0.1])"
      ]
     },
     "execution_count": 477,
     "metadata": {},
     "output_type": "execute_result"
    }
   ],
   "source": [
    "lr_clf_weighted.C_"
   ]
  },
  {
   "cell_type": "code",
   "execution_count": 478,
   "metadata": {},
   "outputs": [
    {
     "data": {
      "text/plain": [
       "{'upsampled_lr': {'accuracy': 0.6634304207119741,\n",
       "  'f1': 0.6904761904761905,\n",
       "  'recall': 0.7631578947368421,\n",
       "  'precision': 0.6304347826086957},\n",
       " 'lr_clf_weighted': {'accuracy': 0.6302521008403361,\n",
       "  'f1': 0.5925925925925926,\n",
       "  'recall': 0.810126582278481,\n",
       "  'precision': 0.46715328467153283}}"
      ]
     },
     "execution_count": 478,
     "metadata": {},
     "output_type": "execute_result"
    }
   ],
   "source": [
    "pred = lr_clf_weighted.predict(X_test_scaled)\n",
    "result = print_score(y_test, pred)\n",
    "results['lr_clf_weighted'] = result\n",
    "results"
   ]
  },
  {
   "cell_type": "code",
   "execution_count": 479,
   "metadata": {},
   "outputs": [
    {
     "name": "stdout",
     "output_type": "stream",
     "text": [
      "[[86 73]\n",
      " [15 64]]\n",
      "---------------------------\n",
      "              precision    recall  f1-score   support\n",
      "\n",
      "           0       0.85      0.54      0.66       159\n",
      "           1       0.47      0.81      0.59        79\n",
      "\n",
      "    accuracy                           0.63       238\n",
      "   macro avg       0.66      0.68      0.63       238\n",
      "weighted avg       0.72      0.63      0.64       238\n",
      "\n"
     ]
    }
   ],
   "source": [
    "print(confusion_matrix(y_test, pred))\n",
    "print('---------------------------')\n",
    "print(classification_report(y_test, pred))"
   ]
  },
  {
   "cell_type": "code",
   "execution_count": 480,
   "metadata": {},
   "outputs": [],
   "source": [
    "#print(lr_clf_weighted.coef_.reshape(29))\n",
    "#print(X.columns)\n",
    "features_coefs = zip(X.columns, lr_clf_weighted.coef_.reshape(29))\n",
    "coefs_df = pd.DataFrame(features_coefs, columns = ['feature', 'coef'])\n",
    "coefs_df = coefs_df.sort_values(by = 'coef')"
   ]
  },
  {
   "cell_type": "code",
   "execution_count": 481,
   "metadata": {},
   "outputs": [],
   "source": [
    "for_bar = pd.concat([coefs_df.head(11), coefs_df.tail(7)]) ## Non-zero coefficients"
   ]
  },
  {
   "cell_type": "code",
   "execution_count": 482,
   "metadata": {},
   "outputs": [
    {
     "data": {
      "text/plain": [
       "Text(0, 0.5, '')"
      ]
     },
     "execution_count": 482,
     "metadata": {},
     "output_type": "execute_result"
    },
    {
     "data": {
      "image/png": "[encoded data removed]",
      "text/plain": [
       "<Figure size 720x288 with 1 Axes>"
      ]
     },
     "metadata": {
      "needs_background": "light"
     },
     "output_type": "display_data"
    }
   ],
   "source": [
    "plt.figure(figsize=(10,4))\n",
    "sns.barplot(x='coef', y='feature', data=for_bar)\n",
    "plt.title('LogReg Coefficients Impact  (Weighted)')\n",
    "plt.xlabel('Coefficient (Standard Scaled)')\n",
    "plt.ylabel('')"
   ]
  },
  {
   "cell_type": "markdown",
   "metadata": {},
   "source": [
    "Precision suffered a lot in this model, and accuracy went down as well. However, Recall is our best yet. I probably prefer the first model to this one due to the f1 score."
   ]
  },
  {
   "cell_type": "markdown",
   "metadata": {},
   "source": [
    "### Try a Pruned Decision Tree on Upsampled Data"
   ]
  },
  {
   "cell_type": "code",
   "execution_count": 483,
   "metadata": {},
   "outputs": [],
   "source": [
    "from sklearn.tree import DecisionTreeClassifier, plot_tree, export_graphviz\n",
    "from sklearn.model_selection import GridSearchCV"
   ]
  },
  {
   "cell_type": "code",
   "execution_count": 484,
   "metadata": {},
   "outputs": [],
   "source": [
    "decision_tree = DecisionTreeClassifier()\n",
    "# creating our parameters to test\n",
    "# note these values have been iterrated through multiple times and this cell represents the final state\n",
    "param_dict={'max_depth': [8,9,10,11],\n",
    "            'min_samples_leaf' : [1,2],\n",
    "            'criterion': ['gini'], \n",
    "            'min_samples_split' : [6,7,8],\n",
    "            'max_features': [8,9,10]}"
   ]
  },
  {
   "cell_type": "code",
   "execution_count": 485,
   "metadata": {},
   "outputs": [
    {
     "name": "stdout",
     "output_type": "stream",
     "text": [
      "Fitting 10 folds for each of 72 candidates, totalling 720 fits\n"
     ]
    },
    {
     "name": "stderr",
     "output_type": "stream",
     "text": [
      "[Parallel(n_jobs=-1)]: Using backend LokyBackend with 8 concurrent workers.\n",
      "[Parallel(n_jobs=-1)]: Done  56 tasks      | elapsed:    0.2s\n",
      "[Parallel(n_jobs=-1)]: Done 720 out of 720 | elapsed:    1.4s finished\n"
     ]
    },
    {
     "data": {
      "text/plain": [
       "GridSearchCV(cv=10, estimator=DecisionTreeClassifier(), n_jobs=-1,\n",
       "             param_grid={'criterion': ['gini'], 'max_depth': [8, 9, 10, 11],\n",
       "                         'max_features': [8, 9, 10], 'min_samples_leaf': [1, 2],\n",
       "                         'min_samples_split': [6, 7, 8]},\n",
       "             scoring='f1', verbose=1)"
      ]
     },
     "execution_count": 485,
     "metadata": {},
     "output_type": "execute_result"
    }
   ],
   "source": [
    "#create the instance of GridSearchCV using the recall metric for our scoring. \n",
    "grid_tree=GridSearchCV(decision_tree, param_dict, cv=10, scoring='f1', n_jobs=-1, verbose=1)\n",
    "#fit the Gridsearch to our data\n",
    "grid_tree.fit(X_train_up ,y_train_up)"
   ]
  },
  {
   "cell_type": "code",
   "execution_count": 486,
   "metadata": {},
   "outputs": [
    {
     "name": "stdout",
     "output_type": "stream",
     "text": [
      "0.7535860350313568\n",
      "{'criterion': 'gini', 'max_depth': 11, 'max_features': 8, 'min_samples_leaf': 1, 'min_samples_split': 7}\n",
      "DecisionTreeClassifier(max_depth=11, max_features=8, min_samples_split=7)\n"
     ]
    }
   ],
   "source": [
    "print(grid_tree.best_score_)\n",
    "print(grid_tree.best_params_)\n",
    "print(grid_tree.best_estimator_)"
   ]
  },
  {
   "cell_type": "code",
   "execution_count": 487,
   "metadata": {},
   "outputs": [
    {
     "data": {
      "text/plain": [
       "{'upsampled_lr': {'accuracy': 0.6634304207119741,\n",
       "  'f1': 0.6904761904761905,\n",
       "  'recall': 0.7631578947368421,\n",
       "  'precision': 0.6304347826086957},\n",
       " 'lr_clf_weighted': {'accuracy': 0.6302521008403361,\n",
       "  'f1': 0.5925925925925926,\n",
       "  'recall': 0.810126582278481,\n",
       "  'precision': 0.46715328467153283},\n",
       " 'decision_tree_upscaled': {'accuracy': 0.7249190938511327,\n",
       "  'f1': 0.743202416918429,\n",
       "  'recall': 0.8092105263157895,\n",
       "  'precision': 0.6871508379888268}}"
      ]
     },
     "execution_count": 487,
     "metadata": {},
     "output_type": "execute_result"
    }
   ],
   "source": [
    "pred = grid_tree.best_estimator_.predict(X_test_up)\n",
    "result = print_score(y_test_up, pred)\n",
    "results['decision_tree_upscaled'] = result\n",
    "results"
   ]
  },
  {
   "cell_type": "code",
   "execution_count": 488,
   "metadata": {},
   "outputs": [
    {
     "name": "stdout",
     "output_type": "stream",
     "text": [
      "[[101  56]\n",
      " [ 29 123]]\n",
      "---------------------------\n",
      "              precision    recall  f1-score   support\n",
      "\n",
      "           0       0.78      0.64      0.70       157\n",
      "           1       0.69      0.81      0.74       152\n",
      "\n",
      "    accuracy                           0.72       309\n",
      "   macro avg       0.73      0.73      0.72       309\n",
      "weighted avg       0.73      0.72      0.72       309\n",
      "\n"
     ]
    }
   ],
   "source": [
    "print(confusion_matrix(y_test_up, pred))\n",
    "print('---------------------------')\n",
    "print(classification_report(y_test_up, pred))"
   ]
  },
  {
   "cell_type": "code",
   "execution_count": 489,
   "metadata": {},
   "outputs": [],
   "source": [
    "features_coefs = zip(X.columns, grid_tree.best_estimator_.feature_importances_)\n",
    "coefs_df = pd.DataFrame(features_coefs, columns = ['feature', 'coef'])\n",
    "coefs_df = coefs_df.sort_values(by = 'coef')"
   ]
  },
  {
   "cell_type": "code",
   "execution_count": 490,
   "metadata": {},
   "outputs": [],
   "source": [
    "for_bar = coefs_df[coefs_df.coef != 0]## Non-zero coefficients"
   ]
  },
  {
   "cell_type": "code",
   "execution_count": 491,
   "metadata": {},
   "outputs": [
    {
     "data": {
      "text/plain": [
       "Text(0, 0.5, '')"
      ]
     },
     "execution_count": 491,
     "metadata": {},
     "output_type": "execute_result"
    },
    {
     "data": {
      "image/png": "[encoded data removed]",
      "text/plain": [
       "<Figure size 720x288 with 1 Axes>"
      ]
     },
     "metadata": {
      "needs_background": "light"
     },
     "output_type": "display_data"
    }
   ],
   "source": [
    "plt.figure(figsize=(10,4))\n",
    "sns.barplot(x='coef', y='feature', data=for_bar)\n",
    "plt.title('Decision Tree Feature Importance (Upscaled)')\n",
    "plt.xlabel('Importance')\n",
    "plt.ylabel('')"
   ]
  },
  {
   "cell_type": "code",
   "execution_count": 492,
   "metadata": {},
   "outputs": [
    {
     "data": {
      "image/png": "[encoded data removed]",
      "text/plain": [
       "<Figure size 1440x432 with 1 Axes>"
      ]
     },
     "metadata": {
      "needs_background": "light"
     },
     "output_type": "display_data"
    }
   ],
   "source": [
    "# Decision tree is huge so we can't nicely visualize it all, but the below it just to get an idea of the \n",
    "# first few layers\n",
    "plt.figure(figsize=(20,6))\n",
    "plot_tree(grid_tree.best_estimator_, max_depth=3, fontsize=10, feature_names=X.columns)\n",
    "plt.show()"
   ]
  },
  {
   "cell_type": "markdown",
   "metadata": {},
   "source": [
    "From every metric, this is our best model yet. It makes sense since our dataset has some noisy data (trees perform well here), as seen in the histograms from the EDA notebook.\n",
    "\n",
    "I will try a decision tree using weighted data next, to see if that is any better."
   ]
  },
  {
   "cell_type": "markdown",
   "metadata": {},
   "source": [
    "### Try a Pruned Decision Tree on Weighted Data"
   ]
  },
  {
   "cell_type": "code",
   "execution_count": 498,
   "metadata": {},
   "outputs": [],
   "source": [
    "decision_tree = DecisionTreeClassifier()\n",
    "# creating our parameters to test\n",
    "# note these values have been iterrated through multiple times and this cell represents the final state\n",
    "param_dict={'max_depth': np.arange(0,4,1),\n",
    "            'min_samples_leaf' : np.arange(0,8,1),\n",
    "            'criterion': ['gini', 'entropy'], \n",
    "            'min_samples_split' : np.arange(8,16,1),\n",
    "            'class_weight': ['balanced'],\n",
    "            'max_features': np.arange(0,9,1)}"
   ]
  },
  {
   "cell_type": "code",
   "execution_count": 499,
   "metadata": {},
   "outputs": [
    {
     "name": "stdout",
     "output_type": "stream",
     "text": [
      "Fitting 10 folds for each of 4608 candidates, totalling 46080 fits\n"
     ]
    },
    {
     "name": "stderr",
     "output_type": "stream",
     "text": [
      "[Parallel(n_jobs=-1)]: Using backend LokyBackend with 8 concurrent workers.\n",
      "[Parallel(n_jobs=-1)]: Done  34 tasks      | elapsed:    2.2s\n",
      "[Parallel(n_jobs=-1)]: Done 7184 tasks      | elapsed:    5.3s\n",
      "[Parallel(n_jobs=-1)]: Done 39184 tasks      | elapsed:   22.5s\n",
      "[Parallel(n_jobs=-1)]: Done 46080 out of 46080 | elapsed:   26.0s finished\n"
     ]
    },
    {
     "data": {
      "text/plain": [
       "GridSearchCV(cv=10, estimator=DecisionTreeClassifier(), n_jobs=-1,\n",
       "             param_grid={'class_weight': ['balanced'],\n",
       "                         'criterion': ['gini', 'entropy'],\n",
       "                         'max_depth': array([0, 1, 2, 3]),\n",
       "                         'max_features': array([0, 1, 2, 3, 4, 5, 6, 7, 8]),\n",
       "                         'min_samples_leaf': array([0, 1, 2, 3, 4, 5, 6, 7]),\n",
       "                         'min_samples_split': array([ 8,  9, 10, 11, 12, 13, 14, 15])},\n",
       "             scoring='f1', verbose=1)"
      ]
     },
     "execution_count": 499,
     "metadata": {},
     "output_type": "execute_result"
    }
   ],
   "source": [
    "#create the instance of GridSearchCV using the recall metric for our scoring. \n",
    "grid_tree=GridSearchCV(decision_tree, param_dict, cv=10, scoring='f1', n_jobs=-1, verbose=1)\n",
    "#fit the Gridsearch to our data\n",
    "grid_tree.fit(X_train_scaled ,y_train)"
   ]
  },
  {
   "cell_type": "code",
   "execution_count": 503,
   "metadata": {},
   "outputs": [
    {
     "name": "stdout",
     "output_type": "stream",
     "text": [
      "0.5881453939479486\n",
      "{'class_weight': 'balanced', 'criterion': 'gini', 'max_depth': 2, 'max_features': 5, 'min_samples_leaf': 3, 'min_samples_split': 13}\n",
      "DecisionTreeClassifier(class_weight='balanced', max_depth=2, max_features=5,\n",
      "                       min_samples_leaf=3, min_samples_split=13)\n"
     ]
    }
   ],
   "source": [
    "print(grid_tree.best_score_)\n",
    "print(grid_tree.best_params_)\n",
    "print(grid_tree.best_estimator_)"
   ]
  },
  {
   "cell_type": "code",
   "execution_count": 504,
   "metadata": {},
   "outputs": [
    {
     "data": {
      "text/plain": [
       "{'upsampled_lr': {'accuracy': 0.6634304207119741,\n",
       "  'f1': 0.6904761904761905,\n",
       "  'recall': 0.7631578947368421,\n",
       "  'precision': 0.6304347826086957},\n",
       " 'lr_clf_weighted': {'accuracy': 0.6302521008403361,\n",
       "  'f1': 0.5925925925925926,\n",
       "  'recall': 0.810126582278481,\n",
       "  'precision': 0.46715328467153283},\n",
       " 'decision_tree_upscaled': {'accuracy': 0.7249190938511327,\n",
       "  'f1': 0.743202416918429,\n",
       "  'recall': 0.8092105263157895,\n",
       "  'precision': 0.6871508379888268},\n",
       " 'decision_tree_weighted': {'accuracy': 0.47058823529411764,\n",
       "  'f1': 0.4878048780487806,\n",
       "  'recall': 0.759493670886076,\n",
       "  'precision': 0.3592814371257485}}"
      ]
     },
     "execution_count": 504,
     "metadata": {},
     "output_type": "execute_result"
    }
   ],
   "source": [
    "pred = grid_tree.best_estimator_.predict(X_test_scaled)\n",
    "result = print_score(y_test, pred)\n",
    "results['decision_tree_weighted'] = result\n",
    "results"
   ]
  },
  {
   "cell_type": "code",
   "execution_count": 505,
   "metadata": {},
   "outputs": [
    {
     "name": "stdout",
     "output_type": "stream",
     "text": [
      "[[ 52 107]\n",
      " [ 19  60]]\n",
      "---------------------------\n",
      "              precision    recall  f1-score   support\n",
      "\n",
      "           0       0.73      0.33      0.45       159\n",
      "           1       0.36      0.76      0.49        79\n",
      "\n",
      "    accuracy                           0.47       238\n",
      "   macro avg       0.55      0.54      0.47       238\n",
      "weighted avg       0.61      0.47      0.46       238\n",
      "\n"
     ]
    }
   ],
   "source": [
    "print(confusion_matrix(y_test, pred))\n",
    "print('---------------------------')\n",
    "print(classification_report(y_test, pred))"
   ]
  },
  {
   "cell_type": "markdown",
   "metadata": {},
   "source": [
    "I am not even going to bother printing out a chart of important features or the first few levels of a tree. This tree performed far worse than the upscaled one. Balancing by class weights does not appear to be effective for this dataset."
   ]
  },
  {
   "cell_type": "markdown",
   "metadata": {},
   "source": [
    "### Try a Random Forest Using Upscaled Data"
   ]
  },
  {
   "cell_type": "code",
   "execution_count": 506,
   "metadata": {},
   "outputs": [],
   "source": [
    "from sklearn.ensemble import RandomForestClassifier"
   ]
  },
  {
   "cell_type": "code",
   "execution_count": 531,
   "metadata": {},
   "outputs": [],
   "source": [
    "#create a dictionary of all the parameters you want to tune\n",
    "# note i ran through this a couple times, starting with a lot more options and honed in, so this represents \n",
    "# the last run where I was sure params were optimized\n",
    "param_grid = { \n",
    "    'n_estimators': [300],\n",
    "    'criterion': ['gini'],\n",
    "    'max_depth': [20,21,22],\n",
    "    'max_features': [5,6],\n",
    "    'min_samples_split': [4],\n",
    "    'min_samples_leaf': [1]\n",
    "}"
   ]
  },
  {
   "cell_type": "code",
   "execution_count": 532,
   "metadata": {},
   "outputs": [
    {
     "name": "stdout",
     "output_type": "stream",
     "text": [
      "Fitting 5 folds for each of 6 candidates, totalling 30 fits\n"
     ]
    },
    {
     "name": "stderr",
     "output_type": "stream",
     "text": [
      "[Parallel(n_jobs=-1)]: Using backend LokyBackend with 8 concurrent workers.\n",
      "[Parallel(n_jobs=-1)]: Done  30 out of  30 | elapsed:    4.5s finished\n"
     ]
    },
    {
     "data": {
      "text/plain": [
       "GridSearchCV(cv=5, estimator=RandomForestClassifier(), n_jobs=-1,\n",
       "             param_grid={'criterion': ['gini'], 'max_depth': [20, 21, 22],\n",
       "                         'max_features': [5, 6], 'min_samples_leaf': [1],\n",
       "                         'min_samples_split': [4], 'n_estimators': [300]},\n",
       "             scoring='f1', verbose=1)"
      ]
     },
     "execution_count": 532,
     "metadata": {},
     "output_type": "execute_result"
    }
   ],
   "source": [
    "grid_forest=GridSearchCV(RandomForestClassifier(), param_grid, cv=5, scoring='f1', verbose=1, n_jobs=-1)\n",
    "grid_forest.fit(X_train_up, y_train_up)"
   ]
  },
  {
   "cell_type": "code",
   "execution_count": 533,
   "metadata": {},
   "outputs": [
    {
     "name": "stdout",
     "output_type": "stream",
     "text": [
      "0.8235227559902668\n",
      "{'criterion': 'gini', 'max_depth': 22, 'max_features': 5, 'min_samples_leaf': 1, 'min_samples_split': 4, 'n_estimators': 300}\n",
      "RandomForestClassifier(max_depth=22, max_features=5, min_samples_split=4,\n",
      "                       n_estimators=300)\n"
     ]
    }
   ],
   "source": [
    "print(grid_forest.best_score_)\n",
    "print(grid_forest.best_params_)\n",
    "print(grid_forest.best_estimator_)"
   ]
  },
  {
   "cell_type": "code",
   "execution_count": 534,
   "metadata": {},
   "outputs": [
    {
     "data": {
      "text/plain": [
       "{'upsampled_lr': {'accuracy': 0.6634304207119741,\n",
       "  'f1': 0.6904761904761905,\n",
       "  'recall': 0.7631578947368421,\n",
       "  'precision': 0.6304347826086957},\n",
       " 'lr_clf_weighted': {'accuracy': 0.6302521008403361,\n",
       "  'f1': 0.5925925925925926,\n",
       "  'recall': 0.810126582278481,\n",
       "  'precision': 0.46715328467153283},\n",
       " 'decision_tree_upscaled': {'accuracy': 0.7249190938511327,\n",
       "  'f1': 0.743202416918429,\n",
       "  'recall': 0.8092105263157895,\n",
       "  'precision': 0.6871508379888268},\n",
       " 'decision_tree_weighted': {'accuracy': 0.47058823529411764,\n",
       "  'f1': 0.4878048780487806,\n",
       "  'recall': 0.759493670886076,\n",
       "  'precision': 0.3592814371257485},\n",
       " 'random_forest_up': {'accuracy': 0.8284789644012945,\n",
       "  'f1': 0.830670926517572,\n",
       "  'recall': 0.8552631578947368,\n",
       "  'precision': 0.8074534161490683}}"
      ]
     },
     "execution_count": 534,
     "metadata": {},
     "output_type": "execute_result"
    }
   ],
   "source": [
    "pred = grid_forest.best_estimator_.predict(X_test_up)\n",
    "result = print_score(y_test_up, pred)\n",
    "results['random_forest_up'] = result\n",
    "results"
   ]
  },
  {
   "cell_type": "markdown",
   "metadata": {},
   "source": [
    "After tuning this random forest by updating the param grid multiple times to hone in on the best model, I have landed at what I think is the best random forest possible given my data. The scores are incredible. Almost 10% better on the f1 score than my best decision tree, which was already way better than the logistic regression. Very happy with this score. This data set was a little noisy, which explains the success of tree algorithms. Random forest outperforming decision tree makes sense given that it is an ensemble than generally outperforms a single model (at the sake of interpreting it though)\n",
    "\n",
    "Will try XGBoost below, and then finally a voting classifier with all my models"
   ]
  },
  {
   "cell_type": "code",
   "execution_count": null,
   "metadata": {},
   "outputs": [],
   "source": []
  },
  {
   "cell_type": "markdown",
   "metadata": {},
   "source": [
    "### Try an XGBoost"
   ]
  },
  {
   "cell_type": "code",
   "execution_count": null,
   "metadata": {},
   "outputs": [],
   "source": []
  },
  {
   "cell_type": "code",
   "execution_count": null,
   "metadata": {},
   "outputs": [],
   "source": []
  },
  {
   "cell_type": "code",
   "execution_count": null,
   "metadata": {},
   "outputs": [],
   "source": []
  },
  {
   "cell_type": "markdown",
   "metadata": {},
   "source": [
    "### Try a Voting Classifier"
   ]
  },
  {
   "cell_type": "code",
   "execution_count": null,
   "metadata": {},
   "outputs": [],
   "source": []
  },
  {
   "cell_type": "code",
   "execution_count": null,
   "metadata": {},
   "outputs": [],
   "source": []
  },
  {
   "cell_type": "code",
   "execution_count": null,
   "metadata": {},
   "outputs": [],
   "source": []
  },
  {
   "cell_type": "code",
   "execution_count": null,
   "metadata": {},
   "outputs": [],
   "source": []
  }
 ],
 "metadata": {
  "kernelspec": {
   "display_name": "Python 3",
   "language": "python",
   "name": "python3"
  },
  "language_info": {
   "codemirror_mode": {
    "name": "ipython",
    "version": 3
   },
   "file_extension": ".py",
   "mimetype": "text/x-python",
   "name": "python",
   "nbconvert_exporter": "python",
   "pygments_lexer": "ipython3",
   "version": "3.8.3"
  }
 },
 "nbformat": 4,
 "nbformat_minor": 4
}

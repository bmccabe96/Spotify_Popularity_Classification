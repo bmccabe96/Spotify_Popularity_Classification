{
 "cells": [
  {
   "cell_type": "code",
   "execution_count": 1,
   "metadata": {},
   "outputs": [],
   "source": [
    "# Import some libraries that will be used\n",
    "import pandas as pd\n",
    "import numpy as np\n",
    "import matplotlib.pyplot as plt\n",
    "import seaborn as sns\n",
    "\n",
    "pd.set_option('display.max_columns', 300)\n",
    "\n",
    "%matplotlib inline"
   ]
  },
  {
   "cell_type": "code",
   "execution_count": 2,
   "metadata": {},
   "outputs": [
    {
     "data": {
      "text/html": [
       "<div>\n",
       "<style scoped>\n",
       "    .dataframe tbody tr th:only-of-type {\n",
       "        vertical-align: middle;\n",
       "    }\n",
       "\n",
       "    .dataframe tbody tr th {\n",
       "        vertical-align: top;\n",
       "    }\n",
       "\n",
       "    .dataframe thead th {\n",
       "        text-align: right;\n",
       "    }\n",
       "</style>\n",
       "<table border=\"1\" class=\"dataframe\">\n",
       "  <thead>\n",
       "    <tr style=\"text-align: right;\">\n",
       "      <th></th>\n",
       "      <th>danceability</th>\n",
       "      <th>energy</th>\n",
       "      <th>loudness</th>\n",
       "      <th>musical_mode</th>\n",
       "      <th>speechiness</th>\n",
       "      <th>acousticness</th>\n",
       "      <th>instrumentalness</th>\n",
       "      <th>liveness</th>\n",
       "      <th>valence</th>\n",
       "      <th>tempo</th>\n",
       "      <th>duration_ms</th>\n",
       "      <th>explicit</th>\n",
       "      <th>popular</th>\n",
       "      <th>duration_per_num_sections</th>\n",
       "      <th>key__1</th>\n",
       "      <th>key__2</th>\n",
       "      <th>key__3</th>\n",
       "      <th>key__4</th>\n",
       "      <th>key__5</th>\n",
       "      <th>key__6</th>\n",
       "      <th>key__7</th>\n",
       "      <th>key__8</th>\n",
       "      <th>key__9</th>\n",
       "      <th>key__10</th>\n",
       "      <th>key__11</th>\n",
       "      <th>time_sig__1</th>\n",
       "      <th>time_sig__3</th>\n",
       "      <th>time_sig__4</th>\n",
       "      <th>time_sig__5</th>\n",
       "      <th>no_instruments</th>\n",
       "    </tr>\n",
       "  </thead>\n",
       "  <tbody>\n",
       "    <tr>\n",
       "      <th>0</th>\n",
       "      <td>0.320</td>\n",
       "      <td>0.934</td>\n",
       "      <td>-4.363</td>\n",
       "      <td>0</td>\n",
       "      <td>0.246</td>\n",
       "      <td>0.13400</td>\n",
       "      <td>0.000000</td>\n",
       "      <td>0.0925</td>\n",
       "      <td>0.495</td>\n",
       "      <td>138.982</td>\n",
       "      <td>196476</td>\n",
       "      <td>0</td>\n",
       "      <td>0</td>\n",
       "      <td>21830.666667</td>\n",
       "      <td>0</td>\n",
       "      <td>0</td>\n",
       "      <td>0</td>\n",
       "      <td>1</td>\n",
       "      <td>0</td>\n",
       "      <td>0</td>\n",
       "      <td>0</td>\n",
       "      <td>0</td>\n",
       "      <td>0</td>\n",
       "      <td>0</td>\n",
       "      <td>0</td>\n",
       "      <td>0</td>\n",
       "      <td>0</td>\n",
       "      <td>1</td>\n",
       "      <td>0</td>\n",
       "      <td>1</td>\n",
       "    </tr>\n",
       "    <tr>\n",
       "      <th>1</th>\n",
       "      <td>0.282</td>\n",
       "      <td>0.579</td>\n",
       "      <td>-12.653</td>\n",
       "      <td>0</td>\n",
       "      <td>0.380</td>\n",
       "      <td>0.05240</td>\n",
       "      <td>0.000812</td>\n",
       "      <td>0.0977</td>\n",
       "      <td>0.205</td>\n",
       "      <td>178.866</td>\n",
       "      <td>386556</td>\n",
       "      <td>0</td>\n",
       "      <td>0</td>\n",
       "      <td>20345.052632</td>\n",
       "      <td>0</td>\n",
       "      <td>0</td>\n",
       "      <td>0</td>\n",
       "      <td>0</td>\n",
       "      <td>0</td>\n",
       "      <td>0</td>\n",
       "      <td>0</td>\n",
       "      <td>0</td>\n",
       "      <td>1</td>\n",
       "      <td>0</td>\n",
       "      <td>0</td>\n",
       "      <td>0</td>\n",
       "      <td>0</td>\n",
       "      <td>1</td>\n",
       "      <td>0</td>\n",
       "      <td>0</td>\n",
       "    </tr>\n",
       "    <tr>\n",
       "      <th>2</th>\n",
       "      <td>0.548</td>\n",
       "      <td>0.724</td>\n",
       "      <td>-6.681</td>\n",
       "      <td>0</td>\n",
       "      <td>0.275</td>\n",
       "      <td>0.39000</td>\n",
       "      <td>0.000000</td>\n",
       "      <td>0.4690</td>\n",
       "      <td>0.481</td>\n",
       "      <td>110.066</td>\n",
       "      <td>516000</td>\n",
       "      <td>1</td>\n",
       "      <td>0</td>\n",
       "      <td>25800.000000</td>\n",
       "      <td>0</td>\n",
       "      <td>0</td>\n",
       "      <td>0</td>\n",
       "      <td>0</td>\n",
       "      <td>0</td>\n",
       "      <td>0</td>\n",
       "      <td>1</td>\n",
       "      <td>0</td>\n",
       "      <td>0</td>\n",
       "      <td>0</td>\n",
       "      <td>0</td>\n",
       "      <td>0</td>\n",
       "      <td>0</td>\n",
       "      <td>1</td>\n",
       "      <td>0</td>\n",
       "      <td>1</td>\n",
       "    </tr>\n",
       "    <tr>\n",
       "      <th>3</th>\n",
       "      <td>0.735</td>\n",
       "      <td>0.890</td>\n",
       "      <td>-4.886</td>\n",
       "      <td>0</td>\n",
       "      <td>0.252</td>\n",
       "      <td>0.14800</td>\n",
       "      <td>0.000000</td>\n",
       "      <td>0.3140</td>\n",
       "      <td>0.565</td>\n",
       "      <td>122.014</td>\n",
       "      <td>572547</td>\n",
       "      <td>1</td>\n",
       "      <td>0</td>\n",
       "      <td>28627.350000</td>\n",
       "      <td>0</td>\n",
       "      <td>0</td>\n",
       "      <td>0</td>\n",
       "      <td>0</td>\n",
       "      <td>0</td>\n",
       "      <td>0</td>\n",
       "      <td>0</td>\n",
       "      <td>0</td>\n",
       "      <td>0</td>\n",
       "      <td>1</td>\n",
       "      <td>0</td>\n",
       "      <td>0</td>\n",
       "      <td>0</td>\n",
       "      <td>1</td>\n",
       "      <td>0</td>\n",
       "      <td>1</td>\n",
       "    </tr>\n",
       "    <tr>\n",
       "      <th>4</th>\n",
       "      <td>0.713</td>\n",
       "      <td>0.883</td>\n",
       "      <td>-5.407</td>\n",
       "      <td>0</td>\n",
       "      <td>0.265</td>\n",
       "      <td>0.00588</td>\n",
       "      <td>0.000020</td>\n",
       "      <td>0.7240</td>\n",
       "      <td>0.452</td>\n",
       "      <td>124.967</td>\n",
       "      <td>338627</td>\n",
       "      <td>1</td>\n",
       "      <td>0</td>\n",
       "      <td>19919.235294</td>\n",
       "      <td>0</td>\n",
       "      <td>0</td>\n",
       "      <td>0</td>\n",
       "      <td>0</td>\n",
       "      <td>0</td>\n",
       "      <td>0</td>\n",
       "      <td>1</td>\n",
       "      <td>0</td>\n",
       "      <td>0</td>\n",
       "      <td>0</td>\n",
       "      <td>0</td>\n",
       "      <td>0</td>\n",
       "      <td>0</td>\n",
       "      <td>1</td>\n",
       "      <td>0</td>\n",
       "      <td>0</td>\n",
       "    </tr>\n",
       "  </tbody>\n",
       "</table>\n",
       "</div>"
      ],
      "text/plain": [
       "   danceability  energy  loudness  musical_mode  speechiness  acousticness  \\\n",
       "0         0.320   0.934    -4.363             0        0.246       0.13400   \n",
       "1         0.282   0.579   -12.653             0        0.380       0.05240   \n",
       "2         0.548   0.724    -6.681             0        0.275       0.39000   \n",
       "3         0.735   0.890    -4.886             0        0.252       0.14800   \n",
       "4         0.713   0.883    -5.407             0        0.265       0.00588   \n",
       "\n",
       "   instrumentalness  liveness  valence    tempo  duration_ms  explicit  \\\n",
       "0          0.000000    0.0925    0.495  138.982       196476         0   \n",
       "1          0.000812    0.0977    0.205  178.866       386556         0   \n",
       "2          0.000000    0.4690    0.481  110.066       516000         1   \n",
       "3          0.000000    0.3140    0.565  122.014       572547         1   \n",
       "4          0.000020    0.7240    0.452  124.967       338627         1   \n",
       "\n",
       "   popular  duration_per_num_sections  key__1  key__2  key__3  key__4  key__5  \\\n",
       "0        0               21830.666667       0       0       0       1       0   \n",
       "1        0               20345.052632       0       0       0       0       0   \n",
       "2        0               25800.000000       0       0       0       0       0   \n",
       "3        0               28627.350000       0       0       0       0       0   \n",
       "4        0               19919.235294       0       0       0       0       0   \n",
       "\n",
       "   key__6  key__7  key__8  key__9  key__10  key__11  time_sig__1  time_sig__3  \\\n",
       "0       0       0       0       0        0        0            0            0   \n",
       "1       0       0       0       1        0        0            0            0   \n",
       "2       0       1       0       0        0        0            0            0   \n",
       "3       0       0       0       0        1        0            0            0   \n",
       "4       0       1       0       0        0        0            0            0   \n",
       "\n",
       "   time_sig__4  time_sig__5  no_instruments  \n",
       "0            1            0               1  \n",
       "1            1            0               0  \n",
       "2            1            0               1  \n",
       "3            1            0               1  \n",
       "4            1            0               0  "
      ]
     },
     "execution_count": 2,
     "metadata": {},
     "output_type": "execute_result"
    }
   ],
   "source": [
    "df = pd.read_csv(\"rap_df.csv\").drop('Unnamed: 0', axis=1)\n",
    "df.head()"
   ]
  },
  {
   "cell_type": "markdown",
   "metadata": {},
   "source": [
    "#### Recal the class imbalance and decide how to address\n",
    "- I do not intend to use SMOTE. This artificially creates songs, and I don't want to artificially create songs that are considered popular. I do not believe a machine can accurately replicate a good song by simply using KNN to create new observations.\n",
    "- I will likely use both upsampling and class weight = balanced as means to address class imbalance"
   ]
  },
  {
   "cell_type": "markdown",
   "metadata": {},
   "source": [
    "### Create feature and target data "
   ]
  },
  {
   "cell_type": "code",
   "execution_count": 3,
   "metadata": {},
   "outputs": [],
   "source": [
    "from sklearn.model_selection import train_test_split\n",
    "from sklearn.metrics import accuracy_score, f1_score, confusion_matrix, classification_report"
   ]
  },
  {
   "cell_type": "code",
   "execution_count": 4,
   "metadata": {},
   "outputs": [],
   "source": [
    "X = df.drop('popular', axis=1)\n",
    "y = df.popular"
   ]
  },
  {
   "cell_type": "code",
   "execution_count": 5,
   "metadata": {},
   "outputs": [],
   "source": [
    "X_train, X_test, y_train, y_test = train_test_split(X, y, test_size=0.20, random_state=42)"
   ]
  },
  {
   "cell_type": "markdown",
   "metadata": {},
   "source": [
    "### Create upsampled feature and target data "
   ]
  },
  {
   "cell_type": "code",
   "execution_count": 6,
   "metadata": {},
   "outputs": [],
   "source": [
    "from sklearn.utils import resample"
   ]
  },
  {
   "cell_type": "code",
   "execution_count": 7,
   "metadata": {},
   "outputs": [],
   "source": [
    "popular = df[df.popular == 1]\n",
    "not_popular = df[df.popular == 0]"
   ]
  },
  {
   "cell_type": "code",
   "execution_count": 8,
   "metadata": {},
   "outputs": [],
   "source": [
    "popular_upsampled = resample(popular,\n",
    "                          replace=True, # sample with replacement\n",
    "                          n_samples=len(not_popular), # match number in majority class\n",
    "                          random_state=42) "
   ]
  },
  {
   "cell_type": "code",
   "execution_count": 9,
   "metadata": {},
   "outputs": [
    {
     "data": {
      "text/plain": [
       "1    771\n",
       "0    771\n",
       "Name: popular, dtype: int64"
      ]
     },
     "execution_count": 9,
     "metadata": {},
     "output_type": "execute_result"
    }
   ],
   "source": [
    "upsampled = pd.concat([not_popular, popular_upsampled])\n",
    "upsampled.popular.value_counts()"
   ]
  },
  {
   "cell_type": "code",
   "execution_count": 10,
   "metadata": {},
   "outputs": [],
   "source": [
    "X_upsampled = upsampled.drop('popular', axis=1)\n",
    "y_upsampled = upsampled.popular"
   ]
  },
  {
   "cell_type": "code",
   "execution_count": 11,
   "metadata": {},
   "outputs": [],
   "source": [
    "X_train_up, X_test_up, y_train_up, y_test_up = train_test_split(X_upsampled, \n",
    "                                                                y_upsampled, test_size=0.20, random_state=42)"
   ]
  },
  {
   "cell_type": "markdown",
   "metadata": {},
   "source": [
    "### Try a LogReg Gridsearch"
   ]
  },
  {
   "cell_type": "code",
   "execution_count": 12,
   "metadata": {},
   "outputs": [],
   "source": [
    "from sklearn.linear_model import LogisticRegressionCV, LogisticRegression"
   ]
  },
  {
   "cell_type": "markdown",
   "metadata": {},
   "source": [
    "#### Upsampled"
   ]
  },
  {
   "cell_type": "code",
   "execution_count": 38,
   "metadata": {},
   "outputs": [],
   "source": [
    "upsampled_lr = LogisticRegressionCV(solver='liblinear', cv=10, penalty='l1', Cs = [5,10,15,20,25])"
   ]
  },
  {
   "cell_type": "code",
   "execution_count": 39,
   "metadata": {},
   "outputs": [
    {
     "name": "stderr",
     "output_type": "stream",
     "text": [
      "/opt/anaconda3/lib/python3.8/site-packages/sklearn/svm/_base.py:976: ConvergenceWarning: Liblinear failed to converge, increase the number of iterations.\n",
      "  warnings.warn(\"Liblinear failed to converge, increase \"\n",
      "/opt/anaconda3/lib/python3.8/site-packages/sklearn/svm/_base.py:976: ConvergenceWarning: Liblinear failed to converge, increase the number of iterations.\n",
      "  warnings.warn(\"Liblinear failed to converge, increase \"\n",
      "/opt/anaconda3/lib/python3.8/site-packages/sklearn/svm/_base.py:976: ConvergenceWarning: Liblinear failed to converge, increase the number of iterations.\n",
      "  warnings.warn(\"Liblinear failed to converge, increase \"\n",
      "/opt/anaconda3/lib/python3.8/site-packages/sklearn/svm/_base.py:976: ConvergenceWarning: Liblinear failed to converge, increase the number of iterations.\n",
      "  warnings.warn(\"Liblinear failed to converge, increase \"\n",
      "/opt/anaconda3/lib/python3.8/site-packages/sklearn/svm/_base.py:976: ConvergenceWarning: Liblinear failed to converge, increase the number of iterations.\n",
      "  warnings.warn(\"Liblinear failed to converge, increase \"\n",
      "/opt/anaconda3/lib/python3.8/site-packages/sklearn/svm/_base.py:976: ConvergenceWarning: Liblinear failed to converge, increase the number of iterations.\n",
      "  warnings.warn(\"Liblinear failed to converge, increase \"\n",
      "/opt/anaconda3/lib/python3.8/site-packages/sklearn/svm/_base.py:976: ConvergenceWarning: Liblinear failed to converge, increase the number of iterations.\n",
      "  warnings.warn(\"Liblinear failed to converge, increase \"\n",
      "/opt/anaconda3/lib/python3.8/site-packages/sklearn/svm/_base.py:976: ConvergenceWarning: Liblinear failed to converge, increase the number of iterations.\n",
      "  warnings.warn(\"Liblinear failed to converge, increase \"\n",
      "/opt/anaconda3/lib/python3.8/site-packages/sklearn/svm/_base.py:976: ConvergenceWarning: Liblinear failed to converge, increase the number of iterations.\n",
      "  warnings.warn(\"Liblinear failed to converge, increase \"\n"
     ]
    },
    {
     "data": {
      "text/plain": [
       "LogisticRegressionCV(Cs=[5, 10, 15, 20, 25], cv=10, penalty='l1',\n",
       "                     solver='liblinear')"
      ]
     },
     "execution_count": 39,
     "metadata": {},
     "output_type": "execute_result"
    }
   ],
   "source": [
    "upsampled_lr.fit(X_train_up, y_train_up)"
   ]
  },
  {
   "cell_type": "code",
   "execution_count": 41,
   "metadata": {},
   "outputs": [
    {
     "name": "stdout",
     "output_type": "stream",
     "text": [
      "0.6666666666666666\n",
      "0.6925373134328359\n"
     ]
    }
   ],
   "source": [
    "pred = upsampled_lr.predict(X_test_up)\n",
    "print(accuracy_score(y_test_up, pred))\n",
    "print(f1_score(y_test_up, pred))"
   ]
  },
  {
   "cell_type": "code",
   "execution_count": 42,
   "metadata": {},
   "outputs": [
    {
     "name": "stdout",
     "output_type": "stream",
     "text": [
      "[[ 90  67]\n",
      " [ 36 116]]\n",
      "---------------------------\n",
      "              precision    recall  f1-score   support\n",
      "\n",
      "           0       0.71      0.57      0.64       157\n",
      "           1       0.63      0.76      0.69       152\n",
      "\n",
      "    accuracy                           0.67       309\n",
      "   macro avg       0.67      0.67      0.66       309\n",
      "weighted avg       0.67      0.67      0.66       309\n",
      "\n"
     ]
    }
   ],
   "source": [
    "print(confusion_matrix(y_test_up, pred))\n",
    "print('---------------------------')\n",
    "print(classification_report(y_test_up, pred))\n"
   ]
  },
  {
   "cell_type": "markdown",
   "metadata": {},
   "source": [
    "#### Weighted"
   ]
  },
  {
   "cell_type": "code",
   "execution_count": null,
   "metadata": {},
   "outputs": [],
   "source": []
  },
  {
   "cell_type": "code",
   "execution_count": null,
   "metadata": {},
   "outputs": [],
   "source": []
  },
  {
   "cell_type": "markdown",
   "metadata": {},
   "source": [
    "### Try a Pruned Decision Tree"
   ]
  },
  {
   "cell_type": "code",
   "execution_count": null,
   "metadata": {},
   "outputs": [],
   "source": []
  },
  {
   "cell_type": "code",
   "execution_count": null,
   "metadata": {},
   "outputs": [],
   "source": []
  },
  {
   "cell_type": "code",
   "execution_count": null,
   "metadata": {},
   "outputs": [],
   "source": []
  },
  {
   "cell_type": "markdown",
   "metadata": {},
   "source": [
    "### Try a Random Forest"
   ]
  },
  {
   "cell_type": "code",
   "execution_count": null,
   "metadata": {},
   "outputs": [],
   "source": []
  },
  {
   "cell_type": "code",
   "execution_count": null,
   "metadata": {},
   "outputs": [],
   "source": []
  },
  {
   "cell_type": "code",
   "execution_count": null,
   "metadata": {},
   "outputs": [],
   "source": []
  },
  {
   "cell_type": "markdown",
   "metadata": {},
   "source": [
    "### Try an XGBoost"
   ]
  },
  {
   "cell_type": "code",
   "execution_count": null,
   "metadata": {},
   "outputs": [],
   "source": []
  },
  {
   "cell_type": "code",
   "execution_count": null,
   "metadata": {},
   "outputs": [],
   "source": []
  },
  {
   "cell_type": "code",
   "execution_count": null,
   "metadata": {},
   "outputs": [],
   "source": []
  },
  {
   "cell_type": "markdown",
   "metadata": {},
   "source": [
    "### Try a Voting Classifier"
   ]
  },
  {
   "cell_type": "code",
   "execution_count": null,
   "metadata": {},
   "outputs": [],
   "source": []
  },
  {
   "cell_type": "code",
   "execution_count": null,
   "metadata": {},
   "outputs": [],
   "source": []
  },
  {
   "cell_type": "code",
   "execution_count": null,
   "metadata": {},
   "outputs": [],
   "source": []
  },
  {
   "cell_type": "code",
   "execution_count": null,
   "metadata": {},
   "outputs": [],
   "source": []
  }
 ],
 "metadata": {
  "kernelspec": {
   "display_name": "Python 3",
   "language": "python",
   "name": "python3"
  },
  "language_info": {
   "codemirror_mode": {
    "name": "ipython",
    "version": 3
   },
   "file_extension": ".py",
   "mimetype": "text/x-python",
   "name": "python",
   "nbconvert_exporter": "python",
   "pygments_lexer": "ipython3",
   "version": "3.8.3"
  }
 },
 "nbformat": 4,
 "nbformat_minor": 4
}

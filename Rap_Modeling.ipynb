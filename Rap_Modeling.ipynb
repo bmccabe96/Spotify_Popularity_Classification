{
 "cells": [
  {
   "cell_type": "code",
   "execution_count": 1,
   "metadata": {},
   "outputs": [],
   "source": [
    "# Import some libraries that will be used\n",
    "import pandas as pd\n",
    "import numpy as np\n",
    "import matplotlib.pyplot as plt\n",
    "import seaborn as sns\n",
    "\n",
    "pd.set_option('display.max_columns', 300)\n",
    "\n",
    "%matplotlib inline"
   ]
  },
  {
   "cell_type": "code",
   "execution_count": 2,
   "metadata": {},
   "outputs": [
    {
     "data": {
      "text/html": [
       "<div>\n",
       "<style scoped>\n",
       "    .dataframe tbody tr th:only-of-type {\n",
       "        vertical-align: middle;\n",
       "    }\n",
       "\n",
       "    .dataframe tbody tr th {\n",
       "        vertical-align: top;\n",
       "    }\n",
       "\n",
       "    .dataframe thead th {\n",
       "        text-align: right;\n",
       "    }\n",
       "</style>\n",
       "<table border=\"1\" class=\"dataframe\">\n",
       "  <thead>\n",
       "    <tr style=\"text-align: right;\">\n",
       "      <th></th>\n",
       "      <th>danceability</th>\n",
       "      <th>energy</th>\n",
       "      <th>loudness</th>\n",
       "      <th>musical_mode</th>\n",
       "      <th>speechiness</th>\n",
       "      <th>acousticness</th>\n",
       "      <th>instrumentalness</th>\n",
       "      <th>liveness</th>\n",
       "      <th>valence</th>\n",
       "      <th>tempo</th>\n",
       "      <th>duration_ms</th>\n",
       "      <th>explicit</th>\n",
       "      <th>popular</th>\n",
       "      <th>duration_per_num_sections</th>\n",
       "      <th>key__1</th>\n",
       "      <th>key__2</th>\n",
       "      <th>key__3</th>\n",
       "      <th>key__4</th>\n",
       "      <th>key__5</th>\n",
       "      <th>key__6</th>\n",
       "      <th>key__7</th>\n",
       "      <th>key__8</th>\n",
       "      <th>key__9</th>\n",
       "      <th>key__10</th>\n",
       "      <th>key__11</th>\n",
       "      <th>time_sig__1</th>\n",
       "      <th>time_sig__3</th>\n",
       "      <th>time_sig__4</th>\n",
       "      <th>time_sig__5</th>\n",
       "      <th>no_instruments</th>\n",
       "    </tr>\n",
       "  </thead>\n",
       "  <tbody>\n",
       "    <tr>\n",
       "      <th>0</th>\n",
       "      <td>0.320</td>\n",
       "      <td>0.934</td>\n",
       "      <td>-4.363</td>\n",
       "      <td>0</td>\n",
       "      <td>0.246</td>\n",
       "      <td>0.13400</td>\n",
       "      <td>0.000000</td>\n",
       "      <td>0.0925</td>\n",
       "      <td>0.495</td>\n",
       "      <td>138.982</td>\n",
       "      <td>196476</td>\n",
       "      <td>0</td>\n",
       "      <td>0</td>\n",
       "      <td>21830.666667</td>\n",
       "      <td>0</td>\n",
       "      <td>0</td>\n",
       "      <td>0</td>\n",
       "      <td>1</td>\n",
       "      <td>0</td>\n",
       "      <td>0</td>\n",
       "      <td>0</td>\n",
       "      <td>0</td>\n",
       "      <td>0</td>\n",
       "      <td>0</td>\n",
       "      <td>0</td>\n",
       "      <td>0</td>\n",
       "      <td>0</td>\n",
       "      <td>1</td>\n",
       "      <td>0</td>\n",
       "      <td>1</td>\n",
       "    </tr>\n",
       "    <tr>\n",
       "      <th>1</th>\n",
       "      <td>0.282</td>\n",
       "      <td>0.579</td>\n",
       "      <td>-12.653</td>\n",
       "      <td>0</td>\n",
       "      <td>0.380</td>\n",
       "      <td>0.05240</td>\n",
       "      <td>0.000812</td>\n",
       "      <td>0.0977</td>\n",
       "      <td>0.205</td>\n",
       "      <td>178.866</td>\n",
       "      <td>386556</td>\n",
       "      <td>0</td>\n",
       "      <td>0</td>\n",
       "      <td>20345.052632</td>\n",
       "      <td>0</td>\n",
       "      <td>0</td>\n",
       "      <td>0</td>\n",
       "      <td>0</td>\n",
       "      <td>0</td>\n",
       "      <td>0</td>\n",
       "      <td>0</td>\n",
       "      <td>0</td>\n",
       "      <td>1</td>\n",
       "      <td>0</td>\n",
       "      <td>0</td>\n",
       "      <td>0</td>\n",
       "      <td>0</td>\n",
       "      <td>1</td>\n",
       "      <td>0</td>\n",
       "      <td>0</td>\n",
       "    </tr>\n",
       "    <tr>\n",
       "      <th>2</th>\n",
       "      <td>0.548</td>\n",
       "      <td>0.724</td>\n",
       "      <td>-6.681</td>\n",
       "      <td>0</td>\n",
       "      <td>0.275</td>\n",
       "      <td>0.39000</td>\n",
       "      <td>0.000000</td>\n",
       "      <td>0.4690</td>\n",
       "      <td>0.481</td>\n",
       "      <td>110.066</td>\n",
       "      <td>516000</td>\n",
       "      <td>1</td>\n",
       "      <td>0</td>\n",
       "      <td>25800.000000</td>\n",
       "      <td>0</td>\n",
       "      <td>0</td>\n",
       "      <td>0</td>\n",
       "      <td>0</td>\n",
       "      <td>0</td>\n",
       "      <td>0</td>\n",
       "      <td>1</td>\n",
       "      <td>0</td>\n",
       "      <td>0</td>\n",
       "      <td>0</td>\n",
       "      <td>0</td>\n",
       "      <td>0</td>\n",
       "      <td>0</td>\n",
       "      <td>1</td>\n",
       "      <td>0</td>\n",
       "      <td>1</td>\n",
       "    </tr>\n",
       "    <tr>\n",
       "      <th>3</th>\n",
       "      <td>0.735</td>\n",
       "      <td>0.890</td>\n",
       "      <td>-4.886</td>\n",
       "      <td>0</td>\n",
       "      <td>0.252</td>\n",
       "      <td>0.14800</td>\n",
       "      <td>0.000000</td>\n",
       "      <td>0.3140</td>\n",
       "      <td>0.565</td>\n",
       "      <td>122.014</td>\n",
       "      <td>572547</td>\n",
       "      <td>1</td>\n",
       "      <td>0</td>\n",
       "      <td>28627.350000</td>\n",
       "      <td>0</td>\n",
       "      <td>0</td>\n",
       "      <td>0</td>\n",
       "      <td>0</td>\n",
       "      <td>0</td>\n",
       "      <td>0</td>\n",
       "      <td>0</td>\n",
       "      <td>0</td>\n",
       "      <td>0</td>\n",
       "      <td>1</td>\n",
       "      <td>0</td>\n",
       "      <td>0</td>\n",
       "      <td>0</td>\n",
       "      <td>1</td>\n",
       "      <td>0</td>\n",
       "      <td>1</td>\n",
       "    </tr>\n",
       "    <tr>\n",
       "      <th>4</th>\n",
       "      <td>0.713</td>\n",
       "      <td>0.883</td>\n",
       "      <td>-5.407</td>\n",
       "      <td>0</td>\n",
       "      <td>0.265</td>\n",
       "      <td>0.00588</td>\n",
       "      <td>0.000020</td>\n",
       "      <td>0.7240</td>\n",
       "      <td>0.452</td>\n",
       "      <td>124.967</td>\n",
       "      <td>338627</td>\n",
       "      <td>1</td>\n",
       "      <td>0</td>\n",
       "      <td>19919.235294</td>\n",
       "      <td>0</td>\n",
       "      <td>0</td>\n",
       "      <td>0</td>\n",
       "      <td>0</td>\n",
       "      <td>0</td>\n",
       "      <td>0</td>\n",
       "      <td>1</td>\n",
       "      <td>0</td>\n",
       "      <td>0</td>\n",
       "      <td>0</td>\n",
       "      <td>0</td>\n",
       "      <td>0</td>\n",
       "      <td>0</td>\n",
       "      <td>1</td>\n",
       "      <td>0</td>\n",
       "      <td>0</td>\n",
       "    </tr>\n",
       "  </tbody>\n",
       "</table>\n",
       "</div>"
      ],
      "text/plain": [
       "   danceability  energy  loudness  musical_mode  speechiness  acousticness  \\\n",
       "0         0.320   0.934    -4.363             0        0.246       0.13400   \n",
       "1         0.282   0.579   -12.653             0        0.380       0.05240   \n",
       "2         0.548   0.724    -6.681             0        0.275       0.39000   \n",
       "3         0.735   0.890    -4.886             0        0.252       0.14800   \n",
       "4         0.713   0.883    -5.407             0        0.265       0.00588   \n",
       "\n",
       "   instrumentalness  liveness  valence    tempo  duration_ms  explicit  \\\n",
       "0          0.000000    0.0925    0.495  138.982       196476         0   \n",
       "1          0.000812    0.0977    0.205  178.866       386556         0   \n",
       "2          0.000000    0.4690    0.481  110.066       516000         1   \n",
       "3          0.000000    0.3140    0.565  122.014       572547         1   \n",
       "4          0.000020    0.7240    0.452  124.967       338627         1   \n",
       "\n",
       "   popular  duration_per_num_sections  key__1  key__2  key__3  key__4  key__5  \\\n",
       "0        0               21830.666667       0       0       0       1       0   \n",
       "1        0               20345.052632       0       0       0       0       0   \n",
       "2        0               25800.000000       0       0       0       0       0   \n",
       "3        0               28627.350000       0       0       0       0       0   \n",
       "4        0               19919.235294       0       0       0       0       0   \n",
       "\n",
       "   key__6  key__7  key__8  key__9  key__10  key__11  time_sig__1  time_sig__3  \\\n",
       "0       0       0       0       0        0        0            0            0   \n",
       "1       0       0       0       1        0        0            0            0   \n",
       "2       0       1       0       0        0        0            0            0   \n",
       "3       0       0       0       0        1        0            0            0   \n",
       "4       0       1       0       0        0        0            0            0   \n",
       "\n",
       "   time_sig__4  time_sig__5  no_instruments  \n",
       "0            1            0               1  \n",
       "1            1            0               0  \n",
       "2            1            0               1  \n",
       "3            1            0               1  \n",
       "4            1            0               0  "
      ]
     },
     "execution_count": 2,
     "metadata": {},
     "output_type": "execute_result"
    }
   ],
   "source": [
    "df = pd.read_csv(\"rap_df.csv\").drop('Unnamed: 0', axis=1)\n",
    "df.head()"
   ]
  },
  {
   "cell_type": "markdown",
   "metadata": {},
   "source": [
    "#### Recal the class imbalance and decide how to address\n",
    "- I do not intend to use SMOTE. This artificially creates songs, and I don't want to artificially create songs that are considered popular. I do not believe a machine can accurately replicate a good song by simply using KNN to create new observations.\n",
    "- I will likely use both upsampling and class weight = balanced as means to address class imbalance"
   ]
  },
  {
   "cell_type": "markdown",
   "metadata": {},
   "source": [
    "### Create feature and target data, scaled and unscaled"
   ]
  },
  {
   "cell_type": "code",
   "execution_count": 3,
   "metadata": {},
   "outputs": [],
   "source": [
    "from sklearn.model_selection import train_test_split\n",
    "from sklearn.metrics import accuracy_score, f1_score, confusion_matrix, classification_report\n",
    "from sklearn.metrics import recall_score, precision_score\n",
    "from sklearn.preprocessing import StandardScaler"
   ]
  },
  {
   "cell_type": "code",
   "execution_count": 4,
   "metadata": {},
   "outputs": [],
   "source": [
    "X = df.drop('popular', axis=1)\n",
    "y = df.popular"
   ]
  },
  {
   "cell_type": "code",
   "execution_count": 5,
   "metadata": {},
   "outputs": [],
   "source": [
    "X_train, X_test, y_train, y_test = train_test_split(X, y, test_size=0.20, random_state=42)"
   ]
  },
  {
   "cell_type": "code",
   "execution_count": 6,
   "metadata": {},
   "outputs": [],
   "source": [
    "scaler = StandardScaler()\n",
    "X_train_scaled = scaler.fit_transform(X_train)\n",
    "X_test_scaled = scaler.transform(X_test)"
   ]
  },
  {
   "cell_type": "markdown",
   "metadata": {},
   "source": [
    "### Create upsampled feature and target data, scaled and unscaled"
   ]
  },
  {
   "cell_type": "code",
   "execution_count": 7,
   "metadata": {},
   "outputs": [],
   "source": [
    "from sklearn.utils import resample"
   ]
  },
  {
   "cell_type": "code",
   "execution_count": 8,
   "metadata": {},
   "outputs": [],
   "source": [
    "popular = df[df.popular == 1]\n",
    "not_popular = df[df.popular == 0]"
   ]
  },
  {
   "cell_type": "code",
   "execution_count": 9,
   "metadata": {},
   "outputs": [],
   "source": [
    "popular_upsampled = resample(popular,\n",
    "                          replace=True, # sample with replacement\n",
    "                          n_samples=len(not_popular), # match number in majority class\n",
    "                          random_state=42) "
   ]
  },
  {
   "cell_type": "code",
   "execution_count": 10,
   "metadata": {},
   "outputs": [
    {
     "data": {
      "text/plain": [
       "1    771\n",
       "0    771\n",
       "Name: popular, dtype: int64"
      ]
     },
     "execution_count": 10,
     "metadata": {},
     "output_type": "execute_result"
    }
   ],
   "source": [
    "upsampled = pd.concat([not_popular, popular_upsampled])\n",
    "upsampled.popular.value_counts()"
   ]
  },
  {
   "cell_type": "code",
   "execution_count": 11,
   "metadata": {},
   "outputs": [],
   "source": [
    "X_upsampled = upsampled.drop('popular', axis=1)\n",
    "y_upsampled = upsampled.popular"
   ]
  },
  {
   "cell_type": "code",
   "execution_count": 12,
   "metadata": {},
   "outputs": [],
   "source": [
    "X_train_up, X_test_up, y_train_up, y_test_up = train_test_split(X_upsampled, \n",
    "                                                                y_upsampled, test_size=0.20, random_state=42)"
   ]
  },
  {
   "cell_type": "code",
   "execution_count": 13,
   "metadata": {},
   "outputs": [],
   "source": [
    "scaler = StandardScaler()\n",
    "X_train_up_scaled = scaler.fit_transform(X_train_up)\n",
    "X_test_up_scaled = scaler.transform(X_test_up)"
   ]
  },
  {
   "cell_type": "markdown",
   "metadata": {},
   "source": [
    "### Make a quick function to print accuracy, f1, recall, precision"
   ]
  },
  {
   "cell_type": "code",
   "execution_count": 14,
   "metadata": {},
   "outputs": [],
   "source": [
    "def print_score(y_test, y_pred):\n",
    "    \n",
    "    a = accuracy_score(y_test, y_pred)\n",
    "    f = f1_score(y_test, y_pred)\n",
    "    r = recall_score(y_test, y_pred)\n",
    "    p = precision_score(y_test, y_pred)\n",
    "    return {'accuracy': a, \"f1\": f, 'recall': r, 'precision': p}\n"
   ]
  },
  {
   "cell_type": "markdown",
   "metadata": {},
   "source": [
    "### Try a LogReg Gridsearch"
   ]
  },
  {
   "cell_type": "code",
   "execution_count": 15,
   "metadata": {},
   "outputs": [],
   "source": [
    "from sklearn.linear_model import LogisticRegressionCV, LogisticRegression"
   ]
  },
  {
   "cell_type": "markdown",
   "metadata": {},
   "source": [
    "#### Upsampled"
   ]
  },
  {
   "cell_type": "code",
   "execution_count": 82,
   "metadata": {},
   "outputs": [],
   "source": [
    "upsampled_lr = LogisticRegressionCV(solver='liblinear', cv=10, penalty='l1', Cs = [.001,.01,.1,1,10,100], \n",
    "                                    max_iter=10000, verbose=True, n_jobs=-1, scoring='f1')"
   ]
  },
  {
   "cell_type": "code",
   "execution_count": 83,
   "metadata": {},
   "outputs": [
    {
     "name": "stderr",
     "output_type": "stream",
     "text": [
      "[Parallel(n_jobs=-1)]: Using backend LokyBackend with 8 concurrent workers.\n",
      "[Parallel(n_jobs=-1)]: Done   6 out of  10 | elapsed:    1.6s remaining:    1.1s\n",
      "[Parallel(n_jobs=-1)]: Done  10 out of  10 | elapsed:    1.6s finished\n"
     ]
    },
    {
     "data": {
      "text/plain": [
       "LogisticRegressionCV(Cs=[0.001, 0.01, 0.1, 1, 10, 100], cv=10, max_iter=10000,\n",
       "                     n_jobs=-1, penalty='l1', scoring='f1', solver='liblinear',\n",
       "                     verbose=True)"
      ]
     },
     "execution_count": 83,
     "metadata": {},
     "output_type": "execute_result"
    }
   ],
   "source": [
    "upsampled_lr.fit(X_train_up_scaled, y_train_up)"
   ]
  },
  {
   "cell_type": "code",
   "execution_count": 84,
   "metadata": {},
   "outputs": [
    {
     "data": {
      "text/plain": [
       "array([1.])"
      ]
     },
     "execution_count": 84,
     "metadata": {},
     "output_type": "execute_result"
    }
   ],
   "source": [
    "upsampled_lr.C_"
   ]
  },
  {
   "cell_type": "code",
   "execution_count": 85,
   "metadata": {},
   "outputs": [
    {
     "data": {
      "text/plain": [
       "{'upsampled_lr': {'accuracy': 0.6634304207119741,\n",
       "  'f1': 0.6904761904761905,\n",
       "  'recall': 0.7631578947368421,\n",
       "  'precision': 0.6304347826086957}}"
      ]
     },
     "execution_count": 85,
     "metadata": {},
     "output_type": "execute_result"
    }
   ],
   "source": [
    "pred = upsampled_lr.predict(X_test_up_scaled)\n",
    "result = print_score(y_test_up, pred)\n",
    "results = {'upsampled_lr': result}\n",
    "results"
   ]
  },
  {
   "cell_type": "code",
   "execution_count": 86,
   "metadata": {
    "scrolled": true
   },
   "outputs": [
    {
     "name": "stdout",
     "output_type": "stream",
     "text": [
      "[[ 89  68]\n",
      " [ 36 116]]\n",
      "---------------------------\n",
      "              precision    recall  f1-score   support\n",
      "\n",
      "           0       0.71      0.57      0.63       157\n",
      "           1       0.63      0.76      0.69       152\n",
      "\n",
      "    accuracy                           0.66       309\n",
      "   macro avg       0.67      0.67      0.66       309\n",
      "weighted avg       0.67      0.66      0.66       309\n",
      "\n"
     ]
    }
   ],
   "source": [
    "print(confusion_matrix(y_test_up, pred))\n",
    "print('---------------------------')\n",
    "print(classification_report(y_test_up, pred))\n"
   ]
  },
  {
   "cell_type": "code",
   "execution_count": 87,
   "metadata": {},
   "outputs": [],
   "source": [
    "#print(lr_clf_weighted.coef_.reshape(29))\n",
    "#print(X.columns)\n",
    "features_coefs = zip(X.columns, upsampled_lr.coef_.reshape(29))\n",
    "coefs_df = pd.DataFrame(features_coefs, columns = ['feature', 'coef'])\n",
    "coefs_df = coefs_df.sort_values(by = 'coef')"
   ]
  },
  {
   "cell_type": "code",
   "execution_count": 88,
   "metadata": {},
   "outputs": [],
   "source": [
    "for_bar = pd.concat([coefs_df.head(20), coefs_df.tail(5)]) #Non-zero coefficients"
   ]
  },
  {
   "cell_type": "code",
   "execution_count": 89,
   "metadata": {},
   "outputs": [
    {
     "data": {
      "image/png": "[encoded data removed]",
      "text/plain": [
       "<Figure size 720x432 with 1 Axes>"
      ]
     },
     "metadata": {
      "needs_background": "light"
     },
     "output_type": "display_data"
    }
   ],
   "source": [
    "plt.figure(figsize=(10,6))\n",
    "sns.barplot(x='coef', y='feature', data=for_bar)\n",
    "plt.title('LogReg Coefficients Impact (Upscaled)')\n",
    "plt.xlabel('Coefficient (Standard Scaled)')\n",
    "plt.ylabel('')\n",
    "plt.savefig(\"pics/logreg_coefs_impact.png\")"
   ]
  },
  {
   "cell_type": "markdown",
   "metadata": {},
   "source": [
    "I am optimizing for f1 score. Unlike industries such as healthcare or predicting credit card fraud, I do not believe that recall / precision importance far outweighs the other. If we have a high recall, then we did well in the sense that our model predicts popular songs well out of all songs that should be popular. This is important -- we do not want to miss label songs that truly are popular. If we have high precision, than of all the songs we predicted to be true, X% turned out to actually be true. While in my opinion less important than recall, I think this is not something to be pushed aside. Hence, I will optimize for f1.\n",
    "\n",
    "From the above model, the best result from logistic upscaled regression utilized unscaled (scaled resulted in roughly the same but slightly worse -- 89 in the true negative instead of 90). However, for the sake of a chart to show coefficients, I will use the scaled data.\n",
    "\n",
    "76% recall is not bad, but I will continue trying other models as the notebook progresses."
   ]
  },
  {
   "cell_type": "markdown",
   "metadata": {},
   "source": [
    "#### Weighted"
   ]
  },
  {
   "cell_type": "code",
   "execution_count": 24,
   "metadata": {},
   "outputs": [],
   "source": [
    "lr_clf_weighted = LogisticRegressionCV(solver='liblinear', class_weight='balanced', Cs = [.001,.01,.1,1,10,100],\n",
    "                                      cv=10, penalty='l1', scoring = 'f1', max_iter=10000,\n",
    "                                       verbose=True, n_jobs=-1)"
   ]
  },
  {
   "cell_type": "code",
   "execution_count": 25,
   "metadata": {},
   "outputs": [
    {
     "name": "stderr",
     "output_type": "stream",
     "text": [
      "[Parallel(n_jobs=-1)]: Using backend LokyBackend with 8 concurrent workers.\n",
      "[Parallel(n_jobs=-1)]: Done   6 out of  10 | elapsed:    0.1s remaining:    0.0s\n",
      "[Parallel(n_jobs=-1)]: Done  10 out of  10 | elapsed:    0.1s finished\n"
     ]
    },
    {
     "data": {
      "text/plain": [
       "LogisticRegressionCV(Cs=[0.001, 0.01, 0.1, 1, 10, 100], class_weight='balanced',\n",
       "                     cv=10, max_iter=10000, n_jobs=-1, penalty='l1',\n",
       "                     scoring='f1', solver='liblinear', verbose=True)"
      ]
     },
     "execution_count": 25,
     "metadata": {},
     "output_type": "execute_result"
    }
   ],
   "source": [
    "lr_clf_weighted.fit(X_train_scaled, y_train)"
   ]
  },
  {
   "cell_type": "code",
   "execution_count": 26,
   "metadata": {},
   "outputs": [
    {
     "data": {
      "text/plain": [
       "array([0.1])"
      ]
     },
     "execution_count": 26,
     "metadata": {},
     "output_type": "execute_result"
    }
   ],
   "source": [
    "lr_clf_weighted.C_"
   ]
  },
  {
   "cell_type": "code",
   "execution_count": 27,
   "metadata": {},
   "outputs": [
    {
     "data": {
      "text/plain": [
       "{'upsampled_lr': {'accuracy': 0.6634304207119741,\n",
       "  'f1': 0.6904761904761905,\n",
       "  'recall': 0.7631578947368421,\n",
       "  'precision': 0.6304347826086957},\n",
       " 'lr_clf_weighted': {'accuracy': 0.6302521008403361,\n",
       "  'f1': 0.5925925925925926,\n",
       "  'recall': 0.810126582278481,\n",
       "  'precision': 0.46715328467153283}}"
      ]
     },
     "execution_count": 27,
     "metadata": {},
     "output_type": "execute_result"
    }
   ],
   "source": [
    "pred = lr_clf_weighted.predict(X_test_scaled)\n",
    "result = print_score(y_test, pred)\n",
    "results['lr_clf_weighted'] = result\n",
    "results"
   ]
  },
  {
   "cell_type": "code",
   "execution_count": 28,
   "metadata": {},
   "outputs": [
    {
     "name": "stdout",
     "output_type": "stream",
     "text": [
      "[[86 73]\n",
      " [15 64]]\n",
      "---------------------------\n",
      "              precision    recall  f1-score   support\n",
      "\n",
      "           0       0.85      0.54      0.66       159\n",
      "           1       0.47      0.81      0.59        79\n",
      "\n",
      "    accuracy                           0.63       238\n",
      "   macro avg       0.66      0.68      0.63       238\n",
      "weighted avg       0.72      0.63      0.64       238\n",
      "\n"
     ]
    }
   ],
   "source": [
    "print(confusion_matrix(y_test, pred))\n",
    "print('---------------------------')\n",
    "print(classification_report(y_test, pred))"
   ]
  },
  {
   "cell_type": "code",
   "execution_count": 29,
   "metadata": {},
   "outputs": [],
   "source": [
    "#print(lr_clf_weighted.coef_.reshape(29))\n",
    "#print(X.columns)\n",
    "features_coefs = zip(X.columns, lr_clf_weighted.coef_.reshape(29))\n",
    "coefs_df = pd.DataFrame(features_coefs, columns = ['feature', 'coef'])\n",
    "coefs_df = coefs_df.sort_values(by = 'coef')"
   ]
  },
  {
   "cell_type": "code",
   "execution_count": 30,
   "metadata": {},
   "outputs": [],
   "source": [
    "for_bar = pd.concat([coefs_df.head(11), coefs_df.tail(7)]) ## Non-zero coefficients"
   ]
  },
  {
   "cell_type": "code",
   "execution_count": 31,
   "metadata": {},
   "outputs": [
    {
     "data": {
      "text/plain": [
       "Text(0, 0.5, '')"
      ]
     },
     "execution_count": 31,
     "metadata": {},
     "output_type": "execute_result"
    },
    {
     "data": {
      "image/png": "[encoded data removed]",
      "text/plain": [
       "<Figure size 720x288 with 1 Axes>"
      ]
     },
     "metadata": {
      "needs_background": "light"
     },
     "output_type": "display_data"
    }
   ],
   "source": [
    "plt.figure(figsize=(10,4))\n",
    "sns.barplot(x='coef', y='feature', data=for_bar)\n",
    "plt.title('LogReg Coefficients Impact  (Weighted)')\n",
    "plt.xlabel('Coefficient (Standard Scaled)')\n",
    "plt.ylabel('')"
   ]
  },
  {
   "cell_type": "markdown",
   "metadata": {},
   "source": [
    "Precision suffered a lot in this model, and accuracy went down as well. However, Recall is our best yet. I probably prefer the first model to this one due to the f1 score."
   ]
  },
  {
   "cell_type": "markdown",
   "metadata": {},
   "source": [
    "### Try a Pruned Decision Tree on Upsampled Data"
   ]
  },
  {
   "cell_type": "code",
   "execution_count": 32,
   "metadata": {},
   "outputs": [],
   "source": [
    "from sklearn.tree import DecisionTreeClassifier, plot_tree, export_graphviz\n",
    "from sklearn.model_selection import GridSearchCV"
   ]
  },
  {
   "cell_type": "code",
   "execution_count": 33,
   "metadata": {},
   "outputs": [],
   "source": [
    "decision_tree = DecisionTreeClassifier()\n",
    "# creating our parameters to test\n",
    "# note these values have been iterrated through multiple times and this cell represents the final state\n",
    "param_dict={'max_depth': [8,9,10,11],\n",
    "            'min_samples_leaf' : [1,2],\n",
    "            'criterion': ['gini'], \n",
    "            'min_samples_split' : [6,7,8],\n",
    "            'max_features': [8,9,10]}"
   ]
  },
  {
   "cell_type": "code",
   "execution_count": 34,
   "metadata": {},
   "outputs": [
    {
     "name": "stdout",
     "output_type": "stream",
     "text": [
      "Fitting 10 folds for each of 72 candidates, totalling 720 fits\n"
     ]
    },
    {
     "name": "stderr",
     "output_type": "stream",
     "text": [
      "[Parallel(n_jobs=-1)]: Using backend LokyBackend with 8 concurrent workers.\n",
      "[Parallel(n_jobs=-1)]: Done  34 tasks      | elapsed:    0.6s\n",
      "[Parallel(n_jobs=-1)]: Done 720 out of 720 | elapsed:    1.8s finished\n"
     ]
    },
    {
     "data": {
      "text/plain": [
       "GridSearchCV(cv=10, estimator=DecisionTreeClassifier(), n_jobs=-1,\n",
       "             param_grid={'criterion': ['gini'], 'max_depth': [8, 9, 10, 11],\n",
       "                         'max_features': [8, 9, 10], 'min_samples_leaf': [1, 2],\n",
       "                         'min_samples_split': [6, 7, 8]},\n",
       "             scoring='f1', verbose=1)"
      ]
     },
     "execution_count": 34,
     "metadata": {},
     "output_type": "execute_result"
    }
   ],
   "source": [
    "#create the instance of GridSearchCV using the recall metric for our scoring. \n",
    "grid_tree=GridSearchCV(decision_tree, param_dict, cv=10, scoring='f1', n_jobs=-1, verbose=1)\n",
    "#fit the Gridsearch to our data\n",
    "grid_tree.fit(X_train_up ,y_train_up)"
   ]
  },
  {
   "cell_type": "code",
   "execution_count": 35,
   "metadata": {},
   "outputs": [
    {
     "name": "stdout",
     "output_type": "stream",
     "text": [
      "0.7575244684059974\n",
      "{'criterion': 'gini', 'max_depth': 10, 'max_features': 10, 'min_samples_leaf': 2, 'min_samples_split': 6}\n",
      "DecisionTreeClassifier(max_depth=10, max_features=10, min_samples_leaf=2,\n",
      "                       min_samples_split=6)\n"
     ]
    }
   ],
   "source": [
    "print(grid_tree.best_score_)\n",
    "print(grid_tree.best_params_)\n",
    "print(grid_tree.best_estimator_)"
   ]
  },
  {
   "cell_type": "code",
   "execution_count": 36,
   "metadata": {},
   "outputs": [
    {
     "data": {
      "text/plain": [
       "{'upsampled_lr': {'accuracy': 0.6634304207119741,\n",
       "  'f1': 0.6904761904761905,\n",
       "  'recall': 0.7631578947368421,\n",
       "  'precision': 0.6304347826086957},\n",
       " 'lr_clf_weighted': {'accuracy': 0.6302521008403361,\n",
       "  'f1': 0.5925925925925926,\n",
       "  'recall': 0.810126582278481,\n",
       "  'precision': 0.46715328467153283},\n",
       " 'decision_tree_upscaled': {'accuracy': 0.7313915857605178,\n",
       "  'f1': 0.764872521246459,\n",
       "  'recall': 0.8881578947368421,\n",
       "  'precision': 0.6716417910447762}}"
      ]
     },
     "execution_count": 36,
     "metadata": {},
     "output_type": "execute_result"
    }
   ],
   "source": [
    "pred = grid_tree.best_estimator_.predict(X_test_up)\n",
    "result = print_score(y_test_up, pred)\n",
    "results['decision_tree_upscaled'] = result\n",
    "results"
   ]
  },
  {
   "cell_type": "code",
   "execution_count": 37,
   "metadata": {},
   "outputs": [
    {
     "name": "stdout",
     "output_type": "stream",
     "text": [
      "[[ 91  66]\n",
      " [ 17 135]]\n",
      "---------------------------\n",
      "              precision    recall  f1-score   support\n",
      "\n",
      "           0       0.84      0.58      0.69       157\n",
      "           1       0.67      0.89      0.76       152\n",
      "\n",
      "    accuracy                           0.73       309\n",
      "   macro avg       0.76      0.73      0.73       309\n",
      "weighted avg       0.76      0.73      0.73       309\n",
      "\n"
     ]
    }
   ],
   "source": [
    "print(confusion_matrix(y_test_up, pred))\n",
    "print('---------------------------')\n",
    "print(classification_report(y_test_up, pred))"
   ]
  },
  {
   "cell_type": "code",
   "execution_count": 80,
   "metadata": {},
   "outputs": [
    {
     "data": {
      "image/png": "[encoded data removed]",
      "text/plain": [
       "<Figure size 720x288 with 1 Axes>"
      ]
     },
     "metadata": {
      "needs_background": "light"
     },
     "output_type": "display_data"
    }
   ],
   "source": [
    "features_coefs = zip(X.columns, grid_tree.best_estimator_.feature_importances_)\n",
    "coefs_df = pd.DataFrame(features_coefs, columns = ['feature', 'coef'])\n",
    "coefs_df = coefs_df.sort_values(by = 'coef')\n",
    "for_bar = coefs_df[coefs_df.coef != 0]## Non-zero coefficients\n",
    "plt.figure(figsize=(10,4))\n",
    "sns.barplot(x='coef', y='feature', data=for_bar)\n",
    "plt.title('Decision Tree Feature Importance (Upscaled)')\n",
    "plt.xlabel('Importance')\n",
    "plt.ylabel('')\n",
    "plt.savefig(\"pics/decision_tree_feature_imp.png\")"
   ]
  },
  {
   "cell_type": "code",
   "execution_count": 41,
   "metadata": {},
   "outputs": [
    {
     "data": {
      "image/png": "[encoded data removed]",
      "text/plain": [
       "<Figure size 1440x432 with 1 Axes>"
      ]
     },
     "metadata": {
      "needs_background": "light"
     },
     "output_type": "display_data"
    }
   ],
   "source": [
    "# Decision tree is huge so we can't nicely visualize it all, but the below it just to get an idea of the \n",
    "# first few layers\n",
    "plt.figure(figsize=(20,6))\n",
    "plot_tree(grid_tree.best_estimator_, max_depth=3, fontsize=10, feature_names=X.columns)\n",
    "plt.show()"
   ]
  },
  {
   "cell_type": "markdown",
   "metadata": {},
   "source": [
    "From every metric, this is our best model yet. It makes sense since our dataset has some noisy data (trees perform well here), as seen in the histograms from the EDA notebook.\n",
    "\n",
    "I will try a decision tree using weighted data next, to see if that is any better."
   ]
  },
  {
   "cell_type": "markdown",
   "metadata": {},
   "source": [
    "### Try a Pruned Decision Tree on Weighted Data"
   ]
  },
  {
   "cell_type": "code",
   "execution_count": 42,
   "metadata": {},
   "outputs": [],
   "source": [
    "decision_tree = DecisionTreeClassifier()\n",
    "# creating our parameters to test\n",
    "# note these values have been iterrated through multiple times and this cell represents the final state\n",
    "param_dict={'max_depth': np.arange(0,4,1),\n",
    "            'min_samples_leaf' : np.arange(0,8,1),\n",
    "            'criterion': ['gini', 'entropy'], \n",
    "            'min_samples_split' : np.arange(8,16,1),\n",
    "            'class_weight': ['balanced'],\n",
    "            'max_features': np.arange(0,9,1)}"
   ]
  },
  {
   "cell_type": "code",
   "execution_count": 43,
   "metadata": {},
   "outputs": [
    {
     "name": "stdout",
     "output_type": "stream",
     "text": [
      "Fitting 10 folds for each of 4608 candidates, totalling 46080 fits\n"
     ]
    },
    {
     "name": "stderr",
     "output_type": "stream",
     "text": [
      "[Parallel(n_jobs=-1)]: Using backend LokyBackend with 8 concurrent workers.\n",
      "[Parallel(n_jobs=-1)]: Done  56 tasks      | elapsed:    0.1s\n",
      "[Parallel(n_jobs=-1)]: Done 11248 tasks      | elapsed:    6.0s\n",
      "[Parallel(n_jobs=-1)]: Done 43248 tasks      | elapsed:   24.0s\n",
      "[Parallel(n_jobs=-1)]: Done 46080 out of 46080 | elapsed:   25.5s finished\n"
     ]
    },
    {
     "data": {
      "text/plain": [
       "GridSearchCV(cv=10, estimator=DecisionTreeClassifier(), n_jobs=-1,\n",
       "             param_grid={'class_weight': ['balanced'],\n",
       "                         'criterion': ['gini', 'entropy'],\n",
       "                         'max_depth': array([0, 1, 2, 3]),\n",
       "                         'max_features': array([0, 1, 2, 3, 4, 5, 6, 7, 8]),\n",
       "                         'min_samples_leaf': array([0, 1, 2, 3, 4, 5, 6, 7]),\n",
       "                         'min_samples_split': array([ 8,  9, 10, 11, 12, 13, 14, 15])},\n",
       "             scoring='f1', verbose=1)"
      ]
     },
     "execution_count": 43,
     "metadata": {},
     "output_type": "execute_result"
    }
   ],
   "source": [
    "#create the instance of GridSearchCV using the recall metric for our scoring. \n",
    "grid_tree2=GridSearchCV(decision_tree, param_dict, cv=10, scoring='f1', n_jobs=-1, verbose=1)\n",
    "#fit the Gridsearch to our data\n",
    "grid_tree2.fit(X_train_scaled ,y_train)"
   ]
  },
  {
   "cell_type": "code",
   "execution_count": 44,
   "metadata": {},
   "outputs": [
    {
     "name": "stdout",
     "output_type": "stream",
     "text": [
      "0.5885364870110161\n",
      "{'class_weight': 'balanced', 'criterion': 'entropy', 'max_depth': 3, 'max_features': 6, 'min_samples_leaf': 4, 'min_samples_split': 10}\n",
      "DecisionTreeClassifier(class_weight='balanced', criterion='entropy',\n",
      "                       max_depth=3, max_features=6, min_samples_leaf=4,\n",
      "                       min_samples_split=10)\n"
     ]
    }
   ],
   "source": [
    "print(grid_tree2.best_score_)\n",
    "print(grid_tree2.best_params_)\n",
    "print(grid_tree2.best_estimator_)"
   ]
  },
  {
   "cell_type": "code",
   "execution_count": 45,
   "metadata": {},
   "outputs": [
    {
     "data": {
      "text/plain": [
       "{'upsampled_lr': {'accuracy': 0.6634304207119741,\n",
       "  'f1': 0.6904761904761905,\n",
       "  'recall': 0.7631578947368421,\n",
       "  'precision': 0.6304347826086957},\n",
       " 'lr_clf_weighted': {'accuracy': 0.6302521008403361,\n",
       "  'f1': 0.5925925925925926,\n",
       "  'recall': 0.810126582278481,\n",
       "  'precision': 0.46715328467153283},\n",
       " 'decision_tree_upscaled': {'accuracy': 0.7313915857605178,\n",
       "  'f1': 0.764872521246459,\n",
       "  'recall': 0.8881578947368421,\n",
       "  'precision': 0.6716417910447762},\n",
       " 'decision_tree_weighted': {'accuracy': 0.5462184873949579,\n",
       "  'f1': 0.5537190082644629,\n",
       "  'recall': 0.8481012658227848,\n",
       "  'precision': 0.4110429447852761}}"
      ]
     },
     "execution_count": 45,
     "metadata": {},
     "output_type": "execute_result"
    }
   ],
   "source": [
    "pred = grid_tree2.best_estimator_.predict(X_test_scaled)\n",
    "result = print_score(y_test, pred)\n",
    "results['decision_tree_weighted'] = result\n",
    "results"
   ]
  },
  {
   "cell_type": "code",
   "execution_count": 46,
   "metadata": {},
   "outputs": [
    {
     "name": "stdout",
     "output_type": "stream",
     "text": [
      "[[63 96]\n",
      " [12 67]]\n",
      "---------------------------\n",
      "              precision    recall  f1-score   support\n",
      "\n",
      "           0       0.84      0.40      0.54       159\n",
      "           1       0.41      0.85      0.55        79\n",
      "\n",
      "    accuracy                           0.55       238\n",
      "   macro avg       0.63      0.62      0.55       238\n",
      "weighted avg       0.70      0.55      0.54       238\n",
      "\n"
     ]
    }
   ],
   "source": [
    "print(confusion_matrix(y_test, pred))\n",
    "print('---------------------------')\n",
    "print(classification_report(y_test, pred))"
   ]
  },
  {
   "cell_type": "markdown",
   "metadata": {},
   "source": [
    "I am not even going to bother printing out a chart of important features or the first few levels of a tree. This tree performed far worse than the upscaled one. Balancing by class weights does not appear to be effective for this dataset."
   ]
  },
  {
   "cell_type": "markdown",
   "metadata": {},
   "source": [
    "### Try a Random Forest Using Upscaled Data"
   ]
  },
  {
   "cell_type": "code",
   "execution_count": 68,
   "metadata": {},
   "outputs": [],
   "source": [
    "from sklearn.ensemble import RandomForestClassifier"
   ]
  },
  {
   "cell_type": "code",
   "execution_count": 69,
   "metadata": {},
   "outputs": [],
   "source": [
    "#create a dictionary of all the parameters you want to tune\n",
    "# note i ran through this a couple times, starting with a lot more options and honed in, so this represents \n",
    "# the last run where I was sure params were optimized\n",
    "param_grid = { \n",
    "    'n_estimators': [300],\n",
    "    'criterion': ['gini'],\n",
    "    'max_depth': [22],\n",
    "    'max_features': [5,6],\n",
    "    'min_samples_split': [4],\n",
    "    'min_samples_leaf': [1]\n",
    "}"
   ]
  },
  {
   "cell_type": "code",
   "execution_count": 70,
   "metadata": {},
   "outputs": [
    {
     "name": "stdout",
     "output_type": "stream",
     "text": [
      "Fitting 5 folds for each of 2 candidates, totalling 10 fits\n"
     ]
    },
    {
     "name": "stderr",
     "output_type": "stream",
     "text": [
      "[Parallel(n_jobs=-1)]: Using backend LokyBackend with 8 concurrent workers.\n",
      "[Parallel(n_jobs=-1)]: Done   6 out of  10 | elapsed:    3.4s remaining:    2.3s\n",
      "[Parallel(n_jobs=-1)]: Done  10 out of  10 | elapsed:    4.1s finished\n"
     ]
    },
    {
     "data": {
      "text/plain": [
       "GridSearchCV(cv=5, estimator=RandomForestClassifier(), n_jobs=-1,\n",
       "             param_grid={'criterion': ['gini'], 'max_depth': [22],\n",
       "                         'max_features': [5, 6], 'min_samples_leaf': [1],\n",
       "                         'min_samples_split': [4], 'n_estimators': [300]},\n",
       "             scoring='f1', verbose=1)"
      ]
     },
     "execution_count": 70,
     "metadata": {},
     "output_type": "execute_result"
    }
   ],
   "source": [
    "grid_forest=GridSearchCV(RandomForestClassifier(), param_grid, cv=5, scoring='f1', verbose=1, n_jobs=-1)\n",
    "grid_forest.fit(X_train_up, y_train_up)"
   ]
  },
  {
   "cell_type": "code",
   "execution_count": 71,
   "metadata": {},
   "outputs": [
    {
     "name": "stdout",
     "output_type": "stream",
     "text": [
      "0.8182923404637025\n",
      "{'criterion': 'gini', 'max_depth': 22, 'max_features': 5, 'min_samples_leaf': 1, 'min_samples_split': 4, 'n_estimators': 300}\n",
      "RandomForestClassifier(max_depth=22, max_features=5, min_samples_split=4,\n",
      "                       n_estimators=300)\n"
     ]
    }
   ],
   "source": [
    "print(grid_forest.best_score_)\n",
    "print(grid_forest.best_params_)\n",
    "print(grid_forest.best_estimator_)"
   ]
  },
  {
   "cell_type": "code",
   "execution_count": 72,
   "metadata": {},
   "outputs": [
    {
     "data": {
      "text/plain": [
       "{'upsampled_lr': {'accuracy': 0.6634304207119741,\n",
       "  'f1': 0.6904761904761905,\n",
       "  'recall': 0.7631578947368421,\n",
       "  'precision': 0.6304347826086957},\n",
       " 'lr_clf_weighted': {'accuracy': 0.6302521008403361,\n",
       "  'f1': 0.5925925925925926,\n",
       "  'recall': 0.810126582278481,\n",
       "  'precision': 0.46715328467153283},\n",
       " 'decision_tree_upscaled': {'accuracy': 0.7313915857605178,\n",
       "  'f1': 0.764872521246459,\n",
       "  'recall': 0.8881578947368421,\n",
       "  'precision': 0.6716417910447762},\n",
       " 'decision_tree_weighted': {'accuracy': 0.5462184873949579,\n",
       "  'f1': 0.5537190082644629,\n",
       "  'recall': 0.8481012658227848,\n",
       "  'precision': 0.4110429447852761},\n",
       " 'random_forest_up': {'accuracy': 0.8122977346278317,\n",
       "  'f1': 0.81875,\n",
       "  'recall': 0.8618421052631579,\n",
       "  'precision': 0.7797619047619048},\n",
       " 'xgboost': {'accuracy': 0.7864077669902912,\n",
       "  'f1': 0.798780487804878,\n",
       "  'recall': 0.8618421052631579,\n",
       "  'precision': 0.7443181818181818},\n",
       " 'voting': {'accuracy': 0.7993527508090615,\n",
       "  'f1': 0.8098159509202454,\n",
       "  'recall': 0.868421052631579,\n",
       "  'precision': 0.7586206896551724}}"
      ]
     },
     "execution_count": 72,
     "metadata": {},
     "output_type": "execute_result"
    }
   ],
   "source": [
    "pred = grid_forest.best_estimator_.predict(X_test_up)\n",
    "result = print_score(y_test_up, pred)\n",
    "results['random_forest_up'] = result\n",
    "results"
   ]
  },
  {
   "cell_type": "markdown",
   "metadata": {},
   "source": [
    "After tuning this random forest by updating the param grid multiple times to hone in on the best model, I have landed at what I think is the best random forest possible given my data. The scores are incredible. Very happy with this score. Also, random forest is the only model thus far to increase precision without losing scores in recall (hence the high f1). This data set was a little noisy, which explains the success of tree algorithms. Random forest outperforming decision tree makes sense given that it is an ensemble than generally outperforms a single model (at the sake of interpreting it though)\n",
    "\n",
    "Will try XGBoost below, and then finally a voting classifier with all my models"
   ]
  },
  {
   "cell_type": "code",
   "execution_count": 90,
   "metadata": {},
   "outputs": [
    {
     "data": {
      "text/plain": [
       "array([0.08603323, 0.11986804, 0.08090394, 0.01076539, 0.08801021,\n",
       "       0.07763327, 0.04544699, 0.08743242, 0.07873296, 0.06637006,\n",
       "       0.07390029, 0.01883363, 0.07300669, 0.00939133, 0.00637885,\n",
       "       0.00453048, 0.00617723, 0.00438989, 0.00688902, 0.00656194,\n",
       "       0.00687196, 0.00655447, 0.00580886, 0.00425339, 0.00079737,\n",
       "       0.00450851, 0.00537179, 0.00197863, 0.01259917])"
      ]
     },
     "execution_count": 90,
     "metadata": {},
     "output_type": "execute_result"
    }
   ],
   "source": [
    "grid_forest.best_estimator_.feature_importances_"
   ]
  },
  {
   "cell_type": "code",
   "execution_count": 91,
   "metadata": {},
   "outputs": [
    {
     "data": {
      "text/plain": [
       "Text(0, 0.5, '')"
      ]
     },
     "execution_count": 91,
     "metadata": {},
     "output_type": "execute_result"
    },
    {
     "data": {
      "image/png": "[encoded data removed]",
      "text/plain": [
       "<Figure size 720x288 with 1 Axes>"
      ]
     },
     "metadata": {
      "needs_background": "light"
     },
     "output_type": "display_data"
    }
   ],
   "source": [
    "features_coefs = zip(X.columns, grid_forest.best_estimator_.feature_importances_)\n",
    "coefs_df = pd.DataFrame(features_coefs, columns = ['feature', 'coef'])\n",
    "coefs_df = coefs_df.sort_values(by = 'coef')\n",
    "for_bar = coefs_df[coefs_df.coef != 0]## Non-zero coefficients\n",
    "plt.figure(figsize=(10,4))\n",
    "sns.barplot(x='coef', y='feature', data=for_bar)\n",
    "plt.title('Random Forest Feature Importance (Upscaled)')\n",
    "plt.xlabel('Importance')\n",
    "plt.ylabel('')\n",
    "#plt.savefig(\"pics/decision_tree_feature_imp.png\")"
   ]
  },
  {
   "cell_type": "markdown",
   "metadata": {},
   "source": [
    "### Try an XGBoost"
   ]
  },
  {
   "cell_type": "code",
   "execution_count": 52,
   "metadata": {},
   "outputs": [],
   "source": [
    "import xgboost as xgb"
   ]
  },
  {
   "cell_type": "code",
   "execution_count": 53,
   "metadata": {},
   "outputs": [
    {
     "data": {
      "text/plain": [
       "{'accuracy': 0.7637540453074434,\n",
       " 'f1': 0.7833827893175075,\n",
       " 'recall': 0.868421052631579,\n",
       " 'precision': 0.7135135135135136}"
      ]
     },
     "execution_count": 53,
     "metadata": {},
     "output_type": "execute_result"
    }
   ],
   "source": [
    "# RUN A BASELINE XGB\n",
    "xg = xgb.XGBClassifier()\n",
    "xg.fit(X_train_up_scaled, y_train_up)\n",
    "test_preds = xg.predict(X_test_up_scaled)\n",
    "result = print_score(y_test_up, test_preds)\n",
    "result"
   ]
  },
  {
   "cell_type": "code",
   "execution_count": 54,
   "metadata": {},
   "outputs": [],
   "source": [
    "# TUNE IT\n",
    "param_grid = {\n",
    "    \"learning_rate\": [0.1],\n",
    "    'min_child_weight': [5],\n",
    "    'subsample': [.9],\n",
    "    'n_estimators': [200],\n",
    "    'criterion': ['gini'],\n",
    "    'max_depth': [15],\n",
    "    'max_features': [2,3],\n",
    "    'min_samples_split': [1],\n",
    "    'min_samples_leaf': [1]\n",
    "}"
   ]
  },
  {
   "cell_type": "code",
   "execution_count": 55,
   "metadata": {},
   "outputs": [
    {
     "name": "stdout",
     "output_type": "stream",
     "text": [
      "Fitting 5 folds for each of 2 candidates, totalling 10 fits\n"
     ]
    },
    {
     "name": "stderr",
     "output_type": "stream",
     "text": [
      "[Parallel(n_jobs=-1)]: Using backend LokyBackend with 8 concurrent workers.\n",
      "[Parallel(n_jobs=-1)]: Done   6 out of  10 | elapsed:    1.7s remaining:    1.1s\n",
      "[Parallel(n_jobs=-1)]: Done  10 out of  10 | elapsed:    2.2s finished\n"
     ]
    },
    {
     "name": "stdout",
     "output_type": "stream",
     "text": [
      "[15:33:49] WARNING: /Users/travis/build/dmlc/xgboost/src/learner.cc:516: \n",
      "Parameters: { criterion, max_features, min_samples_leaf, min_samples_split } might not be used.\n",
      "\n",
      "  This may not be accurate due to some parameters are only used in language bindings but\n",
      "  passed down to XGBoost core.  Or some parameters are not used but slip through this\n",
      "  verification. Please open an issue if you find above cases.\n",
      "\n",
      "\n"
     ]
    },
    {
     "data": {
      "text/plain": [
       "GridSearchCV(cv=5,\n",
       "             estimator=XGBClassifier(base_score=None, booster=None,\n",
       "                                     colsample_bylevel=None,\n",
       "                                     colsample_bynode=None,\n",
       "                                     colsample_bytree=None, gamma=None,\n",
       "                                     gpu_id=None, importance_type='gain',\n",
       "                                     interaction_constraints=None,\n",
       "                                     learning_rate=None, max_delta_step=None,\n",
       "                                     max_depth=None, min_child_weight=None,\n",
       "                                     missing=nan, monotone_constraints=None,\n",
       "                                     n_estimators=100, n_jobs...\n",
       "                                     reg_alpha=None, reg_lambda=None,\n",
       "                                     scale_pos_weight=None, subsample=None,\n",
       "                                     tree_method=None, validate_parameters=None,\n",
       "                                     verbosity=None),\n",
       "             n_jobs=-1,\n",
       "             param_grid={'criterion': ['gini'], 'learning_rate': [0.1],\n",
       "                         'max_depth': [15], 'max_features': [2, 3],\n",
       "                         'min_child_weight': [5], 'min_samples_leaf': [1],\n",
       "                         'min_samples_split': [1], 'n_estimators': [200],\n",
       "                         'subsample': [0.9]},\n",
       "             scoring='f1', verbose=1)"
      ]
     },
     "execution_count": 55,
     "metadata": {},
     "output_type": "execute_result"
    }
   ],
   "source": [
    "grid_xg = GridSearchCV(xgb.XGBClassifier(), param_grid, scoring='f1', cv=5, n_jobs=-1, verbose=1)\n",
    "grid_xg.fit(X_train_up_scaled, y_train_up)"
   ]
  },
  {
   "cell_type": "code",
   "execution_count": 56,
   "metadata": {},
   "outputs": [
    {
     "name": "stdout",
     "output_type": "stream",
     "text": [
      "{'criterion': 'gini', 'learning_rate': 0.1, 'max_depth': 15, 'max_features': 2, 'min_child_weight': 5, 'min_samples_leaf': 1, 'min_samples_split': 1, 'n_estimators': 200, 'subsample': 0.9}\n"
     ]
    }
   ],
   "source": [
    "print(grid_xg.best_params_)"
   ]
  },
  {
   "cell_type": "code",
   "execution_count": 57,
   "metadata": {},
   "outputs": [
    {
     "data": {
      "text/plain": [
       "{'upsampled_lr': {'accuracy': 0.6634304207119741,\n",
       "  'f1': 0.6904761904761905,\n",
       "  'recall': 0.7631578947368421,\n",
       "  'precision': 0.6304347826086957},\n",
       " 'lr_clf_weighted': {'accuracy': 0.6302521008403361,\n",
       "  'f1': 0.5925925925925926,\n",
       "  'recall': 0.810126582278481,\n",
       "  'precision': 0.46715328467153283},\n",
       " 'decision_tree_upscaled': {'accuracy': 0.7313915857605178,\n",
       "  'f1': 0.764872521246459,\n",
       "  'recall': 0.8881578947368421,\n",
       "  'precision': 0.6716417910447762},\n",
       " 'decision_tree_weighted': {'accuracy': 0.5462184873949579,\n",
       "  'f1': 0.5537190082644629,\n",
       "  'recall': 0.8481012658227848,\n",
       "  'precision': 0.4110429447852761},\n",
       " 'random_forest_up': {'accuracy': 0.8122977346278317,\n",
       "  'f1': 0.8176100628930818,\n",
       "  'recall': 0.8552631578947368,\n",
       "  'precision': 0.7831325301204819},\n",
       " 'xgboost': {'accuracy': 0.7864077669902912,\n",
       "  'f1': 0.798780487804878,\n",
       "  'recall': 0.8618421052631579,\n",
       "  'precision': 0.7443181818181818}}"
      ]
     },
     "execution_count": 57,
     "metadata": {},
     "output_type": "execute_result"
    }
   ],
   "source": [
    "pred = grid_xg.best_estimator_.predict(X_test_up_scaled)\n",
    "result = print_score(y_test_up, pred)\n",
    "results['xgboost'] = result\n",
    "results"
   ]
  },
  {
   "cell_type": "markdown",
   "metadata": {},
   "source": [
    "I am sure there are ways to tune this better, this isn't even my best, but I can't seem to get in the ballpark of the random forest which is currently my best model. Interesting to note this has the best recall score\n",
    "\n",
    "I am going to try an ensemble voting classifier below to see if that beats the random forest."
   ]
  },
  {
   "cell_type": "markdown",
   "metadata": {},
   "source": [
    "### Try a Voting Classifier"
   ]
  },
  {
   "cell_type": "code",
   "execution_count": 58,
   "metadata": {},
   "outputs": [],
   "source": [
    "from sklearn.ensemble import VotingClassifier"
   ]
  },
  {
   "cell_type": "code",
   "execution_count": 59,
   "metadata": {},
   "outputs": [],
   "source": [
    "forest = RandomForestClassifier()"
   ]
  },
  {
   "cell_type": "code",
   "execution_count": 60,
   "metadata": {},
   "outputs": [
    {
     "data": {
      "text/plain": [
       "VotingClassifier(estimators=[('logreg',\n",
       "                              LogisticRegressionCV(Cs=[0.001, 0.01, 0.1, 1, 10,\n",
       "                                                       100],\n",
       "                                                   cv=10, max_iter=10000,\n",
       "                                                   n_jobs=-1, penalty='l1',\n",
       "                                                   scoring='f1',\n",
       "                                                   solver='liblinear',\n",
       "                                                   verbose=True)),\n",
       "                             ('decisiontree',\n",
       "                              DecisionTreeClassifier(max_depth=10,\n",
       "                                                     max_features=10,\n",
       "                                                     min_samples_leaf=2,\n",
       "                                                     min_samples_split=6)),\n",
       "                             ('forest',\n",
       "                              RandomForestClassifier(max_depth=21,\n",
       "                                                     max_features=5,...\n",
       "                                            max_depth=15, max_features=2,\n",
       "                                            min_child_weight=5,\n",
       "                                            min_samples_leaf=1,\n",
       "                                            min_samples_split=1, missing=nan,\n",
       "                                            monotone_constraints='()',\n",
       "                                            n_estimators=200, n_jobs=0,\n",
       "                                            num_parallel_tree=1, random_state=0,\n",
       "                                            reg_alpha=0, reg_lambda=1,\n",
       "                                            scale_pos_weight=1, subsample=0.9,\n",
       "                                            tree_method='exact',\n",
       "                                            validate_parameters=1,\n",
       "                                            verbosity=None)),\n",
       "                             ('forest2', RandomForestClassifier())],\n",
       "                 n_jobs=-1, verbose=1)"
      ]
     },
     "execution_count": 60,
     "metadata": {},
     "output_type": "execute_result"
    }
   ],
   "source": [
    "voting_clf = VotingClassifier(\n",
    "                estimators=[('logreg', upsampled_lr), ('decisiontree', grid_tree.best_estimator_), \n",
    "                            ('forest', grid_forest.best_estimator_), ('xgboost', grid_xg.best_estimator_),\n",
    "                           ('forest2', forest)],\n",
    "                voting='hard', verbose=1, n_jobs= -1)\n",
    "voting_clf.fit(X_train_up, y_train_up)\n"
   ]
  },
  {
   "cell_type": "code",
   "execution_count": 73,
   "metadata": {},
   "outputs": [
    {
     "data": {
      "text/plain": [
       "{'upsampled_lr': {'accuracy': 0.6634304207119741,\n",
       "  'f1': 0.6904761904761905,\n",
       "  'recall': 0.7631578947368421,\n",
       "  'precision': 0.6304347826086957},\n",
       " 'lr_clf_weighted': {'accuracy': 0.6302521008403361,\n",
       "  'f1': 0.5925925925925926,\n",
       "  'recall': 0.810126582278481,\n",
       "  'precision': 0.46715328467153283},\n",
       " 'decision_tree_upscaled': {'accuracy': 0.7313915857605178,\n",
       "  'f1': 0.764872521246459,\n",
       "  'recall': 0.8881578947368421,\n",
       "  'precision': 0.6716417910447762},\n",
       " 'decision_tree_weighted': {'accuracy': 0.5462184873949579,\n",
       "  'f1': 0.5537190082644629,\n",
       "  'recall': 0.8481012658227848,\n",
       "  'precision': 0.4110429447852761},\n",
       " 'random_forest_up': {'accuracy': 0.8122977346278317,\n",
       "  'f1': 0.81875,\n",
       "  'recall': 0.8618421052631579,\n",
       "  'precision': 0.7797619047619048},\n",
       " 'xgboost': {'accuracy': 0.7864077669902912,\n",
       "  'f1': 0.798780487804878,\n",
       "  'recall': 0.8618421052631579,\n",
       "  'precision': 0.7443181818181818},\n",
       " 'voting': {'accuracy': 0.7993527508090615,\n",
       "  'f1': 0.8098159509202454,\n",
       "  'recall': 0.868421052631579,\n",
       "  'precision': 0.7586206896551724}}"
      ]
     },
     "execution_count": 73,
     "metadata": {},
     "output_type": "execute_result"
    }
   ],
   "source": [
    "pred = voting_clf.predict(X_test_up)\n",
    "result = print_score(y_test_up, pred)\n",
    "results['voting'] = result\n",
    "results"
   ]
  },
  {
   "cell_type": "markdown",
   "metadata": {},
   "source": [
    "The voting classifier and the tuned random forest are neck and neck and my crowned winners, I will pickle both of these for potential later use."
   ]
  },
  {
   "cell_type": "code",
   "execution_count": 74,
   "metadata": {},
   "outputs": [],
   "source": [
    "results_df = pd.DataFrame(results).T.reset_index()\n",
    "results_df.columns = ['model', 'accuracy', 'f1', 'recall', 'precision']\n"
   ]
  },
  {
   "cell_type": "code",
   "execution_count": 75,
   "metadata": {},
   "outputs": [
    {
     "data": {
      "text/html": [
       "<div>\n",
       "<style scoped>\n",
       "    .dataframe tbody tr th:only-of-type {\n",
       "        vertical-align: middle;\n",
       "    }\n",
       "\n",
       "    .dataframe tbody tr th {\n",
       "        vertical-align: top;\n",
       "    }\n",
       "\n",
       "    .dataframe thead th {\n",
       "        text-align: right;\n",
       "    }\n",
       "</style>\n",
       "<table border=\"1\" class=\"dataframe\">\n",
       "  <thead>\n",
       "    <tr style=\"text-align: right;\">\n",
       "      <th></th>\n",
       "      <th>model</th>\n",
       "      <th>accuracy</th>\n",
       "      <th>f1</th>\n",
       "      <th>recall</th>\n",
       "      <th>precision</th>\n",
       "    </tr>\n",
       "  </thead>\n",
       "  <tbody>\n",
       "    <tr>\n",
       "      <th>0</th>\n",
       "      <td>upsampled_lr</td>\n",
       "      <td>0.663430</td>\n",
       "      <td>0.690476</td>\n",
       "      <td>0.763158</td>\n",
       "      <td>0.630435</td>\n",
       "    </tr>\n",
       "    <tr>\n",
       "      <th>1</th>\n",
       "      <td>lr_clf_weighted</td>\n",
       "      <td>0.630252</td>\n",
       "      <td>0.592593</td>\n",
       "      <td>0.810127</td>\n",
       "      <td>0.467153</td>\n",
       "    </tr>\n",
       "    <tr>\n",
       "      <th>2</th>\n",
       "      <td>decision_tree_upscaled</td>\n",
       "      <td>0.731392</td>\n",
       "      <td>0.764873</td>\n",
       "      <td>0.888158</td>\n",
       "      <td>0.671642</td>\n",
       "    </tr>\n",
       "    <tr>\n",
       "      <th>3</th>\n",
       "      <td>decision_tree_weighted</td>\n",
       "      <td>0.546218</td>\n",
       "      <td>0.553719</td>\n",
       "      <td>0.848101</td>\n",
       "      <td>0.411043</td>\n",
       "    </tr>\n",
       "    <tr>\n",
       "      <th>4</th>\n",
       "      <td>random_forest_up</td>\n",
       "      <td>0.812298</td>\n",
       "      <td>0.818750</td>\n",
       "      <td>0.861842</td>\n",
       "      <td>0.779762</td>\n",
       "    </tr>\n",
       "    <tr>\n",
       "      <th>5</th>\n",
       "      <td>xgboost</td>\n",
       "      <td>0.786408</td>\n",
       "      <td>0.798780</td>\n",
       "      <td>0.861842</td>\n",
       "      <td>0.744318</td>\n",
       "    </tr>\n",
       "    <tr>\n",
       "      <th>6</th>\n",
       "      <td>voting</td>\n",
       "      <td>0.799353</td>\n",
       "      <td>0.809816</td>\n",
       "      <td>0.868421</td>\n",
       "      <td>0.758621</td>\n",
       "    </tr>\n",
       "  </tbody>\n",
       "</table>\n",
       "</div>"
      ],
      "text/plain": [
       "                    model  accuracy        f1    recall  precision\n",
       "0            upsampled_lr  0.663430  0.690476  0.763158   0.630435\n",
       "1         lr_clf_weighted  0.630252  0.592593  0.810127   0.467153\n",
       "2  decision_tree_upscaled  0.731392  0.764873  0.888158   0.671642\n",
       "3  decision_tree_weighted  0.546218  0.553719  0.848101   0.411043\n",
       "4        random_forest_up  0.812298  0.818750  0.861842   0.779762\n",
       "5                 xgboost  0.786408  0.798780  0.861842   0.744318\n",
       "6                  voting  0.799353  0.809816  0.868421   0.758621"
      ]
     },
     "execution_count": 75,
     "metadata": {},
     "output_type": "execute_result"
    }
   ],
   "source": [
    "results_df"
   ]
  },
  {
   "cell_type": "code",
   "execution_count": 76,
   "metadata": {},
   "outputs": [
    {
     "data": {
      "image/png": "[encoded data removed]",
      "text/plain": [
       "<Figure size 2016x1152 with 4 Axes>"
      ]
     },
     "metadata": {
      "needs_background": "light"
     },
     "output_type": "display_data"
    }
   ],
   "source": [
    "fig, axes = plt.subplots(nrows = 2, ncols=2, figsize=(28,16))\n",
    "for i, col in enumerate(results_df.columns[1:]):\n",
    "    results_df = results_df.sort_values(by=col, ascending=False)\n",
    "    sns.barplot(y=results_df.model, x=results_df[col], ax = axes[i//2][i%2], color='blue')\n",
    "    axes[i//2][i%2].set_yticklabels(results_df.model, size = 25)\n",
    "    axes[i//2][i%2].set_ylabel(\"\",fontsize=0)\n",
    "    axes[i//2][i%2].set_xlabel(col ,fontsize=25)\n",
    "\n",
    "plt.tight_layout()\n",
    "plt.savefig(\"pics/model_performance.png\")"
   ]
  },
  {
   "cell_type": "code",
   "execution_count": 77,
   "metadata": {},
   "outputs": [],
   "source": [
    "import pickle\n",
    "pickle_out = open(\"forest.pickle\",\"wb\")\n",
    "pickle.dump(grid_forest.best_estimator_, pickle_out)\n",
    "pickle_out.close()"
   ]
  },
  {
   "cell_type": "code",
   "execution_count": 78,
   "metadata": {},
   "outputs": [],
   "source": [
    "pickle_out = open(\"voting.pickle\",\"wb\")\n",
    "pickle.dump(voting_clf, pickle_out)\n",
    "pickle_out.close()"
   ]
  },
  {
   "cell_type": "code",
   "execution_count": 79,
   "metadata": {},
   "outputs": [
    {
     "data": {
      "text/plain": [
       "Index(['danceability', 'energy', 'loudness', 'musical_mode', 'speechiness',\n",
       "       'acousticness', 'instrumentalness', 'liveness', 'valence', 'tempo',\n",
       "       'duration_ms', 'explicit', 'duration_per_num_sections', 'key__1',\n",
       "       'key__2', 'key__3', 'key__4', 'key__5', 'key__6', 'key__7', 'key__8',\n",
       "       'key__9', 'key__10', 'key__11', 'time_sig__1', 'time_sig__3',\n",
       "       'time_sig__4', 'time_sig__5', 'no_instruments'],\n",
       "      dtype='object')"
      ]
     },
     "execution_count": 79,
     "metadata": {},
     "output_type": "execute_result"
    }
   ],
   "source": [
    "X_test_up.columns"
   ]
  },
  {
   "cell_type": "code",
   "execution_count": null,
   "metadata": {},
   "outputs": [],
   "source": []
  }
 ],
 "metadata": {
  "kernelspec": {
   "display_name": "Python 3",
   "language": "python",
   "name": "python3"
  },
  "language_info": {
   "codemirror_mode": {
    "name": "ipython",
    "version": 3
   },
   "file_extension": ".py",
   "mimetype": "text/x-python",
   "name": "python",
   "nbconvert_exporter": "python",
   "pygments_lexer": "ipython3",
   "version": "3.8.3"
  }
 },
 "nbformat": 4,
 "nbformat_minor": 4
}

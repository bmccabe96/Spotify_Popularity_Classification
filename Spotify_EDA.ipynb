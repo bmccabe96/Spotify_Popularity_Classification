{
 "cells": [
  {
   "cell_type": "markdown",
   "metadata": {},
   "source": [
    "## About this File\n",
    "- Purely EDA\n",
    "- No modeling\n",
    "- Looking for insights\n",
    "- Will save a csv for any set I intend to model to be opened in a separate notebook"
   ]
  },
  {
   "cell_type": "markdown",
   "metadata": {},
   "source": [
    "### Note to self:\n",
    "- this project is holding artist constant\n",
    "- meaning, we wont factor in how many followers the artist of a given song has in our predictions\n",
    "- I want to see a model based purely off the music within the song itself, and not have any kind of artist loyalty factored in\n"
   ]
  },
  {
   "cell_type": "markdown",
   "metadata": {},
   "source": [
    "## EDA for Dataset"
   ]
  },
  {
   "cell_type": "code",
   "execution_count": 1,
   "metadata": {},
   "outputs": [],
   "source": [
    "# Import some libraries that will be used\n",
    "import pandas as pd\n",
    "import numpy as np\n",
    "import matplotlib.pyplot as plt\n",
    "import seaborn as sns\n",
    "import mysql.connector\n",
    "\n",
    "import sys\n",
    "sys.path.insert(1, '/Users/brianmccabe/DataScience/Flatiron/mod3/Spotify/scripts/')\n",
    "import config\n",
    "\n",
    "\n",
    "pd.set_option('display.max_columns', 300)\n",
    "\n",
    "%matplotlib inline"
   ]
  },
  {
   "cell_type": "markdown",
   "metadata": {},
   "source": [
    "#### Establish connection to mysql database where I stored the data I gathered"
   ]
  },
  {
   "cell_type": "code",
   "execution_count": 2,
   "metadata": {},
   "outputs": [],
   "source": [
    "connection = mysql.connector.connect(host=config.host,\n",
    "                                         user=config.user,\n",
    "                                         port=config.port,\n",
    "                                         password=config.password,\n",
    "                                         database=config.database,\n",
    "                                         auth_plugin='mysql_native_password')\n"
   ]
  },
  {
   "cell_type": "code",
   "execution_count": 3,
   "metadata": {},
   "outputs": [],
   "source": [
    "cursor = connection.cursor()\n",
    "query = \"SELECT * FROM Songs\""
   ]
  },
  {
   "cell_type": "code",
   "execution_count": 4,
   "metadata": {},
   "outputs": [],
   "source": [
    "df = pd.read_sql(query, connection)"
   ]
  },
  {
   "cell_type": "code",
   "execution_count": 5,
   "metadata": {},
   "outputs": [
    {
     "data": {
      "text/html": [
       "<div>\n",
       "<style scoped>\n",
       "    .dataframe tbody tr th:only-of-type {\n",
       "        vertical-align: middle;\n",
       "    }\n",
       "\n",
       "    .dataframe tbody tr th {\n",
       "        vertical-align: top;\n",
       "    }\n",
       "\n",
       "    .dataframe thead th {\n",
       "        text-align: right;\n",
       "    }\n",
       "</style>\n",
       "<table border=\"1\" class=\"dataframe\">\n",
       "  <thead>\n",
       "    <tr style=\"text-align: right;\">\n",
       "      <th></th>\n",
       "      <th>id</th>\n",
       "      <th>song_id</th>\n",
       "      <th>song_name</th>\n",
       "      <th>danceability</th>\n",
       "      <th>energy</th>\n",
       "      <th>musical_key</th>\n",
       "      <th>loudness</th>\n",
       "      <th>musical_mode</th>\n",
       "      <th>speechiness</th>\n",
       "      <th>acousticness</th>\n",
       "      <th>instrumentalness</th>\n",
       "      <th>liveness</th>\n",
       "      <th>valence</th>\n",
       "      <th>tempo</th>\n",
       "      <th>duration_ms</th>\n",
       "      <th>time_signature</th>\n",
       "      <th>num_sections</th>\n",
       "      <th>explicit</th>\n",
       "      <th>popular</th>\n",
       "    </tr>\n",
       "  </thead>\n",
       "  <tbody>\n",
       "    <tr>\n",
       "      <th>0</th>\n",
       "      <td>1</td>\n",
       "      <td>3CLgjFr8F0g8q4JD6OYOPK</td>\n",
       "      <td>8896</td>\n",
       "      <td>0.456</td>\n",
       "      <td>0.374</td>\n",
       "      <td>7</td>\n",
       "      <td>-13.026</td>\n",
       "      <td>1</td>\n",
       "      <td>0.1670</td>\n",
       "      <td>0.835</td>\n",
       "      <td>0.02600</td>\n",
       "      <td>0.2610</td>\n",
       "      <td>0.1690</td>\n",
       "      <td>169.595</td>\n",
       "      <td>263151</td>\n",
       "      <td>4</td>\n",
       "      <td>8</td>\n",
       "      <td>0</td>\n",
       "      <td>0</td>\n",
       "    </tr>\n",
       "    <tr>\n",
       "      <th>1</th>\n",
       "      <td>2</td>\n",
       "      <td>1KeHN4mY3rIAbQJa8zLOCY</td>\n",
       "      <td>Brownlow</td>\n",
       "      <td>0.429</td>\n",
       "      <td>0.284</td>\n",
       "      <td>11</td>\n",
       "      <td>-10.750</td>\n",
       "      <td>1</td>\n",
       "      <td>0.0823</td>\n",
       "      <td>0.695</td>\n",
       "      <td>0.42700</td>\n",
       "      <td>0.2500</td>\n",
       "      <td>0.1120</td>\n",
       "      <td>104.429</td>\n",
       "      <td>261219</td>\n",
       "      <td>4</td>\n",
       "      <td>10</td>\n",
       "      <td>0</td>\n",
       "      <td>0</td>\n",
       "    </tr>\n",
       "    <tr>\n",
       "      <th>2</th>\n",
       "      <td>3</td>\n",
       "      <td>0qzqk0Cu9mcMwSpYgHiueK</td>\n",
       "      <td>Falling Short (2014)</td>\n",
       "      <td>0.753</td>\n",
       "      <td>0.292</td>\n",
       "      <td>9</td>\n",
       "      <td>-11.866</td>\n",
       "      <td>0</td>\n",
       "      <td>0.0450</td>\n",
       "      <td>0.754</td>\n",
       "      <td>0.00030</td>\n",
       "      <td>0.1140</td>\n",
       "      <td>0.1060</td>\n",
       "      <td>124.679</td>\n",
       "      <td>209692</td>\n",
       "      <td>4</td>\n",
       "      <td>8</td>\n",
       "      <td>0</td>\n",
       "      <td>0</td>\n",
       "    </tr>\n",
       "    <tr>\n",
       "      <th>3</th>\n",
       "      <td>4</td>\n",
       "      <td>0KKJdRXJqpiU5nnjJ5SoQo</td>\n",
       "      <td>Dancing</td>\n",
       "      <td>0.366</td>\n",
       "      <td>0.258</td>\n",
       "      <td>0</td>\n",
       "      <td>-13.214</td>\n",
       "      <td>1</td>\n",
       "      <td>0.0751</td>\n",
       "      <td>0.940</td>\n",
       "      <td>0.00225</td>\n",
       "      <td>0.1700</td>\n",
       "      <td>0.0381</td>\n",
       "      <td>61.651</td>\n",
       "      <td>216705</td>\n",
       "      <td>4</td>\n",
       "      <td>9</td>\n",
       "      <td>0</td>\n",
       "      <td>0</td>\n",
       "    </tr>\n",
       "    <tr>\n",
       "      <th>4</th>\n",
       "      <td>5</td>\n",
       "      <td>1Ser4X0TKttOvo8bgdytTP</td>\n",
       "      <td>Come Get Her</td>\n",
       "      <td>0.689</td>\n",
       "      <td>0.564</td>\n",
       "      <td>2</td>\n",
       "      <td>-6.226</td>\n",
       "      <td>1</td>\n",
       "      <td>0.1360</td>\n",
       "      <td>0.187</td>\n",
       "      <td>0.00000</td>\n",
       "      <td>0.0721</td>\n",
       "      <td>0.1230</td>\n",
       "      <td>185.023</td>\n",
       "      <td>212947</td>\n",
       "      <td>4</td>\n",
       "      <td>12</td>\n",
       "      <td>1</td>\n",
       "      <td>1</td>\n",
       "    </tr>\n",
       "  </tbody>\n",
       "</table>\n",
       "</div>"
      ],
      "text/plain": [
       "   id                 song_id             song_name  danceability  energy  \\\n",
       "0   1  3CLgjFr8F0g8q4JD6OYOPK                  8896         0.456   0.374   \n",
       "1   2  1KeHN4mY3rIAbQJa8zLOCY              Brownlow         0.429   0.284   \n",
       "2   3  0qzqk0Cu9mcMwSpYgHiueK  Falling Short (2014)         0.753   0.292   \n",
       "3   4  0KKJdRXJqpiU5nnjJ5SoQo               Dancing         0.366   0.258   \n",
       "4   5  1Ser4X0TKttOvo8bgdytTP          Come Get Her         0.689   0.564   \n",
       "\n",
       "   musical_key  loudness  musical_mode  speechiness  acousticness  \\\n",
       "0            7   -13.026             1       0.1670         0.835   \n",
       "1           11   -10.750             1       0.0823         0.695   \n",
       "2            9   -11.866             0       0.0450         0.754   \n",
       "3            0   -13.214             1       0.0751         0.940   \n",
       "4            2    -6.226             1       0.1360         0.187   \n",
       "\n",
       "   instrumentalness  liveness  valence    tempo  duration_ms  time_signature  \\\n",
       "0           0.02600    0.2610   0.1690  169.595       263151               4   \n",
       "1           0.42700    0.2500   0.1120  104.429       261219               4   \n",
       "2           0.00030    0.1140   0.1060  124.679       209692               4   \n",
       "3           0.00225    0.1700   0.0381   61.651       216705               4   \n",
       "4           0.00000    0.0721   0.1230  185.023       212947               4   \n",
       "\n",
       "   num_sections  explicit  popular  \n",
       "0             8         0        0  \n",
       "1            10         0        0  \n",
       "2             8         0        0  \n",
       "3             9         0        0  \n",
       "4            12         1        1  "
      ]
     },
     "execution_count": 5,
     "metadata": {},
     "output_type": "execute_result"
    }
   ],
   "source": [
    "# Inspect the head of data\n",
    "df.head()"
   ]
  },
  {
   "cell_type": "code",
   "execution_count": 6,
   "metadata": {},
   "outputs": [
    {
     "name": "stdout",
     "output_type": "stream",
     "text": [
      "<class 'pandas.core.frame.DataFrame'>\n",
      "RangeIndex: 11798 entries, 0 to 11797\n",
      "Data columns (total 19 columns):\n",
      " #   Column            Non-Null Count  Dtype  \n",
      "---  ------            --------------  -----  \n",
      " 0   id                11798 non-null  int64  \n",
      " 1   song_id           11798 non-null  object \n",
      " 2   song_name         11798 non-null  object \n",
      " 3   danceability      11798 non-null  float64\n",
      " 4   energy            11798 non-null  float64\n",
      " 5   musical_key       11798 non-null  int64  \n",
      " 6   loudness          11798 non-null  float64\n",
      " 7   musical_mode      11798 non-null  int64  \n",
      " 8   speechiness       11798 non-null  float64\n",
      " 9   acousticness      11798 non-null  float64\n",
      " 10  instrumentalness  11798 non-null  float64\n",
      " 11  liveness          11798 non-null  float64\n",
      " 12  valence           11798 non-null  float64\n",
      " 13  tempo             11798 non-null  float64\n",
      " 14  duration_ms       11798 non-null  int64  \n",
      " 15  time_signature    11798 non-null  int64  \n",
      " 16  num_sections      11798 non-null  int64  \n",
      " 17  explicit          11798 non-null  int64  \n",
      " 18  popular           11798 non-null  int64  \n",
      "dtypes: float64(9), int64(8), object(2)\n",
      "memory usage: 1.7+ MB\n"
     ]
    }
   ],
   "source": [
    "# Check info of dataframe\n",
    "df.info()"
   ]
  },
  {
   "cell_type": "code",
   "execution_count": 7,
   "metadata": {},
   "outputs": [
    {
     "data": {
      "text/plain": [
       "False"
      ]
     },
     "execution_count": 7,
     "metadata": {},
     "output_type": "execute_result"
    }
   ],
   "source": [
    "# No non nulls after reading in from spotify and pulling from mysql\n",
    "(df.isna().sum() > 0).any()"
   ]
  },
  {
   "cell_type": "markdown",
   "metadata": {},
   "source": [
    "#### Get a quick snapshot of distributions using pairplot"
   ]
  },
  {
   "cell_type": "code",
   "execution_count": 8,
   "metadata": {},
   "outputs": [],
   "source": [
    "cols = ['danceability', 'energy', 'musical_key',\n",
    "       'loudness', 'musical_mode', 'speechiness', 'acousticness',\n",
    "       'instrumentalness', 'liveness', 'valence', 'tempo', 'duration_ms',\n",
    "       'time_signature', 'num_sections', 'explicit', 'popular']"
   ]
  },
  {
   "cell_type": "code",
   "execution_count": 9,
   "metadata": {},
   "outputs": [
    {
     "data": {
      "image/png": "[encoded data removed]",
      "text/plain": [
       "<Figure size 1296x1008 with 16 Axes>"
      ]
     },
     "metadata": {
      "needs_background": "light"
     },
     "output_type": "display_data"
    }
   ],
   "source": [
    "fig, axes = plt.subplots(nrows=4, ncols=4, figsize=(18,14))\n",
    "\n",
    "for i in range(0,16):\n",
    "    sns.distplot(df[cols[i]], ax=axes[i//4][i%4], kde = False)\n"
   ]
  },
  {
   "cell_type": "markdown",
   "metadata": {},
   "source": [
    "##### It appears our target variable has class imbalance which will need to be addressed, let's see how much"
   ]
  },
  {
   "cell_type": "code",
   "execution_count": 10,
   "metadata": {},
   "outputs": [
    {
     "data": {
      "text/plain": [
       "0    9260\n",
       "1    2538\n",
       "Name: popular, dtype: int64"
      ]
     },
     "execution_count": 10,
     "metadata": {},
     "output_type": "execute_result"
    }
   ],
   "source": [
    "df.popular.value_counts()"
   ]
  },
  {
   "cell_type": "markdown",
   "metadata": {},
   "source": [
    "##### Check correlation matrix for any multicolinearity issues"
   ]
  },
  {
   "cell_type": "code",
   "execution_count": 11,
   "metadata": {},
   "outputs": [
    {
     "data": {
      "text/plain": [
       "<matplotlib.axes._subplots.AxesSubplot at 0x1194e8b20>"
      ]
     },
     "execution_count": 11,
     "metadata": {},
     "output_type": "execute_result"
    },
    {
     "data": {
      "image/png": "[encoded data removed]",
      "text/plain": [
       "<Figure size 432x288 with 2 Axes>"
      ]
     },
     "metadata": {
      "needs_background": "light"
     },
     "output_type": "display_data"
    }
   ],
   "source": [
    "sns.heatmap(df.iloc[:,1:].corr() > .8)"
   ]
  },
  {
   "cell_type": "markdown",
   "metadata": {},
   "source": [
    "It appears there is a large multicolinearity between num_sections and duration_ms, which makes sense. However, I do believe that they both are important, since there can be a short song with lots of sections. Before removing one, I want to feature engineer a new column to capture this info somehow."
   ]
  },
  {
   "cell_type": "markdown",
   "metadata": {},
   "source": [
    "### Engineer a new feature to capture duration per number of sections"
   ]
  },
  {
   "cell_type": "code",
   "execution_count": 12,
   "metadata": {},
   "outputs": [],
   "source": [
    "df['duration_per_num_sections'] = df.duration_ms / df.num_sections"
   ]
  },
  {
   "cell_type": "code",
   "execution_count": 13,
   "metadata": {},
   "outputs": [
    {
     "data": {
      "text/html": [
       "<div>\n",
       "<style scoped>\n",
       "    .dataframe tbody tr th:only-of-type {\n",
       "        vertical-align: middle;\n",
       "    }\n",
       "\n",
       "    .dataframe tbody tr th {\n",
       "        vertical-align: top;\n",
       "    }\n",
       "\n",
       "    .dataframe thead th {\n",
       "        text-align: right;\n",
       "    }\n",
       "</style>\n",
       "<table border=\"1\" class=\"dataframe\">\n",
       "  <thead>\n",
       "    <tr style=\"text-align: right;\">\n",
       "      <th></th>\n",
       "      <th>popular</th>\n",
       "      <th>duration_ms</th>\n",
       "      <th>num_sections</th>\n",
       "      <th>duration_per_num_sections</th>\n",
       "    </tr>\n",
       "  </thead>\n",
       "  <tbody>\n",
       "    <tr>\n",
       "      <th>popular</th>\n",
       "      <td>1.000000</td>\n",
       "      <td>-0.083681</td>\n",
       "      <td>-0.056405</td>\n",
       "      <td>-0.041961</td>\n",
       "    </tr>\n",
       "    <tr>\n",
       "      <th>duration_ms</th>\n",
       "      <td>-0.083681</td>\n",
       "      <td>1.000000</td>\n",
       "      <td>0.811471</td>\n",
       "      <td>0.230649</td>\n",
       "    </tr>\n",
       "    <tr>\n",
       "      <th>num_sections</th>\n",
       "      <td>-0.056405</td>\n",
       "      <td>0.811471</td>\n",
       "      <td>1.000000</td>\n",
       "      <td>-0.319101</td>\n",
       "    </tr>\n",
       "    <tr>\n",
       "      <th>duration_per_num_sections</th>\n",
       "      <td>-0.041961</td>\n",
       "      <td>0.230649</td>\n",
       "      <td>-0.319101</td>\n",
       "      <td>1.000000</td>\n",
       "    </tr>\n",
       "  </tbody>\n",
       "</table>\n",
       "</div>"
      ],
      "text/plain": [
       "                            popular  duration_ms  num_sections  \\\n",
       "popular                    1.000000    -0.083681     -0.056405   \n",
       "duration_ms               -0.083681     1.000000      0.811471   \n",
       "num_sections              -0.056405     0.811471      1.000000   \n",
       "duration_per_num_sections -0.041961     0.230649     -0.319101   \n",
       "\n",
       "                           duration_per_num_sections  \n",
       "popular                                    -0.041961  \n",
       "duration_ms                                 0.230649  \n",
       "num_sections                               -0.319101  \n",
       "duration_per_num_sections                   1.000000  "
      ]
     },
     "execution_count": 13,
     "metadata": {},
     "output_type": "execute_result"
    }
   ],
   "source": [
    "# Drop either duration or num_sections now, whichever has less correlation with the target variable\n",
    "df[['popular', 'duration_ms', 'num_sections', 'duration_per_num_sections']].corr()"
   ]
  },
  {
   "cell_type": "markdown",
   "metadata": {},
   "source": [
    "Our newly engineered column, duration/num_sections has similar correlation to the target variable as num_sections, but does not have a super large multicolinearity with duration_ms. Since duration_ms has a large magnitude of correlation with our target, I will choose to remove \"num_sections\" based on its multicolinearity issue and worse correlation with our target."
   ]
  },
  {
   "cell_type": "code",
   "execution_count": 14,
   "metadata": {},
   "outputs": [],
   "source": [
    "df.drop('num_sections', axis=1, inplace=True)"
   ]
  },
  {
   "cell_type": "code",
   "execution_count": 15,
   "metadata": {
    "scrolled": true
   },
   "outputs": [
    {
     "data": {
      "text/plain": [
       "<matplotlib.axes._subplots.AxesSubplot at 0x119a33d60>"
      ]
     },
     "execution_count": 15,
     "metadata": {},
     "output_type": "execute_result"
    },
    {
     "data": {
      "image/png": "[encoded data removed]",
      "text/plain": [
       "<Figure size 432x288 with 2 Axes>"
      ]
     },
     "metadata": {
      "needs_background": "light"
     },
     "output_type": "display_data"
    }
   ],
   "source": [
    "sns.heatmap(df.iloc[:,1:].corr() > .8)"
   ]
  },
  {
   "cell_type": "markdown",
   "metadata": {},
   "source": [
    "Our heatmap now indicates that there are no blantant issues with multicolinearity in our data (on the assumption that a score > .8 warrants removal)"
   ]
  },
  {
   "cell_type": "markdown",
   "metadata": {},
   "source": [
    "### Get Dummies for Categorical Features"
   ]
  },
  {
   "cell_type": "code",
   "execution_count": 16,
   "metadata": {},
   "outputs": [],
   "source": [
    "# musical_key encoding\n",
    "keys = pd.get_dummies(df.musical_key, prefix='key_', drop_first=True)\n",
    "df = pd.concat([df.drop('musical_key', axis=1), keys], axis=1)"
   ]
  },
  {
   "cell_type": "code",
   "execution_count": 17,
   "metadata": {},
   "outputs": [],
   "source": [
    "# time_signature encoding\n",
    "sigs = pd.get_dummies(df.time_signature, prefix='time_sig_', drop_first=True)\n",
    "df = pd.concat([df.drop('time_signature', axis=1), sigs], axis=1)"
   ]
  },
  {
   "cell_type": "markdown",
   "metadata": {},
   "source": [
    "### Drop Features Irrelevant to Modeling"
   ]
  },
  {
   "cell_type": "code",
   "execution_count": 18,
   "metadata": {},
   "outputs": [],
   "source": [
    "df.drop(['id', 'song_id', 'song_name'], inplace=True, axis=1)"
   ]
  },
  {
   "cell_type": "code",
   "execution_count": 19,
   "metadata": {},
   "outputs": [
    {
     "data": {
      "text/html": [
       "<div>\n",
       "<style scoped>\n",
       "    .dataframe tbody tr th:only-of-type {\n",
       "        vertical-align: middle;\n",
       "    }\n",
       "\n",
       "    .dataframe tbody tr th {\n",
       "        vertical-align: top;\n",
       "    }\n",
       "\n",
       "    .dataframe thead th {\n",
       "        text-align: right;\n",
       "    }\n",
       "</style>\n",
       "<table border=\"1\" class=\"dataframe\">\n",
       "  <thead>\n",
       "    <tr style=\"text-align: right;\">\n",
       "      <th></th>\n",
       "      <th>danceability</th>\n",
       "      <th>energy</th>\n",
       "      <th>loudness</th>\n",
       "      <th>musical_mode</th>\n",
       "      <th>speechiness</th>\n",
       "      <th>acousticness</th>\n",
       "      <th>instrumentalness</th>\n",
       "      <th>liveness</th>\n",
       "      <th>valence</th>\n",
       "      <th>tempo</th>\n",
       "      <th>duration_ms</th>\n",
       "      <th>explicit</th>\n",
       "      <th>popular</th>\n",
       "      <th>duration_per_num_sections</th>\n",
       "      <th>key__1</th>\n",
       "      <th>key__2</th>\n",
       "      <th>key__3</th>\n",
       "      <th>key__4</th>\n",
       "      <th>key__5</th>\n",
       "      <th>key__6</th>\n",
       "      <th>key__7</th>\n",
       "      <th>key__8</th>\n",
       "      <th>key__9</th>\n",
       "      <th>key__10</th>\n",
       "      <th>key__11</th>\n",
       "      <th>time_sig__1</th>\n",
       "      <th>time_sig__3</th>\n",
       "      <th>time_sig__4</th>\n",
       "      <th>time_sig__5</th>\n",
       "    </tr>\n",
       "  </thead>\n",
       "  <tbody>\n",
       "    <tr>\n",
       "      <th>0</th>\n",
       "      <td>0.456</td>\n",
       "      <td>0.374</td>\n",
       "      <td>-13.026</td>\n",
       "      <td>1</td>\n",
       "      <td>0.1670</td>\n",
       "      <td>0.835</td>\n",
       "      <td>0.02600</td>\n",
       "      <td>0.2610</td>\n",
       "      <td>0.1690</td>\n",
       "      <td>169.595</td>\n",
       "      <td>263151</td>\n",
       "      <td>0</td>\n",
       "      <td>0</td>\n",
       "      <td>32893.875000</td>\n",
       "      <td>0</td>\n",
       "      <td>0</td>\n",
       "      <td>0</td>\n",
       "      <td>0</td>\n",
       "      <td>0</td>\n",
       "      <td>0</td>\n",
       "      <td>1</td>\n",
       "      <td>0</td>\n",
       "      <td>0</td>\n",
       "      <td>0</td>\n",
       "      <td>0</td>\n",
       "      <td>0</td>\n",
       "      <td>0</td>\n",
       "      <td>1</td>\n",
       "      <td>0</td>\n",
       "    </tr>\n",
       "    <tr>\n",
       "      <th>1</th>\n",
       "      <td>0.429</td>\n",
       "      <td>0.284</td>\n",
       "      <td>-10.750</td>\n",
       "      <td>1</td>\n",
       "      <td>0.0823</td>\n",
       "      <td>0.695</td>\n",
       "      <td>0.42700</td>\n",
       "      <td>0.2500</td>\n",
       "      <td>0.1120</td>\n",
       "      <td>104.429</td>\n",
       "      <td>261219</td>\n",
       "      <td>0</td>\n",
       "      <td>0</td>\n",
       "      <td>26121.900000</td>\n",
       "      <td>0</td>\n",
       "      <td>0</td>\n",
       "      <td>0</td>\n",
       "      <td>0</td>\n",
       "      <td>0</td>\n",
       "      <td>0</td>\n",
       "      <td>0</td>\n",
       "      <td>0</td>\n",
       "      <td>0</td>\n",
       "      <td>0</td>\n",
       "      <td>1</td>\n",
       "      <td>0</td>\n",
       "      <td>0</td>\n",
       "      <td>1</td>\n",
       "      <td>0</td>\n",
       "    </tr>\n",
       "    <tr>\n",
       "      <th>2</th>\n",
       "      <td>0.753</td>\n",
       "      <td>0.292</td>\n",
       "      <td>-11.866</td>\n",
       "      <td>0</td>\n",
       "      <td>0.0450</td>\n",
       "      <td>0.754</td>\n",
       "      <td>0.00030</td>\n",
       "      <td>0.1140</td>\n",
       "      <td>0.1060</td>\n",
       "      <td>124.679</td>\n",
       "      <td>209692</td>\n",
       "      <td>0</td>\n",
       "      <td>0</td>\n",
       "      <td>26211.500000</td>\n",
       "      <td>0</td>\n",
       "      <td>0</td>\n",
       "      <td>0</td>\n",
       "      <td>0</td>\n",
       "      <td>0</td>\n",
       "      <td>0</td>\n",
       "      <td>0</td>\n",
       "      <td>0</td>\n",
       "      <td>1</td>\n",
       "      <td>0</td>\n",
       "      <td>0</td>\n",
       "      <td>0</td>\n",
       "      <td>0</td>\n",
       "      <td>1</td>\n",
       "      <td>0</td>\n",
       "    </tr>\n",
       "    <tr>\n",
       "      <th>3</th>\n",
       "      <td>0.366</td>\n",
       "      <td>0.258</td>\n",
       "      <td>-13.214</td>\n",
       "      <td>1</td>\n",
       "      <td>0.0751</td>\n",
       "      <td>0.940</td>\n",
       "      <td>0.00225</td>\n",
       "      <td>0.1700</td>\n",
       "      <td>0.0381</td>\n",
       "      <td>61.651</td>\n",
       "      <td>216705</td>\n",
       "      <td>0</td>\n",
       "      <td>0</td>\n",
       "      <td>24078.333333</td>\n",
       "      <td>0</td>\n",
       "      <td>0</td>\n",
       "      <td>0</td>\n",
       "      <td>0</td>\n",
       "      <td>0</td>\n",
       "      <td>0</td>\n",
       "      <td>0</td>\n",
       "      <td>0</td>\n",
       "      <td>0</td>\n",
       "      <td>0</td>\n",
       "      <td>0</td>\n",
       "      <td>0</td>\n",
       "      <td>0</td>\n",
       "      <td>1</td>\n",
       "      <td>0</td>\n",
       "    </tr>\n",
       "    <tr>\n",
       "      <th>4</th>\n",
       "      <td>0.689</td>\n",
       "      <td>0.564</td>\n",
       "      <td>-6.226</td>\n",
       "      <td>1</td>\n",
       "      <td>0.1360</td>\n",
       "      <td>0.187</td>\n",
       "      <td>0.00000</td>\n",
       "      <td>0.0721</td>\n",
       "      <td>0.1230</td>\n",
       "      <td>185.023</td>\n",
       "      <td>212947</td>\n",
       "      <td>1</td>\n",
       "      <td>1</td>\n",
       "      <td>17745.583333</td>\n",
       "      <td>0</td>\n",
       "      <td>1</td>\n",
       "      <td>0</td>\n",
       "      <td>0</td>\n",
       "      <td>0</td>\n",
       "      <td>0</td>\n",
       "      <td>0</td>\n",
       "      <td>0</td>\n",
       "      <td>0</td>\n",
       "      <td>0</td>\n",
       "      <td>0</td>\n",
       "      <td>0</td>\n",
       "      <td>0</td>\n",
       "      <td>1</td>\n",
       "      <td>0</td>\n",
       "    </tr>\n",
       "  </tbody>\n",
       "</table>\n",
       "</div>"
      ],
      "text/plain": [
       "   danceability  energy  loudness  musical_mode  speechiness  acousticness  \\\n",
       "0         0.456   0.374   -13.026             1       0.1670         0.835   \n",
       "1         0.429   0.284   -10.750             1       0.0823         0.695   \n",
       "2         0.753   0.292   -11.866             0       0.0450         0.754   \n",
       "3         0.366   0.258   -13.214             1       0.0751         0.940   \n",
       "4         0.689   0.564    -6.226             1       0.1360         0.187   \n",
       "\n",
       "   instrumentalness  liveness  valence    tempo  duration_ms  explicit  \\\n",
       "0           0.02600    0.2610   0.1690  169.595       263151         0   \n",
       "1           0.42700    0.2500   0.1120  104.429       261219         0   \n",
       "2           0.00030    0.1140   0.1060  124.679       209692         0   \n",
       "3           0.00225    0.1700   0.0381   61.651       216705         0   \n",
       "4           0.00000    0.0721   0.1230  185.023       212947         1   \n",
       "\n",
       "   popular  duration_per_num_sections  key__1  key__2  key__3  key__4  key__5  \\\n",
       "0        0               32893.875000       0       0       0       0       0   \n",
       "1        0               26121.900000       0       0       0       0       0   \n",
       "2        0               26211.500000       0       0       0       0       0   \n",
       "3        0               24078.333333       0       0       0       0       0   \n",
       "4        1               17745.583333       0       1       0       0       0   \n",
       "\n",
       "   key__6  key__7  key__8  key__9  key__10  key__11  time_sig__1  time_sig__3  \\\n",
       "0       0       1       0       0        0        0            0            0   \n",
       "1       0       0       0       0        0        1            0            0   \n",
       "2       0       0       0       1        0        0            0            0   \n",
       "3       0       0       0       0        0        0            0            0   \n",
       "4       0       0       0       0        0        0            0            0   \n",
       "\n",
       "   time_sig__4  time_sig__5  \n",
       "0            1            0  \n",
       "1            1            0  \n",
       "2            1            0  \n",
       "3            1            0  \n",
       "4            1            0  "
      ]
     },
     "execution_count": 19,
     "metadata": {},
     "output_type": "execute_result"
    }
   ],
   "source": [
    "df.head()"
   ]
  },
  {
   "cell_type": "markdown",
   "metadata": {},
   "source": [
    "## Important Notes\n",
    "- Genre is not released for each song, however, genre of a song would greatly affect a model. For instance, rap songs and instrumental songs likely have very different predictors as to what dictates a popular song. \n",
    "- Because, at this point in time in my course I have not been introduced to unsupervised clustering, I won't be able to model myself some machine learned genres\n",
    "- Thus, I will create 2 models for this project, based off genres that are easy to assume from spotify features. (1) A model for rap songs. Spotify API indicates that speechiness values over .22 strongly indicate rap, and so I will use this to create my rap set. (2) I will create a set for purely instrumental songs, meaning no lyrics. Spotify indicates that instrumental values over .5 represent purely instrumental songs.\n",
    "- Another feature I will hold constant is release date. Popularity can be influenced by how old a song is, and to combat this I only pulled songs from the past few years. This will add some degree of error to my model, so this would be something to improve upon in a future project."
   ]
  },
  {
   "cell_type": "markdown",
   "metadata": {},
   "source": [
    "# Modeling"
   ]
  },
  {
   "cell_type": "markdown",
   "metadata": {},
   "source": [
    "## Rap Model"
   ]
  },
  {
   "cell_type": "code",
   "execution_count": 20,
   "metadata": {},
   "outputs": [],
   "source": [
    "rap_df = df[df.speechiness >= .22]"
   ]
  },
  {
   "cell_type": "code",
   "execution_count": 21,
   "metadata": {},
   "outputs": [
    {
     "data": {
      "text/plain": [
       "0    771\n",
       "1    416\n",
       "Name: popular, dtype: int64"
      ]
     },
     "execution_count": 21,
     "metadata": {},
     "output_type": "execute_result"
    }
   ],
   "source": [
    "# Check class imbalance in this subset\n",
    "rap_df.popular.value_counts()"
   ]
  },
  {
   "cell_type": "code",
   "execution_count": 22,
   "metadata": {
    "scrolled": true
   },
   "outputs": [
    {
     "data": {
      "text/html": [
       "<div>\n",
       "<style scoped>\n",
       "    .dataframe tbody tr th:only-of-type {\n",
       "        vertical-align: middle;\n",
       "    }\n",
       "\n",
       "    .dataframe tbody tr th {\n",
       "        vertical-align: top;\n",
       "    }\n",
       "\n",
       "    .dataframe thead th {\n",
       "        text-align: right;\n",
       "    }\n",
       "</style>\n",
       "<table border=\"1\" class=\"dataframe\">\n",
       "  <thead>\n",
       "    <tr style=\"text-align: right;\">\n",
       "      <th></th>\n",
       "      <th>danceability</th>\n",
       "      <th>energy</th>\n",
       "      <th>loudness</th>\n",
       "      <th>musical_mode</th>\n",
       "      <th>speechiness</th>\n",
       "      <th>acousticness</th>\n",
       "      <th>instrumentalness</th>\n",
       "      <th>liveness</th>\n",
       "      <th>valence</th>\n",
       "      <th>tempo</th>\n",
       "      <th>duration_ms</th>\n",
       "      <th>explicit</th>\n",
       "      <th>popular</th>\n",
       "      <th>duration_per_num_sections</th>\n",
       "      <th>key__1</th>\n",
       "      <th>key__2</th>\n",
       "      <th>key__3</th>\n",
       "      <th>key__4</th>\n",
       "      <th>key__5</th>\n",
       "      <th>key__6</th>\n",
       "      <th>key__7</th>\n",
       "      <th>key__8</th>\n",
       "      <th>key__9</th>\n",
       "      <th>key__10</th>\n",
       "      <th>key__11</th>\n",
       "      <th>time_sig__1</th>\n",
       "      <th>time_sig__3</th>\n",
       "      <th>time_sig__4</th>\n",
       "      <th>time_sig__5</th>\n",
       "    </tr>\n",
       "  </thead>\n",
       "  <tbody>\n",
       "    <tr>\n",
       "      <th>44</th>\n",
       "      <td>0.320</td>\n",
       "      <td>0.934</td>\n",
       "      <td>-4.363</td>\n",
       "      <td>0</td>\n",
       "      <td>0.246</td>\n",
       "      <td>0.13400</td>\n",
       "      <td>0.000000</td>\n",
       "      <td>0.0925</td>\n",
       "      <td>0.495</td>\n",
       "      <td>138.982</td>\n",
       "      <td>196476</td>\n",
       "      <td>0</td>\n",
       "      <td>0</td>\n",
       "      <td>21830.666667</td>\n",
       "      <td>0</td>\n",
       "      <td>0</td>\n",
       "      <td>0</td>\n",
       "      <td>1</td>\n",
       "      <td>0</td>\n",
       "      <td>0</td>\n",
       "      <td>0</td>\n",
       "      <td>0</td>\n",
       "      <td>0</td>\n",
       "      <td>0</td>\n",
       "      <td>0</td>\n",
       "      <td>0</td>\n",
       "      <td>0</td>\n",
       "      <td>1</td>\n",
       "      <td>0</td>\n",
       "    </tr>\n",
       "    <tr>\n",
       "      <th>55</th>\n",
       "      <td>0.282</td>\n",
       "      <td>0.579</td>\n",
       "      <td>-12.653</td>\n",
       "      <td>0</td>\n",
       "      <td>0.380</td>\n",
       "      <td>0.05240</td>\n",
       "      <td>0.000812</td>\n",
       "      <td>0.0977</td>\n",
       "      <td>0.205</td>\n",
       "      <td>178.866</td>\n",
       "      <td>386556</td>\n",
       "      <td>0</td>\n",
       "      <td>0</td>\n",
       "      <td>20345.052632</td>\n",
       "      <td>0</td>\n",
       "      <td>0</td>\n",
       "      <td>0</td>\n",
       "      <td>0</td>\n",
       "      <td>0</td>\n",
       "      <td>0</td>\n",
       "      <td>0</td>\n",
       "      <td>0</td>\n",
       "      <td>1</td>\n",
       "      <td>0</td>\n",
       "      <td>0</td>\n",
       "      <td>0</td>\n",
       "      <td>0</td>\n",
       "      <td>1</td>\n",
       "      <td>0</td>\n",
       "    </tr>\n",
       "    <tr>\n",
       "      <th>80</th>\n",
       "      <td>0.548</td>\n",
       "      <td>0.724</td>\n",
       "      <td>-6.681</td>\n",
       "      <td>0</td>\n",
       "      <td>0.275</td>\n",
       "      <td>0.39000</td>\n",
       "      <td>0.000000</td>\n",
       "      <td>0.4690</td>\n",
       "      <td>0.481</td>\n",
       "      <td>110.066</td>\n",
       "      <td>516000</td>\n",
       "      <td>1</td>\n",
       "      <td>0</td>\n",
       "      <td>25800.000000</td>\n",
       "      <td>0</td>\n",
       "      <td>0</td>\n",
       "      <td>0</td>\n",
       "      <td>0</td>\n",
       "      <td>0</td>\n",
       "      <td>0</td>\n",
       "      <td>1</td>\n",
       "      <td>0</td>\n",
       "      <td>0</td>\n",
       "      <td>0</td>\n",
       "      <td>0</td>\n",
       "      <td>0</td>\n",
       "      <td>0</td>\n",
       "      <td>1</td>\n",
       "      <td>0</td>\n",
       "    </tr>\n",
       "    <tr>\n",
       "      <th>82</th>\n",
       "      <td>0.735</td>\n",
       "      <td>0.890</td>\n",
       "      <td>-4.886</td>\n",
       "      <td>0</td>\n",
       "      <td>0.252</td>\n",
       "      <td>0.14800</td>\n",
       "      <td>0.000000</td>\n",
       "      <td>0.3140</td>\n",
       "      <td>0.565</td>\n",
       "      <td>122.014</td>\n",
       "      <td>572547</td>\n",
       "      <td>1</td>\n",
       "      <td>0</td>\n",
       "      <td>28627.350000</td>\n",
       "      <td>0</td>\n",
       "      <td>0</td>\n",
       "      <td>0</td>\n",
       "      <td>0</td>\n",
       "      <td>0</td>\n",
       "      <td>0</td>\n",
       "      <td>0</td>\n",
       "      <td>0</td>\n",
       "      <td>0</td>\n",
       "      <td>1</td>\n",
       "      <td>0</td>\n",
       "      <td>0</td>\n",
       "      <td>0</td>\n",
       "      <td>1</td>\n",
       "      <td>0</td>\n",
       "    </tr>\n",
       "    <tr>\n",
       "      <th>85</th>\n",
       "      <td>0.713</td>\n",
       "      <td>0.883</td>\n",
       "      <td>-5.407</td>\n",
       "      <td>0</td>\n",
       "      <td>0.265</td>\n",
       "      <td>0.00588</td>\n",
       "      <td>0.000020</td>\n",
       "      <td>0.7240</td>\n",
       "      <td>0.452</td>\n",
       "      <td>124.967</td>\n",
       "      <td>338627</td>\n",
       "      <td>1</td>\n",
       "      <td>0</td>\n",
       "      <td>19919.235294</td>\n",
       "      <td>0</td>\n",
       "      <td>0</td>\n",
       "      <td>0</td>\n",
       "      <td>0</td>\n",
       "      <td>0</td>\n",
       "      <td>0</td>\n",
       "      <td>1</td>\n",
       "      <td>0</td>\n",
       "      <td>0</td>\n",
       "      <td>0</td>\n",
       "      <td>0</td>\n",
       "      <td>0</td>\n",
       "      <td>0</td>\n",
       "      <td>1</td>\n",
       "      <td>0</td>\n",
       "    </tr>\n",
       "  </tbody>\n",
       "</table>\n",
       "</div>"
      ],
      "text/plain": [
       "    danceability  energy  loudness  musical_mode  speechiness  acousticness  \\\n",
       "44         0.320   0.934    -4.363             0        0.246       0.13400   \n",
       "55         0.282   0.579   -12.653             0        0.380       0.05240   \n",
       "80         0.548   0.724    -6.681             0        0.275       0.39000   \n",
       "82         0.735   0.890    -4.886             0        0.252       0.14800   \n",
       "85         0.713   0.883    -5.407             0        0.265       0.00588   \n",
       "\n",
       "    instrumentalness  liveness  valence    tempo  duration_ms  explicit  \\\n",
       "44          0.000000    0.0925    0.495  138.982       196476         0   \n",
       "55          0.000812    0.0977    0.205  178.866       386556         0   \n",
       "80          0.000000    0.4690    0.481  110.066       516000         1   \n",
       "82          0.000000    0.3140    0.565  122.014       572547         1   \n",
       "85          0.000020    0.7240    0.452  124.967       338627         1   \n",
       "\n",
       "    popular  duration_per_num_sections  key__1  key__2  key__3  key__4  \\\n",
       "44        0               21830.666667       0       0       0       1   \n",
       "55        0               20345.052632       0       0       0       0   \n",
       "80        0               25800.000000       0       0       0       0   \n",
       "82        0               28627.350000       0       0       0       0   \n",
       "85        0               19919.235294       0       0       0       0   \n",
       "\n",
       "    key__5  key__6  key__7  key__8  key__9  key__10  key__11  time_sig__1  \\\n",
       "44       0       0       0       0       0        0        0            0   \n",
       "55       0       0       0       0       1        0        0            0   \n",
       "80       0       0       1       0       0        0        0            0   \n",
       "82       0       0       0       0       0        1        0            0   \n",
       "85       0       0       1       0       0        0        0            0   \n",
       "\n",
       "    time_sig__3  time_sig__4  time_sig__5  \n",
       "44            0            1            0  \n",
       "55            0            1            0  \n",
       "80            0            1            0  \n",
       "82            0            1            0  \n",
       "85            0            1            0  "
      ]
     },
     "execution_count": 22,
     "metadata": {},
     "output_type": "execute_result"
    }
   ],
   "source": [
    "rap_df.head()"
   ]
  },
  {
   "cell_type": "code",
   "execution_count": 28,
   "metadata": {},
   "outputs": [],
   "source": [
    "cols = ['danceability', 'energy', \n",
    "       'loudness', 'musical_mode', 'speechiness', 'acousticness',\n",
    "       'instrumentalness', 'liveness', 'valence', 'tempo', 'duration_ms',\n",
    "        'explicit', 'popular']"
   ]
  },
  {
   "cell_type": "code",
   "execution_count": 30,
   "metadata": {
    "scrolled": true
   },
   "outputs": [
    {
     "data": {
      "image/png": "[encoded data removed]",
      "text/plain": [
       "<Figure size 1296x1008 with 16 Axes>"
      ]
     },
     "metadata": {
      "needs_background": "light"
     },
     "output_type": "display_data"
    }
   ],
   "source": [
    "fig, axes = plt.subplots(nrows=4, ncols=4, figsize=(18,14))\n",
    "\n",
    "for i in range(0,13):\n",
    "    sns.distplot(rap_df[cols[i]], ax=axes[i//4][i%4], kde = False)"
   ]
  },
  {
   "cell_type": "code",
   "execution_count": 31,
   "metadata": {},
   "outputs": [
    {
     "data": {
      "text/plain": [
       "count    1187.000000\n",
       "mean        0.029425\n",
       "std         0.136153\n",
       "min         0.000000\n",
       "25%         0.000000\n",
       "50%         0.000000\n",
       "75%         0.000017\n",
       "max         0.955000\n",
       "Name: instrumentalness, dtype: float64"
      ]
     },
     "execution_count": 31,
     "metadata": {},
     "output_type": "execute_result"
    }
   ],
   "source": [
    "rap_df.instrumentalness.describe()"
   ]
  },
  {
   "cell_type": "code",
   "execution_count": 32,
   "metadata": {},
   "outputs": [
    {
     "name": "stdout",
     "output_type": "stream",
     "text": [
      "1125 Less than instrumental value: 0.1\n",
      "1089 Less than instrumental value: 0.01\n",
      "1030 Less than instrumental value: 0.001\n",
      "1015 Less than instrumental value: 0.0005\n",
      "959 Less than instrumental value: 0.0001\n",
      "854 Less than instrumental value: 1e-05\n",
      "748 Less than instrumental value: 0\n"
     ]
    }
   ],
   "source": [
    "inst_checks = [.1, .01, .001, .0005, .0001, .00001, 0]\n",
    "for check in inst_checks:\n",
    "    print(len(rap_df[rap_df.instrumentalness <= check].instrumentalness), \"Less than instrumental value: \" +  str(check))"
   ]
  },
  {
   "cell_type": "markdown",
   "metadata": {},
   "source": [
    "Some rap songs are obviously more iinstrumental than others, but based on the value counts shown above, the vast majority of our set has instrumental values under .0005. Beyond that, a majority of them do not even have instruments at all, indicated by the large number of 0s in the column. Instead of trying to fix a distribution that is beyond heavily skewed, I will instead feature engineer a new column indicating the presence of instruments in the song."
   ]
  },
  {
   "cell_type": "markdown",
   "metadata": {},
   "source": [
    "#### Engineer a new feature indicating presence of instrument\n"
   ]
  },
  {
   "cell_type": "code",
   "execution_count": 33,
   "metadata": {},
   "outputs": [
    {
     "name": "stderr",
     "output_type": "stream",
     "text": [
      "<ipython-input-33-5e1db5dc92eb>:1: SettingWithCopyWarning: \n",
      "A value is trying to be set on a copy of a slice from a DataFrame.\n",
      "Try using .loc[row_indexer,col_indexer] = value instead\n",
      "\n",
      "See the caveats in the documentation: https://pandas.pydata.org/pandas-docs/stable/user_guide/indexing.html#returning-a-view-versus-a-copy\n",
      "  rap_df['no_instruments'] = np.where(rap_df.instrumentalness == 0, 1, 0)\n"
     ]
    }
   ],
   "source": [
    "rap_df['no_instruments'] = np.where(rap_df.instrumentalness == 0, 1, 0)\n",
    "\n",
    "# ignore the warning, the code went through..."
   ]
  },
  {
   "cell_type": "code",
   "execution_count": 34,
   "metadata": {
    "scrolled": false
   },
   "outputs": [
    {
     "data": {
      "text/plain": [
       "1    748\n",
       "0    439\n",
       "Name: no_instruments, dtype: int64"
      ]
     },
     "execution_count": 34,
     "metadata": {},
     "output_type": "execute_result"
    }
   ],
   "source": [
    "rap_df.no_instruments.value_counts()"
   ]
  },
  {
   "cell_type": "code",
   "execution_count": 35,
   "metadata": {},
   "outputs": [],
   "source": [
    "cols = list(rap_df.columns)"
   ]
  },
  {
   "cell_type": "code",
   "execution_count": 36,
   "metadata": {},
   "outputs": [],
   "source": [
    "cols.remove('popular')"
   ]
  },
  {
   "cell_type": "code",
   "execution_count": 37,
   "metadata": {},
   "outputs": [
    {
     "data": {
      "text/plain": [
       "29"
      ]
     },
     "execution_count": 37,
     "metadata": {},
     "output_type": "execute_result"
    }
   ],
   "source": [
    "len(cols)"
   ]
  },
  {
   "cell_type": "code",
   "execution_count": 38,
   "metadata": {
    "scrolled": true
   },
   "outputs": [
    {
     "data": {
      "image/png": "[encoded data removed]",
      "text/plain": [
       "<Figure size 1296x1440 with 30 Axes>"
      ]
     },
     "metadata": {
      "needs_background": "light"
     },
     "output_type": "display_data"
    }
   ],
   "source": [
    "fig, axes = plt.subplots(nrows=5, ncols=6, figsize=(18,20))\n",
    "\n",
    "for i in range(0,29):\n",
    "    sns.distplot(rap_df[rap_df.popular == 1][cols[i]], ax=axes[i//6][i%6], kde = False, \n",
    "                label = 'Popular', norm_hist=True)\n",
    "    sns.distplot(rap_df[rap_df.popular == 0][cols[i]], ax=axes[i//6][i%6], kde = False, \n",
    "                 label = 'Not Popular', norm_hist=True)\n",
    "    axes[i//6][i%6].legend()"
   ]
  },
  {
   "cell_type": "markdown",
   "metadata": {},
   "source": [
    "It looks like, for rap songs, danceability, energy, and explicit have strong correlations with our predictor variable. Let's check the correlations next."
   ]
  },
  {
   "cell_type": "code",
   "execution_count": 39,
   "metadata": {
    "scrolled": false
   },
   "outputs": [
    {
     "data": {
      "text/html": [
       "<div>\n",
       "<style scoped>\n",
       "    .dataframe tbody tr th:only-of-type {\n",
       "        vertical-align: middle;\n",
       "    }\n",
       "\n",
       "    .dataframe tbody tr th {\n",
       "        vertical-align: top;\n",
       "    }\n",
       "\n",
       "    .dataframe thead th {\n",
       "        text-align: right;\n",
       "    }\n",
       "</style>\n",
       "<table border=\"1\" class=\"dataframe\">\n",
       "  <thead>\n",
       "    <tr style=\"text-align: right;\">\n",
       "      <th></th>\n",
       "      <th>feature</th>\n",
       "      <th>corr</th>\n",
       "    </tr>\n",
       "  </thead>\n",
       "  <tbody>\n",
       "    <tr>\n",
       "      <th>5</th>\n",
       "      <td>energy</td>\n",
       "      <td>-0.197779</td>\n",
       "    </tr>\n",
       "    <tr>\n",
       "      <th>6</th>\n",
       "      <td>liveness</td>\n",
       "      <td>-0.161780</td>\n",
       "    </tr>\n",
       "    <tr>\n",
       "      <th>7</th>\n",
       "      <td>instrumentalness</td>\n",
       "      <td>-0.131229</td>\n",
       "    </tr>\n",
       "    <tr>\n",
       "      <th>8</th>\n",
       "      <td>speechiness</td>\n",
       "      <td>-0.100275</td>\n",
       "    </tr>\n",
       "    <tr>\n",
       "      <th>9</th>\n",
       "      <td>time_sig__3</td>\n",
       "      <td>-0.076836</td>\n",
       "    </tr>\n",
       "    <tr>\n",
       "      <th>4</th>\n",
       "      <td>key__5</td>\n",
       "      <td>0.039808</td>\n",
       "    </tr>\n",
       "    <tr>\n",
       "      <th>3</th>\n",
       "      <td>time_sig__4</td>\n",
       "      <td>0.069696</td>\n",
       "    </tr>\n",
       "    <tr>\n",
       "      <th>2</th>\n",
       "      <td>no_instruments</td>\n",
       "      <td>0.142109</td>\n",
       "    </tr>\n",
       "    <tr>\n",
       "      <th>1</th>\n",
       "      <td>explicit</td>\n",
       "      <td>0.193232</td>\n",
       "    </tr>\n",
       "    <tr>\n",
       "      <th>0</th>\n",
       "      <td>danceability</td>\n",
       "      <td>0.195803</td>\n",
       "    </tr>\n",
       "  </tbody>\n",
       "</table>\n",
       "</div>"
      ],
      "text/plain": [
       "            feature      corr\n",
       "5            energy -0.197779\n",
       "6          liveness -0.161780\n",
       "7  instrumentalness -0.131229\n",
       "8       speechiness -0.100275\n",
       "9       time_sig__3 -0.076836\n",
       "4            key__5  0.039808\n",
       "3       time_sig__4  0.069696\n",
       "2    no_instruments  0.142109\n",
       "1          explicit  0.193232\n",
       "0      danceability  0.195803"
      ]
     },
     "execution_count": 39,
     "metadata": {},
     "output_type": "execute_result"
    }
   ],
   "source": [
    "# Get 10 most influential\n",
    "most_correlated_pos = rap_df.corr().loc['popular', :].sort_values(ascending=False)[1:6] # ignore pop corr with self\n",
    "most_correlated_neg = rap_df.corr().loc['popular', :].sort_values(ascending=True)[0:5] \n",
    "corrs = pd.concat([pd.DataFrame(most_correlated_pos), pd.DataFrame(most_correlated_neg)])\n",
    "corrs.reset_index(inplace=True)\n",
    "corrs.columns = ['feature', 'corr']\n",
    "corrs = corrs.sort_values(by = 'corr')\n",
    "corrs"
   ]
  },
  {
   "cell_type": "code",
   "execution_count": 40,
   "metadata": {
    "scrolled": true
   },
   "outputs": [
    {
     "data": {
      "text/plain": [
       "Text(0, 0.5, '')"
      ]
     },
     "execution_count": 40,
     "metadata": {},
     "output_type": "execute_result"
    },
    {
     "data": {
      "image/png": "[encoded data removed]",
      "text/plain": [
       "<Figure size 720x288 with 1 Axes>"
      ]
     },
     "metadata": {
      "needs_background": "light"
     },
     "output_type": "display_data"
    }
   ],
   "source": [
    "plt.figure(figsize=(10,4))\n",
    "sns.barplot(x='corr', y='feature', data=corrs)\n",
    "plt.title('Features Most Correlated with Popularity')\n",
    "plt.xlabel('Correlation Coefficient')\n",
    "plt.ylabel('')"
   ]
  },
  {
   "cell_type": "markdown",
   "metadata": {},
   "source": [
    "While certainly insightful, I would like to now save the rap_df in a csv and then open it up in a new notebook to apply several models to it to try and find the best one."
   ]
  },
  {
   "cell_type": "code",
   "execution_count": 41,
   "metadata": {},
   "outputs": [],
   "source": [
    "rap_df.to_csv(\"rap_df.csv\")"
   ]
  },
  {
   "cell_type": "markdown",
   "metadata": {},
   "source": [
    "## Instrumental Model"
   ]
  },
  {
   "cell_type": "code",
   "execution_count": 85,
   "metadata": {},
   "outputs": [],
   "source": [
    "inst_df = df[df.instrumentalness >= .5]"
   ]
  },
  {
   "cell_type": "code",
   "execution_count": 184,
   "metadata": {},
   "outputs": [
    {
     "data": {
      "text/plain": [
       "0    1401\n",
       "1     137\n",
       "Name: popular, dtype: int64"
      ]
     },
     "execution_count": 184,
     "metadata": {},
     "output_type": "execute_result"
    }
   ],
   "source": [
    "# Check class imbalance in this subset\n",
    "inst_df.popular.value_counts()"
   ]
  },
  {
   "cell_type": "code",
   "execution_count": null,
   "metadata": {},
   "outputs": [],
   "source": []
  },
  {
   "cell_type": "code",
   "execution_count": null,
   "metadata": {},
   "outputs": [],
   "source": []
  }
 ],
 "metadata": {
  "kernelspec": {
   "display_name": "Python 3",
   "language": "python",
   "name": "python3"
  },
  "language_info": {
   "codemirror_mode": {
    "name": "ipython",
    "version": 3
   },
   "file_extension": ".py",
   "mimetype": "text/x-python",
   "name": "python",
   "nbconvert_exporter": "python",
   "pygments_lexer": "ipython3",
   "version": "3.8.3"
  }
 },
 "nbformat": 4,
 "nbformat_minor": 4
}

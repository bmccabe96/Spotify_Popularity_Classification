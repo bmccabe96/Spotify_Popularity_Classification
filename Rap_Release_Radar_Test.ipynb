{
 "cells": [
  {
   "cell_type": "markdown",
   "metadata": {},
   "source": [
    "## About this File\n",
    "- I will pull in a playlist from spotify's release radar, meaning very new music \n",
    "- I will run voting/forest classifiers and see which does better\n",
    "- I will analyze the results at the end"
   ]
  },
  {
   "cell_type": "code",
   "execution_count": 237,
   "metadata": {},
   "outputs": [],
   "source": [
    "import pandas as pd\n",
    "import numpy as np"
   ]
  },
  {
   "cell_type": "code",
   "execution_count": 238,
   "metadata": {},
   "outputs": [],
   "source": [
    "import spotipy\n",
    "from spotipy.oauth2 import SpotifyClientCredentials\n",
    "import spotipy.util as util\n",
    "cid =\"186e8d1297e24171a54f8cff036b0426\" \n",
    "secret = \"033eaa62aa4a4383bd2102e5aa83ea6f\"\n",
    "username = \"mcbabe17\"\n",
    "client_credentials_manager = SpotifyClientCredentials(client_id=cid, client_secret=secret) \n",
    "sp = spotipy.Spotify(client_credentials_manager=client_credentials_manager)\n",
    "scope = 'user-library-read playlist-read-private playlist-modify-private user-modify-playback-state playlist-read-collaborative playlist-modify-public user-top-read user-read-currently-playing app-remote-control playlist-modify-private user-library-read'\n",
    "token = util.prompt_for_user_token(username, scope, cid, secret, 'http://localhost:8080')\n",
    "if token:\n",
    "    sp = spotipy.Spotify(auth=token)\n",
    "else:\n",
    "    print(\"Can't get token for\", username)\n"
   ]
  },
  {
   "cell_type": "code",
   "execution_count": 135,
   "metadata": {},
   "outputs": [],
   "source": [
    "rap_songs = sp.playlist('448Hwhpqil1JyN1JQtaQoo')"
   ]
  },
  {
   "cell_type": "code",
   "execution_count": 247,
   "metadata": {},
   "outputs": [
    {
     "name": "stdout",
     "output_type": "stream",
     "text": [
      "0hDbGa7JGMGeDdpyUuSoQu\n"
     ]
    }
   ],
   "source": [
    "for item in sp.current_user_playlists()['items']:\n",
    "    if item['name'] == 'rap':\n",
    "        print(item['id'])"
   ]
  },
  {
   "cell_type": "code",
   "execution_count": 248,
   "metadata": {},
   "outputs": [],
   "source": [
    "rap_songs2 = sp.playlist('0hDbGa7JGMGeDdpyUuSoQu')"
   ]
  },
  {
   "cell_type": "code",
   "execution_count": 249,
   "metadata": {},
   "outputs": [],
   "source": [
    "rap_song_ids = []\n",
    "for item in rap_songs['tracks']['items']:\n",
    "    rap_song_ids.append(item['track']['id'])\n",
    "    #print(item['track']['id'], item['track']['name'])\n",
    "    \n",
    "rap_song_ids2 = []\n",
    "for item in rap_songs2['tracks']['items']:\n",
    "    rap_song_ids2.append(item['track']['id'])"
   ]
  },
  {
   "cell_type": "code",
   "execution_count": 100,
   "metadata": {},
   "outputs": [
    {
     "name": "stderr",
     "output_type": "stream",
     "text": [
      "HTTP Error for GET to https://api.spotify.com/v1/audio-analysis/0E72UaOjGEOHJliDjq6Ivw returned 404 due to analysis not found\n",
      "HTTP Error for GET to https://api.spotify.com/v1/audio-analysis/2YGHCHkWTbtCUTjL0LUXtx returned 404 due to analysis not found\n",
      "HTTP Error for GET to https://api.spotify.com/v1/audio-analysis/53Z2zWV2bz7vKonoN31xV9 returned 404 due to analysis not found\n",
      "HTTP Error for GET to https://api.spotify.com/v1/audio-analysis/7rv7Luf0tlF9c0VloFndJZ returned 404 due to analysis not found\n",
      "HTTP Error for GET to https://api.spotify.com/v1/audio-analysis/637ni2okXtqGksPKKQFUft returned 404 due to analysis not found\n",
      "HTTP Error for GET to https://api.spotify.com/v1/audio-analysis/55f7NsJibzWMvB15OEN0Zx returned 404 due to analysis not found\n"
     ]
    }
   ],
   "source": [
    "\n",
    "feature_bad_keys = ['type', 'id', 'uri', 'track_href', 'analysis_url']  # keys to ignore\n",
    "rows = []\n",
    "\n",
    "for song in rap_song_ids:\n",
    "    try:\n",
    "        row = {'id': sp.track(song)['id']}\n",
    "        for key, value in sp.audio_features(song)[0].items():\n",
    "            if key not in feature_bad_keys:\n",
    "                row[key] = value\n",
    "        row['num_sections'] = len(sp.audio_analysis(song)['sections'])\n",
    "        track = sp.track(song)\n",
    "        row['explicit'] = 0 if track['explicit'] == False else 1\n",
    "        row['song_name'] = track['name']\n",
    "\n",
    "        row['popular'] = 0 if sp.track(song)['popularity'] < 50 else 1\n",
    "        to_add = [row['id'], row['song_name'], row['danceability'], row['energy'], row['key'], row['loudness'],\n",
    "                  row['mode'], row['speechiness'], row['acousticness'], row['instrumentalness'], row['liveness'],\n",
    "                  row['valence'], row['tempo'], row['duration_ms'], row['time_signature'], row['num_sections'],\n",
    "                  row['explicit'], row['popular']]\n",
    "        rows.append(to_add)\n",
    "    except:\n",
    "        continue\n",
    "\n",
    "\n",
    "\n"
   ]
  },
  {
   "cell_type": "code",
   "execution_count": 295,
   "metadata": {},
   "outputs": [],
   "source": [
    "df = pd.DataFrame(rows, columns=['id', 'song_name', 'danceability', 'energy', 'key', 'loudness',\n",
    "                           'mode', 'speechiness', 'acousticness', 'instrumentalness', 'liveness',\n",
    "                           'valence', 'tempo', 'duration_ms', 'time_signature', 'num_sections', \n",
    "                            'explicit', 'popular'])\n"
   ]
  },
  {
   "cell_type": "code",
   "execution_count": 296,
   "metadata": {},
   "outputs": [],
   "source": [
    "df = df[df.speechiness >= .22]\n"
   ]
  },
  {
   "cell_type": "code",
   "execution_count": 297,
   "metadata": {},
   "outputs": [
    {
     "data": {
      "text/plain": [
       "(27, 18)"
      ]
     },
     "execution_count": 297,
     "metadata": {},
     "output_type": "execute_result"
    }
   ],
   "source": [
    "df.shape"
   ]
  },
  {
   "cell_type": "code",
   "execution_count": 299,
   "metadata": {},
   "outputs": [],
   "source": [
    "names = df.song_name\n"
   ]
  },
  {
   "cell_type": "code",
   "execution_count": 300,
   "metadata": {},
   "outputs": [],
   "source": [
    "df['duration_per_num_sections'] = df.duration_ms / df.num_sections\n"
   ]
  },
  {
   "cell_type": "code",
   "execution_count": 301,
   "metadata": {},
   "outputs": [],
   "source": [
    "df.drop('num_sections', axis=1, inplace=True)\n"
   ]
  },
  {
   "cell_type": "code",
   "execution_count": 302,
   "metadata": {},
   "outputs": [],
   "source": [
    "# musical_key encoding\n",
    "keys = pd.get_dummies(df.key, prefix='key_', drop_first=True)\n",
    "df = pd.concat([df.drop('key', axis=1), keys], axis=1)\n",
    "\n"
   ]
  },
  {
   "cell_type": "code",
   "execution_count": 303,
   "metadata": {},
   "outputs": [],
   "source": [
    "# time_signature encoding\n",
    "sigs = pd.get_dummies(df.time_signature, prefix='time_sig_', drop_first=True)\n",
    "df = pd.concat([df.drop('time_signature', axis=1), sigs], axis=1)\n"
   ]
  },
  {
   "cell_type": "code",
   "execution_count": 304,
   "metadata": {},
   "outputs": [],
   "source": [
    "df.drop(['id', 'song_name'], inplace=True, axis=1)\n"
   ]
  },
  {
   "cell_type": "code",
   "execution_count": 305,
   "metadata": {},
   "outputs": [],
   "source": []
  },
  {
   "cell_type": "code",
   "execution_count": 306,
   "metadata": {},
   "outputs": [],
   "source": [
    "target = df.popular\n",
    "df.drop('popular', axis=1, inplace=True)\n",
    "\n"
   ]
  },
  {
   "cell_type": "code",
   "execution_count": 307,
   "metadata": {},
   "outputs": [],
   "source": [
    "df['no_instruments'] = np.where(df.instrumentalness == 0, 1, 0)\n"
   ]
  },
  {
   "cell_type": "code",
   "execution_count": 308,
   "metadata": {},
   "outputs": [],
   "source": [
    "df['time_sig__1'] = 0\n",
    "df['time_sig__3'] = 0\n",
    "df['key__2'] = 0\n",
    "df['key__3'] = 0\n",
    "\n"
   ]
  },
  {
   "cell_type": "code",
   "execution_count": 309,
   "metadata": {},
   "outputs": [],
   "source": [
    "df = df[['danceability', 'energy', 'loudness', 'mode', 'speechiness', 'acousticness', 'instrumentalness', \n",
    "         'liveness', 'valence', 'tempo', 'duration_ms', 'explicit', 'duration_per_num_sections', 'key__1', \n",
    "         'key__2', 'key__3', 'key__4', 'key__5', 'key__6', 'key__7', 'key__8', 'key__9', 'key__10', \n",
    "         'key__11', 'time_sig__1', 'time_sig__3', 'time_sig__4', 'time_sig__5', 'no_instruments']]\n",
    "\n"
   ]
  },
  {
   "cell_type": "markdown",
   "metadata": {},
   "source": [
    "['danceability', 'energy', 'loudness', 'musical_mode', 'speechiness',\n",
    "       'acousticness', 'instrumentalness', 'liveness', 'valence', 'tempo',\n",
    "       'duration_ms', 'explicit', 'duration_per_num_sections', 'key__1',\n",
    "       'key__2', 'key__3', 'key__4', 'key__5', 'key__6', 'key__7', 'key__8',\n",
    "       'key__9', 'key__10', 'key__11', 'time_sig__1', 'time_sig__3',\n",
    "       'time_sig__4', 'time_sig__5', 'no_instruments']"
   ]
  },
  {
   "cell_type": "code",
   "execution_count": 310,
   "metadata": {},
   "outputs": [],
   "source": [
    "df.columns = ['danceability', 'energy', 'loudness', 'musical_mode', 'speechiness', 'acousticness', \n",
    "              'instrumentalness', 'liveness', 'valence', 'tempo', 'duration_ms', 'explicit', \n",
    "              'duration_per_num_sections', 'key__1', 'key__2', 'key__3', 'key__4', 'key__5', 'key__6', \n",
    "              'key__7', 'key__8', 'key__9', 'key__10', 'key__11', 'time_sig__1', 'time_sig__3', 'time_sig__4', \n",
    "              'time_sig__5', 'no_instruments']\n"
   ]
  },
  {
   "cell_type": "code",
   "execution_count": 311,
   "metadata": {},
   "outputs": [
    {
     "data": {
      "text/plain": [
       "29"
      ]
     },
     "execution_count": 311,
     "metadata": {},
     "output_type": "execute_result"
    }
   ],
   "source": [
    "len(df.columns)"
   ]
  },
  {
   "cell_type": "code",
   "execution_count": 313,
   "metadata": {},
   "outputs": [],
   "source": [
    "forest = pd.read_pickle(\"forest.pickle\")\n",
    "voting = pd.read_pickle(\"voting.pickle\")"
   ]
  },
  {
   "cell_type": "code",
   "execution_count": null,
   "metadata": {},
   "outputs": [],
   "source": []
  },
  {
   "cell_type": "code",
   "execution_count": 314,
   "metadata": {},
   "outputs": [],
   "source": [
    "forest_preds = forest.predict(df)\n",
    "voting_preds = voting.predict(df)\n"
   ]
  },
  {
   "cell_type": "code",
   "execution_count": 315,
   "metadata": {},
   "outputs": [],
   "source": [
    "from sklearn.metrics import classification_report, confusion_matrix, accuracy_score, f1_score, recall_score"
   ]
  },
  {
   "cell_type": "code",
   "execution_count": 316,
   "metadata": {},
   "outputs": [
    {
     "name": "stdout",
     "output_type": "stream",
     "text": [
      "Accuracy: 0.5925925925925926\n",
      "F1 Score: 0.56\n"
     ]
    }
   ],
   "source": [
    "print(f\"Accuracy: {accuracy_score(target, forest_preds)}\")\n",
    "print(f\"F1 Score: {f1_score(target, forest_preds)}\")"
   ]
  },
  {
   "cell_type": "code",
   "execution_count": 317,
   "metadata": {},
   "outputs": [
    {
     "name": "stdout",
     "output_type": "stream",
     "text": [
      "Accuracy: 0.6296296296296297\n",
      "F1 Score: 0.6153846153846153\n"
     ]
    }
   ],
   "source": [
    "print(f\"Accuracy: {accuracy_score(target, voting_preds)}\")\n",
    "print(f\"F1 Score: {f1_score(target, voting_preds)}\")"
   ]
  },
  {
   "cell_type": "code",
   "execution_count": 325,
   "metadata": {},
   "outputs": [],
   "source": [
    "import seaborn as sns\n",
    "%matplotlib inline"
   ]
  },
  {
   "cell_type": "code",
   "execution_count": 328,
   "metadata": {},
   "outputs": [
    {
     "data": {
      "text/plain": [
       "1    17\n",
       "0    10\n",
       "Name: popular, dtype: int64"
      ]
     },
     "execution_count": 328,
     "metadata": {},
     "output_type": "execute_result"
    }
   ],
   "source": [
    "target.value_counts()"
   ]
  },
  {
   "cell_type": "code",
   "execution_count": 331,
   "metadata": {},
   "outputs": [
    {
     "data": {
      "image/png": "[encoded data removed]",
      "text/plain": [
       "<Figure size 432x288 with 1 Axes>"
      ]
     },
     "metadata": {
      "needs_background": "light"
     },
     "output_type": "display_data"
    }
   ],
   "source": [
    "sns.barplot(target.value_counts().index, target.value_counts())\n",
    "plt.title('Release Radar Rap Set')\n",
    "plt.ylabel('Count')\n",
    "plt.xlabel('Popular')\n",
    "plt.savefig(\"pics/release_radar_pop_count.png\")"
   ]
  },
  {
   "cell_type": "markdown",
   "metadata": {},
   "source": [
    "### Things that might explain worse performance from original rap set\n",
    "- As we can see by the distribution of popularity in this set, the majority of songs are popular\n",
    "- This is quite different than the set we trained on, which was the opposite (maybe 1 was popular for every 4 songs)\n",
    "- So, why is this the case?\n",
    "- Spotify's popularity algorithm has a time series component to it. Basically, it weighs the amount of plays against how recent those plays were. This is big. Since these songs are all knew, even if the play count isn't that high, the plays are very recent, and so the popularity is likely inflated relative to the set I trained on. \n",
    "- This explains by the difference in popularity distribution of the two sets, as well as the big drop in model performance.\n",
    "- From this, it is obvious that I would need to incorporate some kind of time analysis in my model\n",
    "- Perhaps run a regression on popularity looking at days_since_release as well as view_count"
   ]
  },
  {
   "cell_type": "code",
   "execution_count": null,
   "metadata": {},
   "outputs": [],
   "source": []
  }
 ],
 "metadata": {
  "kernelspec": {
   "display_name": "Python 3",
   "language": "python",
   "name": "python3"
  },
  "language_info": {
   "codemirror_mode": {
    "name": "ipython",
    "version": 3
   },
   "file_extension": ".py",
   "mimetype": "text/x-python",
   "name": "python",
   "nbconvert_exporter": "python",
   "pygments_lexer": "ipython3",
   "version": "3.8.3"
  }
 },
 "nbformat": 4,
 "nbformat_minor": 4
}
